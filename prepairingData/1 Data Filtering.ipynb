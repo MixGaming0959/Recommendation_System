{
 "cells": [
  {
   "cell_type": "code",
   "execution_count": 87,
   "metadata": {},
   "outputs": [],
   "source": [
    "import numpy as np\n",
    "import pandas as pd\n",
    "import matplotlib.pyplot as plt\n",
    "\n",
    "import warnings\n",
    "\n",
    "warnings.filterwarnings(\"ignore\")\n",
    "from sys import exc_info\n",
    "\n",
    "import sqlite3\n",
    "\n",
    "\n",
    "class InvalidInputError(Exception):\n",
    "    pass\n",
    "\n",
    "\n",
    "path = \"D:\\\\Coding\\Machine_Learning\\Recommendation_System\\\\\""
   ]
  },
  {
   "cell_type": "code",
   "execution_count": 88,
   "metadata": {},
   "outputs": [],
   "source": [
    "movies_item = [\"MovieID\", \"Title\", \"Genres\"]\n",
    "\n",
    "users_item = [\"UserID\", \"Gender\", \"Age\", \"Occupation\", \"Zip-code\"]\n",
    "\n",
    "ratings_item = [\"UserID\", \"MovieID\", \"Rating\", \"Timestamp\"]\n",
    "\n",
    "genres = [\n",
    "    \"Action\",\n",
    "    \"Adventure\",\n",
    "    \"Animation\",\n",
    "    \"Children's\",\n",
    "    \"Comedy\",\n",
    "    \"Crime\",\n",
    "    \"Documentary\",\n",
    "    \"Drama\",\n",
    "    \"Fantasy\",\n",
    "    \"Film-Noir\",\n",
    "    \"Horror\",\n",
    "    \"Musical\",\n",
    "    \"Mystery\",\n",
    "    \"Romance\",\n",
    "    \"Sci-Fi\",\n",
    "    \"Thriller\",\n",
    "    \"War\",\n",
    "    \"Western\",\n",
    "]\n",
    "\n",
    "movies = pd.DataFrame()\n",
    "ratings = pd.DataFrame()\n",
    "users = pd.DataFrame()"
   ]
  },
  {
   "cell_type": "code",
   "execution_count": 89,
   "metadata": {},
   "outputs": [],
   "source": [
    "folder = \"ml-25M\"\n",
    "from_loc = f\"{path}\\\\Raw_Data\\\\{folder}\\\\\"\n",
    "# movies = pd.read_csv(f'{from_loc}\\\\movies.dat', sep='::', header=None, names=movies_item, encoding='latin1')\n",
    "# ratings = pd.read_csv(f'{from_loc}\\\\ratings.dat', sep='::', header=None, names=ratings_item, encoding='latin1')\n",
    "# users = pd.read_csv(f'{from_loc}\\\\users.dat', sep='::', header=None, names=users_item, encoding='latin1')"
   ]
  },
  {
   "cell_type": "code",
   "execution_count": 90,
   "metadata": {},
   "outputs": [],
   "source": [
    "movies = pd.read_csv(\n",
    "    f\"{from_loc}\\\\movies.csv\",\n",
    "    sep=\",\",\n",
    "    header=None,\n",
    "    names=movies_item,\n",
    "    engine=\"python\",\n",
    "    skiprows=1,\n",
    ")\n",
    "\n",
    "full_movies = movies.copy()\n",
    "\n",
    "ratings = pd.read_csv(\n",
    "    f\"{from_loc}\\\\ratings.csv\",\n",
    "    sep=\",\",\n",
    "    header=None,\n",
    "    names=ratings_item,\n",
    "    engine=\"python\",\n",
    "    skiprows=1,\n",
    ")\n",
    "# users   = pd.read_csv(f'{from_loc}\\\\users.csv', sep=',', header=None, names=users_item, engine='python', skiprows=1)"
   ]
  },
  {
   "cell_type": "code",
   "execution_count": 91,
   "metadata": {},
   "outputs": [],
   "source": [
    "if \"Years\" not in movies.columns:\n",
    "    # แยกปีออกจาก Title และ แปลง Genres เป็นรายการ\n",
    "    movies[\"Years\"] = movies[\"Title\"].str.extract(r\"\\((\\d{4})\\)\")[0]\n",
    "    movies[\"Years\"].fillna(\"0\",inplace=True)\n",
    "    movies[\"Years\"] = movies[\"Years\"].astype(int)\n",
    "\n",
    "    # movies['Genres'] = movies['Genres'].str.split('|')\n",
    "\n",
    "    # ลบวงเล็บและปีออกจาก Title\n",
    "    movies[\"Title\"] = movies[\"Title\"].str.split(\"(\").str[0]\n",
    "    movies[\"Title\"] = movies[\"Title\"].str.rstrip()\n",
    "\n",
    "    ratings = ratings.rename({\"Rating\": \"userRating\"}, axis=\"columns\")\n",
    "    ratings[\"Years\"] = pd.to_datetime(ratings[\"Timestamp\"], unit=\"s\").dt.year\n",
    "    ratings['Timestamp'] = pd.to_datetime(ratings['Timestamp'], unit=\"s\").dt.date"
   ]
  },
  {
   "cell_type": "code",
   "execution_count": 92,
   "metadata": {},
   "outputs": [
    {
     "data": {
      "text/html": [
       "<div>\n",
       "<style scoped>\n",
       "    .dataframe tbody tr th:only-of-type {\n",
       "        vertical-align: middle;\n",
       "    }\n",
       "\n",
       "    .dataframe tbody tr th {\n",
       "        vertical-align: top;\n",
       "    }\n",
       "\n",
       "    .dataframe thead th {\n",
       "        text-align: right;\n",
       "    }\n",
       "</style>\n",
       "<table border=\"1\" class=\"dataframe\">\n",
       "  <thead>\n",
       "    <tr style=\"text-align: right;\">\n",
       "      <th></th>\n",
       "      <th>MovieID</th>\n",
       "      <th>Title</th>\n",
       "      <th>Genres</th>\n",
       "      <th>Years</th>\n",
       "    </tr>\n",
       "  </thead>\n",
       "  <tbody>\n",
       "    <tr>\n",
       "      <th>13495</th>\n",
       "      <td>69757</td>\n",
       "      <td></td>\n",
       "      <td>Comedy|Drama|Romance</td>\n",
       "      <td>2009</td>\n",
       "    </tr>\n",
       "    <tr>\n",
       "      <th>15292</th>\n",
       "      <td>80729</td>\n",
       "      <td></td>\n",
       "      <td>Comedy|Drama</td>\n",
       "      <td>2009</td>\n",
       "    </tr>\n",
       "    <tr>\n",
       "      <th>22515</th>\n",
       "      <td>115263</td>\n",
       "      <td></td>\n",
       "      <td>Documentary</td>\n",
       "      <td>2011</td>\n",
       "    </tr>\n",
       "    <tr>\n",
       "      <th>34557</th>\n",
       "      <td>145733</td>\n",
       "      <td></td>\n",
       "      <td>Adventure|Children</td>\n",
       "      <td>2011</td>\n",
       "    </tr>\n",
       "    <tr>\n",
       "      <th>35125</th>\n",
       "      <td>147033</td>\n",
       "      <td></td>\n",
       "      <td>Documentary|Thriller</td>\n",
       "      <td>2015</td>\n",
       "    </tr>\n",
       "    <tr>\n",
       "      <th>40668</th>\n",
       "      <td>160010</td>\n",
       "      <td></td>\n",
       "      <td>Documentary</td>\n",
       "      <td>2015</td>\n",
       "    </tr>\n",
       "    <tr>\n",
       "      <th>56000</th>\n",
       "      <td>193219</td>\n",
       "      <td></td>\n",
       "      <td>Comedy|Romance</td>\n",
       "      <td>2018</td>\n",
       "    </tr>\n",
       "  </tbody>\n",
       "</table>\n",
       "</div>"
      ],
      "text/plain": [
       "       MovieID Title                Genres  Years\n",
       "13495    69757        Comedy|Drama|Romance   2009\n",
       "15292    80729                Comedy|Drama   2009\n",
       "22515   115263                 Documentary   2011\n",
       "34557   145733          Adventure|Children   2011\n",
       "35125   147033        Documentary|Thriller   2015\n",
       "40668   160010                 Documentary   2015\n",
       "56000   193219              Comedy|Romance   2018"
      ]
     },
     "execution_count": 92,
     "metadata": {},
     "output_type": "execute_result"
    }
   ],
   "source": [
    "movies[movies[\"Title\"] == \"\"]"
   ]
  },
  {
   "cell_type": "code",
   "execution_count": 93,
   "metadata": {},
   "outputs": [],
   "source": [
    "lst_index = list(movies[movies[\"Title\"] == \"\"].index)\n",
    "\n",
    "for index in lst_index:\n",
    "    movies.at[index, \"Title\"] = full_movies.at[index, \"Title\"]"
   ]
  },
  {
   "cell_type": "code",
   "execution_count": 94,
   "metadata": {},
   "outputs": [
    {
     "data": {
      "text/html": [
       "<div>\n",
       "<style scoped>\n",
       "    .dataframe tbody tr th:only-of-type {\n",
       "        vertical-align: middle;\n",
       "    }\n",
       "\n",
       "    .dataframe tbody tr th {\n",
       "        vertical-align: top;\n",
       "    }\n",
       "\n",
       "    .dataframe thead th {\n",
       "        text-align: right;\n",
       "    }\n",
       "</style>\n",
       "<table border=\"1\" class=\"dataframe\">\n",
       "  <thead>\n",
       "    <tr style=\"text-align: right;\">\n",
       "      <th></th>\n",
       "      <th>MovieID</th>\n",
       "      <th>Title</th>\n",
       "      <th>Genres</th>\n",
       "      <th>Years</th>\n",
       "    </tr>\n",
       "  </thead>\n",
       "  <tbody>\n",
       "  </tbody>\n",
       "</table>\n",
       "</div>"
      ],
      "text/plain": [
       "Empty DataFrame\n",
       "Columns: [MovieID, Title, Genres, Years]\n",
       "Index: []"
      ]
     },
     "execution_count": 94,
     "metadata": {},
     "output_type": "execute_result"
    }
   ],
   "source": [
    "movies[movies[\"Title\"] == \"\"]"
   ]
  },
  {
   "cell_type": "markdown",
   "metadata": {},
   "source": [
    "สร้างข้อมูล โดยใช้ Faker เป็นการสุ่มสร้างข้อมูล\n"
   ]
  },
  {
   "cell_type": "code",
   "execution_count": 95,
   "metadata": {},
   "outputs": [],
   "source": [
    "from faker import Faker\n",
    "from datetime import date\n",
    "import random\n",
    "\n",
    "fake = Faker(\"th_TH\")\n",
    "userIDs = ratings[\"UserID\"].unique()\n",
    "\n",
    "dic_users = {\n",
    "    \"UserID\": [],\n",
    "    \"Username\": [],\n",
    "    \"Email\": [],\n",
    "    \"Password\": [],\n",
    "    \"Gender\": [],\n",
    "    \"Age\": [],\n",
    "}"
   ]
  },
  {
   "cell_type": "code",
   "execution_count": 96,
   "metadata": {},
   "outputs": [],
   "source": [
    "# สร้างข้อมูลผู้ใช้แบบสุ่ม\n",
    "for i in userIDs:\n",
    "    profile = fake.simple_profile()\n",
    "\n",
    "    userName = profile[\"username\"]\n",
    "    email = profile[\"mail\"]\n",
    "    password = \"12345678\"  # password = fake.password()\n",
    "    gender = profile[\"sex\"]\n",
    "    age = random.randrange(12, 60)\n",
    "\n",
    "    dic_users[\"UserID\"].append(int(i))\n",
    "    dic_users[\"Username\"].append(userName)\n",
    "    dic_users[\"Email\"].append(email)\n",
    "    dic_users[\"Password\"].append(password)\n",
    "    dic_users[\"Gender\"].append(gender)\n",
    "    dic_users[\"Age\"].append(age)\n",
    "\n",
    "users = pd.DataFrame(\n",
    "    dic_users, columns=[\"UserID\", \"Username\", \"Email\", \"Password\", \"Gender\", \"Age\"]\n",
    ")"
   ]
  },
  {
   "cell_type": "code",
   "execution_count": 97,
   "metadata": {},
   "outputs": [],
   "source": [
    "def display_pd(df_clean):\n",
    "    display(df_clean.head(5), df_clean.shape)"
   ]
  },
  {
   "cell_type": "code",
   "execution_count": 98,
   "metadata": {},
   "outputs": [],
   "source": [
    "def check_Years(df_clean):\n",
    "    movie_by_years_count = (\n",
    "        df_clean.groupby(\"Years\")\n",
    "        .count()[\"MovieID\"]\n",
    "        .sort_values(ascending=True)\n",
    "        .reset_index()\n",
    "    )\n",
    "    movie_by_years_count.rename(columns={\"MovieID\": \"No-of-Years\"}, inplace=True)\n",
    "\n",
    "    return movie_by_years_count.describe()"
   ]
  },
  {
   "cell_type": "code",
   "execution_count": 99,
   "metadata": {},
   "outputs": [
    {
     "data": {
      "text/html": [
       "<div>\n",
       "<style scoped>\n",
       "    .dataframe tbody tr th:only-of-type {\n",
       "        vertical-align: middle;\n",
       "    }\n",
       "\n",
       "    .dataframe tbody tr th {\n",
       "        vertical-align: top;\n",
       "    }\n",
       "\n",
       "    .dataframe thead th {\n",
       "        text-align: right;\n",
       "    }\n",
       "</style>\n",
       "<table border=\"1\" class=\"dataframe\">\n",
       "  <thead>\n",
       "    <tr style=\"text-align: right;\">\n",
       "      <th></th>\n",
       "      <th>MovieID</th>\n",
       "      <th>No-of-Movie-Ratings</th>\n",
       "    </tr>\n",
       "  </thead>\n",
       "  <tbody>\n",
       "    <tr>\n",
       "      <th>count</th>\n",
       "      <td>59047.000000</td>\n",
       "      <td>59047.000000</td>\n",
       "    </tr>\n",
       "    <tr>\n",
       "      <th>mean</th>\n",
       "      <td>120692.748065</td>\n",
       "      <td>423.393144</td>\n",
       "    </tr>\n",
       "    <tr>\n",
       "      <th>std</th>\n",
       "      <td>64452.508194</td>\n",
       "      <td>2477.885821</td>\n",
       "    </tr>\n",
       "    <tr>\n",
       "      <th>min</th>\n",
       "      <td>1.000000</td>\n",
       "      <td>1.000000</td>\n",
       "    </tr>\n",
       "    <tr>\n",
       "      <th>25%</th>\n",
       "      <td>78277.000000</td>\n",
       "      <td>2.000000</td>\n",
       "    </tr>\n",
       "    <tr>\n",
       "      <th>50%</th>\n",
       "      <td>136782.000000</td>\n",
       "      <td>6.000000</td>\n",
       "    </tr>\n",
       "    <tr>\n",
       "      <th>75%</th>\n",
       "      <td>173812.000000</td>\n",
       "      <td>36.000000</td>\n",
       "    </tr>\n",
       "    <tr>\n",
       "      <th>max</th>\n",
       "      <td>209171.000000</td>\n",
       "      <td>81491.000000</td>\n",
       "    </tr>\n",
       "  </tbody>\n",
       "</table>\n",
       "</div>"
      ],
      "text/plain": [
       "             MovieID  No-of-Movie-Ratings\n",
       "count   59047.000000         59047.000000\n",
       "mean   120692.748065           423.393144\n",
       "std     64452.508194          2477.885821\n",
       "min         1.000000             1.000000\n",
       "25%     78277.000000             2.000000\n",
       "50%    136782.000000             6.000000\n",
       "75%    173812.000000            36.000000\n",
       "max    209171.000000         81491.000000"
      ]
     },
     "execution_count": 99,
     "metadata": {},
     "output_type": "execute_result"
    }
   ],
   "source": [
    "movies_ratings_count = (\n",
    "    ratings[[\"MovieID\", \"UserID\"]].groupby(\"MovieID\").count()[\"UserID\"].reset_index()\n",
    ")\n",
    "movies_ratings_count.rename(columns={\"UserID\": \"No-of-Movie-Ratings\"}, inplace=True)\n",
    "\n",
    "movies_ratings_count.describe()"
   ]
  },
  {
   "cell_type": "markdown",
   "metadata": {},
   "source": [
    "1. ภาพยนคร์เรื่องนั้นต้องมีการให้คะแนนเรตติ้งมากกว่า 1,000 ครั้ง\n"
   ]
  },
  {
   "cell_type": "code",
   "execution_count": 100,
   "metadata": {},
   "outputs": [
    {
     "name": "stdout",
     "output_type": "stream",
     "text": [
      "Before Count Movie: 62423\n",
      "After  Count Movie: 3794\n"
     ]
    }
   ],
   "source": [
    "df_movies_ratings = movies_ratings_count[\n",
    "    movies_ratings_count[\"No-of-Movie-Ratings\"] >= 1000\n",
    "]\n",
    "if \"No-of-Movie-Ratings\" in df_movies_ratings.columns:\n",
    "    df_movies_ratings.drop(columns=[\"No-of-Movie-Ratings\"], inplace=True)\n",
    "\n",
    "print(\"Before Count Movie:\", movies.shape[0])\n",
    "print(\"After  Count Movie:\", df_movies_ratings.shape[0])"
   ]
  },
  {
   "cell_type": "code",
   "execution_count": 101,
   "metadata": {},
   "outputs": [
    {
     "data": {
      "text/html": [
       "<div>\n",
       "<style scoped>\n",
       "    .dataframe tbody tr th:only-of-type {\n",
       "        vertical-align: middle;\n",
       "    }\n",
       "\n",
       "    .dataframe tbody tr th {\n",
       "        vertical-align: top;\n",
       "    }\n",
       "\n",
       "    .dataframe thead th {\n",
       "        text-align: right;\n",
       "    }\n",
       "</style>\n",
       "<table border=\"1\" class=\"dataframe\">\n",
       "  <thead>\n",
       "    <tr style=\"text-align: right;\">\n",
       "      <th></th>\n",
       "      <th>Years</th>\n",
       "      <th>No-of-Years</th>\n",
       "    </tr>\n",
       "  </thead>\n",
       "  <tbody>\n",
       "    <tr>\n",
       "      <th>count</th>\n",
       "      <td>99.000000</td>\n",
       "      <td>99.000000</td>\n",
       "    </tr>\n",
       "    <tr>\n",
       "      <th>mean</th>\n",
       "      <td>1950.535354</td>\n",
       "      <td>38.323232</td>\n",
       "    </tr>\n",
       "    <tr>\n",
       "      <th>std</th>\n",
       "      <td>200.061639</td>\n",
       "      <td>44.493024</td>\n",
       "    </tr>\n",
       "    <tr>\n",
       "      <th>min</th>\n",
       "      <td>0.000000</td>\n",
       "      <td>1.000000</td>\n",
       "    </tr>\n",
       "    <tr>\n",
       "      <th>25%</th>\n",
       "      <td>1945.500000</td>\n",
       "      <td>5.000000</td>\n",
       "    </tr>\n",
       "    <tr>\n",
       "      <th>50%</th>\n",
       "      <td>1970.000000</td>\n",
       "      <td>14.000000</td>\n",
       "    </tr>\n",
       "    <tr>\n",
       "      <th>75%</th>\n",
       "      <td>1994.500000</td>\n",
       "      <td>62.500000</td>\n",
       "    </tr>\n",
       "    <tr>\n",
       "      <th>max</th>\n",
       "      <td>2019.000000</td>\n",
       "      <td>164.000000</td>\n",
       "    </tr>\n",
       "  </tbody>\n",
       "</table>\n",
       "</div>"
      ],
      "text/plain": [
       "             Years  No-of-Years\n",
       "count    99.000000    99.000000\n",
       "mean   1950.535354    38.323232\n",
       "std     200.061639    44.493024\n",
       "min       0.000000     1.000000\n",
       "25%    1945.500000     5.000000\n",
       "50%    1970.000000    14.000000\n",
       "75%    1994.500000    62.500000\n",
       "max    2019.000000   164.000000"
      ]
     },
     "metadata": {},
     "output_type": "display_data"
    },
    {
     "data": {
      "text/html": [
       "<div>\n",
       "<style scoped>\n",
       "    .dataframe tbody tr th:only-of-type {\n",
       "        vertical-align: middle;\n",
       "    }\n",
       "\n",
       "    .dataframe tbody tr th {\n",
       "        vertical-align: top;\n",
       "    }\n",
       "\n",
       "    .dataframe thead th {\n",
       "        text-align: right;\n",
       "    }\n",
       "</style>\n",
       "<table border=\"1\" class=\"dataframe\">\n",
       "  <thead>\n",
       "    <tr style=\"text-align: right;\">\n",
       "      <th></th>\n",
       "      <th>MovieID</th>\n",
       "      <th>Title</th>\n",
       "      <th>Genres</th>\n",
       "      <th>Years</th>\n",
       "    </tr>\n",
       "  </thead>\n",
       "  <tbody>\n",
       "    <tr>\n",
       "      <th>0</th>\n",
       "      <td>1</td>\n",
       "      <td>Toy Story</td>\n",
       "      <td>Adventure|Animation|Children|Comedy|Fantasy</td>\n",
       "      <td>1995</td>\n",
       "    </tr>\n",
       "    <tr>\n",
       "      <th>1</th>\n",
       "      <td>2</td>\n",
       "      <td>Jumanji</td>\n",
       "      <td>Adventure|Children|Fantasy</td>\n",
       "      <td>1995</td>\n",
       "    </tr>\n",
       "    <tr>\n",
       "      <th>2</th>\n",
       "      <td>3</td>\n",
       "      <td>Grumpier Old Men</td>\n",
       "      <td>Comedy|Romance</td>\n",
       "      <td>1995</td>\n",
       "    </tr>\n",
       "    <tr>\n",
       "      <th>3</th>\n",
       "      <td>4</td>\n",
       "      <td>Waiting to Exhale</td>\n",
       "      <td>Comedy|Drama|Romance</td>\n",
       "      <td>1995</td>\n",
       "    </tr>\n",
       "    <tr>\n",
       "      <th>4</th>\n",
       "      <td>5</td>\n",
       "      <td>Father of the Bride Part II</td>\n",
       "      <td>Comedy</td>\n",
       "      <td>1995</td>\n",
       "    </tr>\n",
       "  </tbody>\n",
       "</table>\n",
       "</div>"
      ],
      "text/plain": [
       "   MovieID                        Title  \\\n",
       "0        1                    Toy Story   \n",
       "1        2                      Jumanji   \n",
       "2        3             Grumpier Old Men   \n",
       "3        4            Waiting to Exhale   \n",
       "4        5  Father of the Bride Part II   \n",
       "\n",
       "                                        Genres  Years  \n",
       "0  Adventure|Animation|Children|Comedy|Fantasy   1995  \n",
       "1                   Adventure|Children|Fantasy   1995  \n",
       "2                               Comedy|Romance   1995  \n",
       "3                         Comedy|Drama|Romance   1995  \n",
       "4                                       Comedy   1995  "
      ]
     },
     "metadata": {},
     "output_type": "display_data"
    },
    {
     "data": {
      "text/plain": [
       "(3794, 4)"
      ]
     },
     "metadata": {},
     "output_type": "display_data"
    }
   ],
   "source": [
    "df_clean_movies = pd.merge(df_movies_ratings, movies, on=\"MovieID\")\n",
    "\n",
    "display(check_Years(df_clean_movies))\n",
    "display_pd(df_clean_movies)"
   ]
  },
  {
   "cell_type": "code",
   "execution_count": 102,
   "metadata": {},
   "outputs": [],
   "source": [
    "df_movie_ratings = pd.merge(ratings, df_clean_movies[\"MovieID\"], on=\"MovieID\")\n",
    "# display(filtered_ratings.head(5), filtered_ratings.shape)"
   ]
  },
  {
   "cell_type": "markdown",
   "metadata": {},
   "source": [
    "2. คะแนนเรตติ้งนั้นต้องมีอายุไม่เกิน 6 ปี\n"
   ]
  },
  {
   "cell_type": "markdown",
   "metadata": {},
   "source": [
    "เพราะ ในช่วงเวลา 6 ปี อาจจะสามารถเป็นนิสัยในการดูภาพยนตร์ของผู้ใช้งานได้เลย\n"
   ]
  },
  {
   "cell_type": "code",
   "execution_count": 103,
   "metadata": {},
   "outputs": [
    {
     "data": {
      "text/html": [
       "<div>\n",
       "<style scoped>\n",
       "    .dataframe tbody tr th:only-of-type {\n",
       "        vertical-align: middle;\n",
       "    }\n",
       "\n",
       "    .dataframe tbody tr th {\n",
       "        vertical-align: top;\n",
       "    }\n",
       "\n",
       "    .dataframe thead th {\n",
       "        text-align: right;\n",
       "    }\n",
       "</style>\n",
       "<table border=\"1\" class=\"dataframe\">\n",
       "  <thead>\n",
       "    <tr style=\"text-align: right;\">\n",
       "      <th></th>\n",
       "      <th>UserID</th>\n",
       "      <th>MovieID</th>\n",
       "      <th>userRating</th>\n",
       "      <th>Timestamp</th>\n",
       "      <th>Years</th>\n",
       "    </tr>\n",
       "  </thead>\n",
       "  <tbody>\n",
       "    <tr>\n",
       "      <th>1</th>\n",
       "      <td>3</td>\n",
       "      <td>296</td>\n",
       "      <td>5.0</td>\n",
       "      <td>2015-08-13</td>\n",
       "      <td>2015</td>\n",
       "    </tr>\n",
       "    <tr>\n",
       "      <th>2</th>\n",
       "      <td>4</td>\n",
       "      <td>296</td>\n",
       "      <td>4.0</td>\n",
       "      <td>2019-11-16</td>\n",
       "      <td>2019</td>\n",
       "    </tr>\n",
       "    <tr>\n",
       "      <th>9</th>\n",
       "      <td>14</td>\n",
       "      <td>296</td>\n",
       "      <td>5.0</td>\n",
       "      <td>2017-09-23</td>\n",
       "      <td>2017</td>\n",
       "    </tr>\n",
       "    <tr>\n",
       "      <th>12</th>\n",
       "      <td>19</td>\n",
       "      <td>296</td>\n",
       "      <td>3.5</td>\n",
       "      <td>2016-06-23</td>\n",
       "      <td>2016</td>\n",
       "    </tr>\n",
       "    <tr>\n",
       "      <th>19</th>\n",
       "      <td>33</td>\n",
       "      <td>296</td>\n",
       "      <td>4.5</td>\n",
       "      <td>2019-03-17</td>\n",
       "      <td>2019</td>\n",
       "    </tr>\n",
       "  </tbody>\n",
       "</table>\n",
       "</div>"
      ],
      "text/plain": [
       "    UserID  MovieID  userRating   Timestamp  Years\n",
       "1        3      296         5.0  2015-08-13   2015\n",
       "2        4      296         4.0  2019-11-16   2019\n",
       "9       14      296         5.0  2017-09-23   2017\n",
       "12      19      296         3.5  2016-06-23   2016\n",
       "19      33      296         4.5  2019-03-17   2019"
      ]
     },
     "metadata": {},
     "output_type": "display_data"
    },
    {
     "data": {
      "text/plain": [
       "(6790572, 5)"
      ]
     },
     "metadata": {},
     "output_type": "display_data"
    }
   ],
   "source": [
    "from datetime import datetime\n",
    "\n",
    "year_now = 2019  # 2023\n",
    "\n",
    "df_ratings_years = df_movie_ratings[year_now - df_movie_ratings[\"Years\"] < 6]\n",
    "\n",
    "display_pd(df_ratings_years)"
   ]
  },
  {
   "cell_type": "markdown",
   "metadata": {},
   "source": [
    "3. ผู้ใช้งานต้องมีการให้คะแนนเรตติ้งล่าสุดไม่เกิน 1 ปี\n"
   ]
  },
  {
   "cell_type": "markdown",
   "metadata": {},
   "source": [
    "เหมือนกับเช็ค ว่าที่ผู้ใช้งานที่Loginครั้งล่าสุดเมื่อ 1 ปีก่อน ข้อมูลน่าจะเก่าเกินไป และผู้ใช้อาจจะไม่เข้ามาใช้งานอีกแล้วก็ได้\n"
   ]
  },
  {
   "cell_type": "code",
   "execution_count": 104,
   "metadata": {},
   "outputs": [
    {
     "data": {
      "text/html": [
       "<div>\n",
       "<style scoped>\n",
       "    .dataframe tbody tr th:only-of-type {\n",
       "        vertical-align: middle;\n",
       "    }\n",
       "\n",
       "    .dataframe tbody tr th {\n",
       "        vertical-align: top;\n",
       "    }\n",
       "\n",
       "    .dataframe thead th {\n",
       "        text-align: right;\n",
       "    }\n",
       "</style>\n",
       "<table border=\"1\" class=\"dataframe\">\n",
       "  <thead>\n",
       "    <tr style=\"text-align: right;\">\n",
       "      <th></th>\n",
       "      <th>UserID</th>\n",
       "      <th>Last-of-Years</th>\n",
       "    </tr>\n",
       "  </thead>\n",
       "  <tbody>\n",
       "    <tr>\n",
       "      <th>count</th>\n",
       "      <td>48952.000000</td>\n",
       "      <td>48952.000000</td>\n",
       "    </tr>\n",
       "    <tr>\n",
       "      <th>mean</th>\n",
       "      <td>81249.899882</td>\n",
       "      <td>2016.801173</td>\n",
       "    </tr>\n",
       "    <tr>\n",
       "      <th>std</th>\n",
       "      <td>46993.879990</td>\n",
       "      <td>1.607167</td>\n",
       "    </tr>\n",
       "    <tr>\n",
       "      <th>min</th>\n",
       "      <td>3.000000</td>\n",
       "      <td>2014.000000</td>\n",
       "    </tr>\n",
       "    <tr>\n",
       "      <th>25%</th>\n",
       "      <td>40342.500000</td>\n",
       "      <td>2015.000000</td>\n",
       "    </tr>\n",
       "    <tr>\n",
       "      <th>50%</th>\n",
       "      <td>81139.500000</td>\n",
       "      <td>2017.000000</td>\n",
       "    </tr>\n",
       "    <tr>\n",
       "      <th>75%</th>\n",
       "      <td>122180.250000</td>\n",
       "      <td>2018.000000</td>\n",
       "    </tr>\n",
       "    <tr>\n",
       "      <th>max</th>\n",
       "      <td>162538.000000</td>\n",
       "      <td>2019.000000</td>\n",
       "    </tr>\n",
       "  </tbody>\n",
       "</table>\n",
       "</div>"
      ],
      "text/plain": [
       "              UserID  Last-of-Years\n",
       "count   48952.000000   48952.000000\n",
       "mean    81249.899882    2016.801173\n",
       "std     46993.879990       1.607167\n",
       "min         3.000000    2014.000000\n",
       "25%     40342.500000    2015.000000\n",
       "50%     81139.500000    2017.000000\n",
       "75%    122180.250000    2018.000000\n",
       "max    162538.000000    2019.000000"
      ]
     },
     "execution_count": 104,
     "metadata": {},
     "output_type": "execute_result"
    }
   ],
   "source": [
    "df_last_ratings = df_ratings_years.groupby(\"UserID\").max()[\"Years\"].reset_index()\n",
    "df_last_ratings.rename(columns={\"Years\": \"Last-of-Years\"}, inplace=True)\n",
    "df_last_ratings.describe()"
   ]
  },
  {
   "cell_type": "code",
   "execution_count": 105,
   "metadata": {},
   "outputs": [],
   "source": [
    "df_clean_last_ratings = df_last_ratings[year_now - df_last_ratings[\"Last-of-Years\"] < 1]\n",
    "if \"Last-of-Years\" in df_clean_last_ratings.columns:\n",
    "    df_clean_last_ratings.drop(columns=[\"Last-of-Years\"], inplace=True)"
   ]
  },
  {
   "cell_type": "code",
   "execution_count": 106,
   "metadata": {},
   "outputs": [
    {
     "data": {
      "text/html": [
       "<div>\n",
       "<style scoped>\n",
       "    .dataframe tbody tr th:only-of-type {\n",
       "        vertical-align: middle;\n",
       "    }\n",
       "\n",
       "    .dataframe tbody tr th {\n",
       "        vertical-align: top;\n",
       "    }\n",
       "\n",
       "    .dataframe thead th {\n",
       "        text-align: right;\n",
       "    }\n",
       "</style>\n",
       "<table border=\"1\" class=\"dataframe\">\n",
       "  <thead>\n",
       "    <tr style=\"text-align: right;\">\n",
       "      <th></th>\n",
       "      <th>UserID</th>\n",
       "      <th>MovieID</th>\n",
       "      <th>userRating</th>\n",
       "      <th>Years</th>\n",
       "    </tr>\n",
       "  </thead>\n",
       "  <tbody>\n",
       "    <tr>\n",
       "      <th>0</th>\n",
       "      <td>3</td>\n",
       "      <td>296</td>\n",
       "      <td>5.0</td>\n",
       "      <td>2015</td>\n",
       "    </tr>\n",
       "    <tr>\n",
       "      <th>1</th>\n",
       "      <td>3</td>\n",
       "      <td>1217</td>\n",
       "      <td>5.0</td>\n",
       "      <td>2015</td>\n",
       "    </tr>\n",
       "    <tr>\n",
       "      <th>2</th>\n",
       "      <td>3</td>\n",
       "      <td>1653</td>\n",
       "      <td>5.0</td>\n",
       "      <td>2015</td>\n",
       "    </tr>\n",
       "    <tr>\n",
       "      <th>3</th>\n",
       "      <td>3</td>\n",
       "      <td>4308</td>\n",
       "      <td>3.0</td>\n",
       "      <td>2015</td>\n",
       "    </tr>\n",
       "    <tr>\n",
       "      <th>4</th>\n",
       "      <td>3</td>\n",
       "      <td>5952</td>\n",
       "      <td>4.0</td>\n",
       "      <td>2015</td>\n",
       "    </tr>\n",
       "  </tbody>\n",
       "</table>\n",
       "</div>"
      ],
      "text/plain": [
       "   UserID  MovieID  userRating  Years\n",
       "0       3      296         5.0   2015\n",
       "1       3     1217         5.0   2015\n",
       "2       3     1653         5.0   2015\n",
       "3       3     4308         3.0   2015\n",
       "4       3     5952         4.0   2015"
      ]
     },
     "metadata": {},
     "output_type": "display_data"
    },
    {
     "data": {
      "text/plain": [
       "(2247560, 4)"
      ]
     },
     "metadata": {},
     "output_type": "display_data"
    }
   ],
   "source": [
    "filtered_ratings = pd.merge(df_ratings_years, df_clean_last_ratings, on=\"UserID\")\n",
    "\n",
    "if \"Timestamp\" in filtered_ratings.columns:\n",
    "    # filtered_ratings.drop(columns=['Years'], inplace=True)\n",
    "    filtered_ratings.drop(columns=[\"Timestamp\"], inplace=True)\n",
    "\n",
    "display_pd(filtered_ratings)"
   ]
  },
  {
   "cell_type": "code",
   "execution_count": 107,
   "metadata": {},
   "outputs": [],
   "source": [
    "def BeforeAfter(before, after):\n",
    "    display(after.head(5))\n",
    "    print(\"Before :\", before.shape[0])\n",
    "    print(\"After  :\", after.shape[0])"
   ]
  },
  {
   "cell_type": "markdown",
   "metadata": {},
   "source": [
    "จัดรูปแบบ Data ของ Movie และ User ตามที่มีในตาราง filtered_ratings\n"
   ]
  },
  {
   "cell_type": "markdown",
   "metadata": {},
   "source": [
    "Movie\n"
   ]
  },
  {
   "cell_type": "code",
   "execution_count": 108,
   "metadata": {},
   "outputs": [
    {
     "data": {
      "text/html": [
       "<div>\n",
       "<style scoped>\n",
       "    .dataframe tbody tr th:only-of-type {\n",
       "        vertical-align: middle;\n",
       "    }\n",
       "\n",
       "    .dataframe tbody tr th {\n",
       "        vertical-align: top;\n",
       "    }\n",
       "\n",
       "    .dataframe thead th {\n",
       "        text-align: right;\n",
       "    }\n",
       "</style>\n",
       "<table border=\"1\" class=\"dataframe\">\n",
       "  <thead>\n",
       "    <tr style=\"text-align: right;\">\n",
       "      <th></th>\n",
       "      <th>MovieID</th>\n",
       "      <th>Title</th>\n",
       "      <th>Genres</th>\n",
       "      <th>Years</th>\n",
       "    </tr>\n",
       "  </thead>\n",
       "  <tbody>\n",
       "    <tr>\n",
       "      <th>0</th>\n",
       "      <td>1</td>\n",
       "      <td>Toy Story</td>\n",
       "      <td>Adventure|Animation|Children|Comedy|Fantasy</td>\n",
       "      <td>1995</td>\n",
       "    </tr>\n",
       "    <tr>\n",
       "      <th>1</th>\n",
       "      <td>2</td>\n",
       "      <td>Jumanji</td>\n",
       "      <td>Adventure|Children|Fantasy</td>\n",
       "      <td>1995</td>\n",
       "    </tr>\n",
       "    <tr>\n",
       "      <th>2</th>\n",
       "      <td>3</td>\n",
       "      <td>Grumpier Old Men</td>\n",
       "      <td>Comedy|Romance</td>\n",
       "      <td>1995</td>\n",
       "    </tr>\n",
       "    <tr>\n",
       "      <th>3</th>\n",
       "      <td>4</td>\n",
       "      <td>Waiting to Exhale</td>\n",
       "      <td>Comedy|Drama|Romance</td>\n",
       "      <td>1995</td>\n",
       "    </tr>\n",
       "    <tr>\n",
       "      <th>4</th>\n",
       "      <td>5</td>\n",
       "      <td>Father of the Bride Part II</td>\n",
       "      <td>Comedy</td>\n",
       "      <td>1995</td>\n",
       "    </tr>\n",
       "  </tbody>\n",
       "</table>\n",
       "</div>"
      ],
      "text/plain": [
       "   MovieID                        Title  \\\n",
       "0        1                    Toy Story   \n",
       "1        2                      Jumanji   \n",
       "2        3             Grumpier Old Men   \n",
       "3        4            Waiting to Exhale   \n",
       "4        5  Father of the Bride Part II   \n",
       "\n",
       "                                        Genres  Years  \n",
       "0  Adventure|Animation|Children|Comedy|Fantasy   1995  \n",
       "1                   Adventure|Children|Fantasy   1995  \n",
       "2                               Comedy|Romance   1995  \n",
       "3                         Comedy|Drama|Romance   1995  \n",
       "4                                       Comedy   1995  "
      ]
     },
     "metadata": {},
     "output_type": "display_data"
    },
    {
     "name": "stdout",
     "output_type": "stream",
     "text": [
      "Before : 62423\n",
      "After  : 3794\n"
     ]
    }
   ],
   "source": [
    "filtered_movies = pd.DataFrame(\n",
    "    filtered_ratings[\"MovieID\"].unique(), columns=[\"MovieID\"]\n",
    ")\n",
    "\n",
    "df_movies = pd.merge(movies, filtered_movies, on=\"MovieID\")\n",
    "BeforeAfter(movies, df_movies)"
   ]
  },
  {
   "cell_type": "markdown",
   "metadata": {},
   "source": [
    "User\n"
   ]
  },
  {
   "cell_type": "code",
   "execution_count": 109,
   "metadata": {},
   "outputs": [
    {
     "data": {
      "text/html": [
       "<div>\n",
       "<style scoped>\n",
       "    .dataframe tbody tr th:only-of-type {\n",
       "        vertical-align: middle;\n",
       "    }\n",
       "\n",
       "    .dataframe tbody tr th {\n",
       "        vertical-align: top;\n",
       "    }\n",
       "\n",
       "    .dataframe thead th {\n",
       "        text-align: right;\n",
       "    }\n",
       "</style>\n",
       "<table border=\"1\" class=\"dataframe\">\n",
       "  <thead>\n",
       "    <tr style=\"text-align: right;\">\n",
       "      <th></th>\n",
       "      <th>UserID</th>\n",
       "      <th>Username</th>\n",
       "      <th>Email</th>\n",
       "      <th>Password</th>\n",
       "      <th>Gender</th>\n",
       "      <th>Age</th>\n",
       "    </tr>\n",
       "  </thead>\n",
       "  <tbody>\n",
       "    <tr>\n",
       "      <th>0</th>\n",
       "      <td>1</td>\n",
       "      <td>praedim56</td>\n",
       "      <td>rphasphngsthngpaaknam@outlook.com</td>\n",
       "      <td>12345678</td>\n",
       "      <td>M</td>\n",
       "      <td>50</td>\n",
       "    </tr>\n",
       "    <tr>\n",
       "      <th>1</th>\n",
       "      <td>2</td>\n",
       "      <td>thitikulbawephuuen</td>\n",
       "      <td>phaadiila59@protonmail.com</td>\n",
       "      <td>12345678</td>\n",
       "      <td>F</td>\n",
       "      <td>15</td>\n",
       "    </tr>\n",
       "    <tr>\n",
       "      <th>2</th>\n",
       "      <td>3</td>\n",
       "      <td>mnaathaedcha</td>\n",
       "      <td>mattikaa51@gmail.com</td>\n",
       "      <td>12345678</td>\n",
       "      <td>F</td>\n",
       "      <td>47</td>\n",
       "    </tr>\n",
       "    <tr>\n",
       "      <th>3</th>\n",
       "      <td>4</td>\n",
       "      <td>qdwngosn</td>\n",
       "      <td>fngaamphiechsth@ymail.com</td>\n",
       "      <td>12345678</td>\n",
       "      <td>F</td>\n",
       "      <td>13</td>\n",
       "    </tr>\n",
       "    <tr>\n",
       "      <th>4</th>\n",
       "      <td>5</td>\n",
       "      <td>sthungengin</td>\n",
       "      <td>nathcchsakditantraacchin@outlook.com</td>\n",
       "      <td>12345678</td>\n",
       "      <td>F</td>\n",
       "      <td>37</td>\n",
       "    </tr>\n",
       "  </tbody>\n",
       "</table>\n",
       "</div>"
      ],
      "text/plain": [
       "   UserID            Username                                 Email  Password  \\\n",
       "0       1           praedim56     rphasphngsthngpaaknam@outlook.com  12345678   \n",
       "1       2  thitikulbawephuuen            phaadiila59@protonmail.com  12345678   \n",
       "2       3        mnaathaedcha                  mattikaa51@gmail.com  12345678   \n",
       "3       4            qdwngosn             fngaamphiechsth@ymail.com  12345678   \n",
       "4       5         sthungengin  nathcchsakditantraacchin@outlook.com  12345678   \n",
       "\n",
       "  Gender  Age  \n",
       "0      M   50  \n",
       "1      F   15  \n",
       "2      F   47  \n",
       "3      F   13  \n",
       "4      F   37  "
      ]
     },
     "metadata": {},
     "output_type": "display_data"
    },
    {
     "name": "stdout",
     "output_type": "stream",
     "text": [
      "Before : 162541\n",
      "After  : 162541\n"
     ]
    }
   ],
   "source": [
    "df_users = users.copy()\n",
    "BeforeAfter(users, df_users)"
   ]
  },
  {
   "cell_type": "markdown",
   "metadata": {},
   "source": [
    "Active Users in Rating\n"
   ]
  },
  {
   "cell_type": "code",
   "execution_count": 110,
   "metadata": {},
   "outputs": [
    {
     "data": {
      "text/html": [
       "<div>\n",
       "<style scoped>\n",
       "    .dataframe tbody tr th:only-of-type {\n",
       "        vertical-align: middle;\n",
       "    }\n",
       "\n",
       "    .dataframe tbody tr th {\n",
       "        vertical-align: top;\n",
       "    }\n",
       "\n",
       "    .dataframe thead th {\n",
       "        text-align: right;\n",
       "    }\n",
       "</style>\n",
       "<table border=\"1\" class=\"dataframe\">\n",
       "  <thead>\n",
       "    <tr style=\"text-align: right;\">\n",
       "      <th></th>\n",
       "      <th>UserID</th>\n",
       "      <th>Username</th>\n",
       "      <th>Email</th>\n",
       "      <th>Password</th>\n",
       "      <th>Gender</th>\n",
       "      <th>Age</th>\n",
       "    </tr>\n",
       "  </thead>\n",
       "  <tbody>\n",
       "    <tr>\n",
       "      <th>0</th>\n",
       "      <td>3</td>\n",
       "      <td>mnaathaedcha</td>\n",
       "      <td>mattikaa51@gmail.com</td>\n",
       "      <td>12345678</td>\n",
       "      <td>F</td>\n",
       "      <td>47</td>\n",
       "    </tr>\n",
       "    <tr>\n",
       "      <th>1</th>\n",
       "      <td>4</td>\n",
       "      <td>qdwngosn</td>\n",
       "      <td>fngaamphiechsth@ymail.com</td>\n",
       "      <td>12345678</td>\n",
       "      <td>F</td>\n",
       "      <td>13</td>\n",
       "    </tr>\n",
       "    <tr>\n",
       "      <th>2</th>\n",
       "      <td>33</td>\n",
       "      <td>nkhrethphpracchin</td>\n",
       "      <td>lthngyuu@ymail.com</td>\n",
       "      <td>12345678</td>\n",
       "      <td>M</td>\n",
       "      <td>37</td>\n",
       "    </tr>\n",
       "    <tr>\n",
       "      <th>3</th>\n",
       "      <td>63</td>\n",
       "      <td>thuupawiorcchnthiwatr</td>\n",
       "      <td>vthrrmemthaa@protonmail.com</td>\n",
       "      <td>12345678</td>\n",
       "      <td>M</td>\n",
       "      <td>51</td>\n",
       "    </tr>\n",
       "    <tr>\n",
       "      <th>4</th>\n",
       "      <td>76</td>\n",
       "      <td>nilwrrnkngsin</td>\n",
       "      <td>phimphkaantdisdain@kon.in.th</td>\n",
       "      <td>12345678</td>\n",
       "      <td>M</td>\n",
       "      <td>30</td>\n",
       "    </tr>\n",
       "  </tbody>\n",
       "</table>\n",
       "</div>"
      ],
      "text/plain": [
       "   UserID               Username                         Email  Password  \\\n",
       "0       3           mnaathaedcha          mattikaa51@gmail.com  12345678   \n",
       "1       4               qdwngosn     fngaamphiechsth@ymail.com  12345678   \n",
       "2      33      nkhrethphpracchin            lthngyuu@ymail.com  12345678   \n",
       "3      63  thuupawiorcchnthiwatr   vthrrmemthaa@protonmail.com  12345678   \n",
       "4      76          nilwrrnkngsin  phimphkaantdisdain@kon.in.th  12345678   \n",
       "\n",
       "  Gender  Age  \n",
       "0      F   47  \n",
       "1      F   13  \n",
       "2      M   37  \n",
       "3      M   51  \n",
       "4      M   30  "
      ]
     },
     "metadata": {},
     "output_type": "display_data"
    },
    {
     "name": "stdout",
     "output_type": "stream",
     "text": [
      "Before : 162541\n",
      "After  : 10445\n"
     ]
    }
   ],
   "source": [
    "active_user = pd.DataFrame(\n",
    "    {\"UserID\": filtered_ratings[\"UserID\"].unique()}, columns=[\"UserID\"]\n",
    ")\n",
    "active_user = df_users.merge(active_user, on=\"UserID\", how=\"inner\")\n",
    "\n",
    "BeforeAfter(df_users, active_user)"
   ]
  },
  {
   "cell_type": "markdown",
   "metadata": {},
   "source": [
    "Rating\n"
   ]
  },
  {
   "cell_type": "code",
   "execution_count": 111,
   "metadata": {},
   "outputs": [
    {
     "data": {
      "text/html": [
       "<div>\n",
       "<style scoped>\n",
       "    .dataframe tbody tr th:only-of-type {\n",
       "        vertical-align: middle;\n",
       "    }\n",
       "\n",
       "    .dataframe tbody tr th {\n",
       "        vertical-align: top;\n",
       "    }\n",
       "\n",
       "    .dataframe thead th {\n",
       "        text-align: right;\n",
       "    }\n",
       "</style>\n",
       "<table border=\"1\" class=\"dataframe\">\n",
       "  <thead>\n",
       "    <tr style=\"text-align: right;\">\n",
       "      <th></th>\n",
       "      <th>UserID</th>\n",
       "      <th>MovieID</th>\n",
       "      <th>userRating</th>\n",
       "      <th>Years</th>\n",
       "    </tr>\n",
       "  </thead>\n",
       "  <tbody>\n",
       "    <tr>\n",
       "      <th>0</th>\n",
       "      <td>3</td>\n",
       "      <td>296</td>\n",
       "      <td>5.0</td>\n",
       "      <td>2015</td>\n",
       "    </tr>\n",
       "    <tr>\n",
       "      <th>1</th>\n",
       "      <td>3</td>\n",
       "      <td>1217</td>\n",
       "      <td>5.0</td>\n",
       "      <td>2015</td>\n",
       "    </tr>\n",
       "    <tr>\n",
       "      <th>2</th>\n",
       "      <td>3</td>\n",
       "      <td>1653</td>\n",
       "      <td>5.0</td>\n",
       "      <td>2015</td>\n",
       "    </tr>\n",
       "    <tr>\n",
       "      <th>3</th>\n",
       "      <td>3</td>\n",
       "      <td>4308</td>\n",
       "      <td>3.0</td>\n",
       "      <td>2015</td>\n",
       "    </tr>\n",
       "    <tr>\n",
       "      <th>4</th>\n",
       "      <td>3</td>\n",
       "      <td>5952</td>\n",
       "      <td>4.0</td>\n",
       "      <td>2015</td>\n",
       "    </tr>\n",
       "  </tbody>\n",
       "</table>\n",
       "</div>"
      ],
      "text/plain": [
       "   UserID  MovieID  userRating  Years\n",
       "0       3      296         5.0   2015\n",
       "1       3     1217         5.0   2015\n",
       "2       3     1653         5.0   2015\n",
       "3       3     4308         3.0   2015\n",
       "4       3     5952         4.0   2015"
      ]
     },
     "metadata": {},
     "output_type": "display_data"
    },
    {
     "name": "stdout",
     "output_type": "stream",
     "text": [
      "Before : 25000095\n",
      "After  : 2247560\n"
     ]
    }
   ],
   "source": [
    "df_ratings = filtered_ratings[[\"UserID\", \"MovieID\", \"userRating\", \"Years\"]].copy()\n",
    "\n",
    "BeforeAfter(ratings, df_ratings)"
   ]
  },
  {
   "cell_type": "markdown",
   "metadata": {},
   "source": [
    "Save File to database SQL\n"
   ]
  },
  {
   "cell_type": "code",
   "execution_count": 118,
   "metadata": {},
   "outputs": [],
   "source": [
    "import sqlite3\n",
    "import os\n",
    "\n",
    "path = r\"D:\\Coding\\Machine_Learning\\Recommendation_System\\input\"\n",
    "\n",
    "def saveDatabase(path, table, df):\n",
    "    path += \"\\\\\" + table + \".db\"\n",
    "\n",
    "    # Check มี File นั้นหรือไม่\n",
    "    key = os.path.exists(path)\n",
    "    if key:\n",
    "        os.remove(path)\n",
    "    conn = sqlite3.connect(path)\n",
    "    df.to_sql(table, conn, if_exists=\"replace\", index=False)\n",
    "    conn.close()\n",
    "    print(f\"Save: {table}\")"
   ]
  },
  {
   "cell_type": "code",
   "execution_count": 119,
   "metadata": {},
   "outputs": [
    {
     "name": "stdout",
     "output_type": "stream",
     "text": [
      "Save: movies\n",
      "Save: users\n",
      "Save: ratings\n"
     ]
    }
   ],
   "source": [
    "saveDatabase(path, 'movies', df_movies)\n",
    "saveDatabase(path, \"users\", df_users)\n",
    "saveDatabase(path, \"ratings\", df_ratings)"
   ]
  }
 ],
 "metadata": {
  "kernelspec": {
   "display_name": "Python 3",
   "language": "python",
   "name": "python3"
  },
  "language_info": {
   "codemirror_mode": {
    "name": "ipython",
    "version": 3
   },
   "file_extension": ".py",
   "mimetype": "text/x-python",
   "name": "python",
   "nbconvert_exporter": "python",
   "pygments_lexer": "ipython3",
   "version": "3.10.4"
  },
  "orig_nbformat": 4
 },
 "nbformat": 4,
 "nbformat_minor": 2
}
