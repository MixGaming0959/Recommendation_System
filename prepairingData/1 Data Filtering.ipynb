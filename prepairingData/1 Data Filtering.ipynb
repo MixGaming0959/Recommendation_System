{
 "cells": [
  {
   "cell_type": "code",
   "execution_count": 1,
   "metadata": {},
   "outputs": [],
   "source": [
    "import numpy as np\n",
    "import pandas as pd\n",
    "import matplotlib.pyplot as plt\n",
    "\n",
    "import warnings\n",
    "warnings.filterwarnings('ignore')\n",
    "from sys import exc_info\n",
    "\n",
    "import sqlite3\n",
    "\n",
    "class InvalidInputError(Exception):\n",
    "    pass\n",
    "\n",
    "path = \"D:\\\\Coding\\Machine_Learning\\Recommendation_System\\\\\""
   ]
  },
  {
   "cell_type": "code",
   "execution_count": 2,
   "metadata": {},
   "outputs": [],
   "source": [
    "movies_item = ['MovieID','Title','Genres']\n",
    "\n",
    "users_item = ['UserID','Gender','Age','Occupation','Zip-code']\n",
    "\n",
    "ratings_item = ['UserID','MovieID','Rating','Timestamp']\n",
    "\n",
    "genres = [ 'Action' ,'Adventure','Animation','Children\\'s','Comedy','Crime','Documentary','Drama','Fantasy','Film-Noir'\n",
    ",'Horror','Musical','Mystery','Romance','Sci-Fi','Thriller','War','Western']\n",
    "\n",
    "movies = pd.DataFrame()\n",
    "ratings = pd.DataFrame()\n",
    "users = pd.DataFrame()"
   ]
  },
  {
   "cell_type": "code",
   "execution_count": 3,
   "metadata": {},
   "outputs": [],
   "source": [
    "folder = 'ml-25M'\n",
    "from_loc = f'{path}\\\\Raw_Data\\\\{folder}\\\\'\n",
    "# movies = pd.read_csv(f'{from_loc}\\\\movies.dat', sep='::', header=None, names=movies_item, encoding='latin1')\n",
    "# ratings = pd.read_csv(f'{from_loc}\\\\ratings.dat', sep='::', header=None, names=ratings_item, encoding='latin1')\n",
    "# users = pd.read_csv(f'{from_loc}\\\\users.dat', sep='::', header=None, names=users_item, encoding='latin1')"
   ]
  },
  {
   "cell_type": "code",
   "execution_count": 4,
   "metadata": {},
   "outputs": [],
   "source": [
    "movies  = pd.read_csv(f'{from_loc}\\\\movies.csv', sep=',', header=None, names=movies_item, engine='python', skiprows=1)\n",
    "ratings = pd.read_csv(f'{from_loc}\\\\ratings.csv', sep=',', header=None, names=ratings_item, engine='python', skiprows=1)\n",
    "# users   = pd.read_csv(f'{from_loc}\\\\users.csv', sep=',', header=None, names=users_item, engine='python', skiprows=1)"
   ]
  },
  {
   "cell_type": "code",
   "execution_count": 26,
   "metadata": {},
   "outputs": [],
   "source": [
    "if 'Years' not in movies.columns:\n",
    "    # แยกปีออกจาก Title และ แปลง Genres เป็นรายการ\n",
    "    movies['Years'] = movies['Title'].str.extract(r'\\((\\d{4})\\)')[0]\n",
    "    movies['Years'] = pd.to_numeric(movies['Years'])\n",
    "\n",
    "    # movies['Genres'] = movies['Genres'].str.split('|')\n",
    "\n",
    "    # ลบวงเล็บและปีออกจาก Title\n",
    "    movies['Title'] = movies['Title'].str.split('(').str[0]\n",
    "    \n",
    "    ratings = ratings.rename({'Rating':'userRating'}, axis='columns')\n",
    "    ratings['Years'] = pd.to_datetime(ratings['Timestamp'], unit=\"s\").dt.year\n",
    "    # ratings['Timestamp'] = pd.to_datetime(ratings['Timestamp'], unit=\"s\").dt.date\n",
    "    \n"
   ]
  },
  {
   "cell_type": "markdown",
   "metadata": {},
   "source": [
    "สร้างข้อมูล โดยใช้ Faker เป็นการสุ่มสร้างข้อมูล"
   ]
  },
  {
   "cell_type": "code",
   "execution_count": 6,
   "metadata": {},
   "outputs": [],
   "source": [
    "from faker import Faker\n",
    "\n",
    "fake = Faker()\n",
    "userIDs = ratings[\"UserID\"].unique()\n",
    "\n",
    "dic_users = {\"UserID\":[], \"FirstName\":[], \"LastName\":[], \"Email\":[], \"Password\":[]}\n",
    "\n",
    "# สร้างข้อมูลผู้ใช้แบบสุ่ม\n",
    "for i in userIDs:  \n",
    "    first_name = fake.first_name()\n",
    "    last_name = fake.last_name()\n",
    "    email = fake.email()\n",
    "\n",
    "    # password = fake.password()\n",
    "    password = \"12345678\"\n",
    "    \n",
    "    dic_users[\"UserID\"].append(int(i))\n",
    "    dic_users[\"FirstName\"].append(first_name)\n",
    "    dic_users[\"LastName\"].append(last_name)\n",
    "    dic_users[\"Email\"].append(email)\n",
    "    dic_users[\"Password\"].append(password)\n",
    "\n",
    "users = pd.DataFrame(dic_users, columns=[\"UserID\", \"FirstName\", \"LastName\", \"Email\", \"Password\"])"
   ]
  },
  {
   "cell_type": "code",
   "execution_count": 7,
   "metadata": {},
   "outputs": [],
   "source": [
    "def display_pd(df_clean):\n",
    "    display(df_clean.head(5), df_clean.shape)"
   ]
  },
  {
   "cell_type": "code",
   "execution_count": 8,
   "metadata": {},
   "outputs": [],
   "source": [
    "def check_Years(df_clean):   \n",
    "    movie_by_years_count = df_clean.groupby('Years').count()['MovieID'].sort_values(ascending=True).reset_index()\n",
    "    movie_by_years_count.rename(columns={'MovieID':'No-of-Years'}, inplace=True)\n",
    "\n",
    "    return movie_by_years_count.describe()"
   ]
  },
  {
   "cell_type": "code",
   "execution_count": 28,
   "metadata": {},
   "outputs": [
    {
     "data": {
      "text/html": [
       "<div>\n",
       "<style scoped>\n",
       "    .dataframe tbody tr th:only-of-type {\n",
       "        vertical-align: middle;\n",
       "    }\n",
       "\n",
       "    .dataframe tbody tr th {\n",
       "        vertical-align: top;\n",
       "    }\n",
       "\n",
       "    .dataframe thead th {\n",
       "        text-align: right;\n",
       "    }\n",
       "</style>\n",
       "<table border=\"1\" class=\"dataframe\">\n",
       "  <thead>\n",
       "    <tr style=\"text-align: right;\">\n",
       "      <th></th>\n",
       "      <th>MovieID</th>\n",
       "      <th>No-of-Movie-Ratings</th>\n",
       "    </tr>\n",
       "  </thead>\n",
       "  <tbody>\n",
       "    <tr>\n",
       "      <th>count</th>\n",
       "      <td>59047.000000</td>\n",
       "      <td>59047.000000</td>\n",
       "    </tr>\n",
       "    <tr>\n",
       "      <th>mean</th>\n",
       "      <td>120692.748065</td>\n",
       "      <td>423.393144</td>\n",
       "    </tr>\n",
       "    <tr>\n",
       "      <th>std</th>\n",
       "      <td>64452.508194</td>\n",
       "      <td>2477.885821</td>\n",
       "    </tr>\n",
       "    <tr>\n",
       "      <th>min</th>\n",
       "      <td>1.000000</td>\n",
       "      <td>1.000000</td>\n",
       "    </tr>\n",
       "    <tr>\n",
       "      <th>25%</th>\n",
       "      <td>78277.000000</td>\n",
       "      <td>2.000000</td>\n",
       "    </tr>\n",
       "    <tr>\n",
       "      <th>50%</th>\n",
       "      <td>136782.000000</td>\n",
       "      <td>6.000000</td>\n",
       "    </tr>\n",
       "    <tr>\n",
       "      <th>75%</th>\n",
       "      <td>173812.000000</td>\n",
       "      <td>36.000000</td>\n",
       "    </tr>\n",
       "    <tr>\n",
       "      <th>max</th>\n",
       "      <td>209171.000000</td>\n",
       "      <td>81491.000000</td>\n",
       "    </tr>\n",
       "  </tbody>\n",
       "</table>\n",
       "</div>"
      ],
      "text/plain": [
       "             MovieID  No-of-Movie-Ratings\n",
       "count   59047.000000         59047.000000\n",
       "mean   120692.748065           423.393144\n",
       "std     64452.508194          2477.885821\n",
       "min         1.000000             1.000000\n",
       "25%     78277.000000             2.000000\n",
       "50%    136782.000000             6.000000\n",
       "75%    173812.000000            36.000000\n",
       "max    209171.000000         81491.000000"
      ]
     },
     "execution_count": 28,
     "metadata": {},
     "output_type": "execute_result"
    }
   ],
   "source": [
    "movies_ratings_count = ratings[['MovieID', 'UserID']].groupby('MovieID').count()['UserID'].reset_index()\n",
    "movies_ratings_count.rename(columns={'UserID':'No-of-Movie-Ratings'}, inplace=True)\n",
    "\n",
    "movies_ratings_count.describe()"
   ]
  },
  {
   "cell_type": "markdown",
   "metadata": {},
   "source": [
    "มีการดูหนังมากกว่า 1000 ครั้ง"
   ]
  },
  {
   "cell_type": "code",
   "execution_count": 29,
   "metadata": {},
   "outputs": [
    {
     "name": "stdout",
     "output_type": "stream",
     "text": [
      "Before Count Movie: 62423\n",
      "After  Count Movie: 3794\n"
     ]
    }
   ],
   "source": [
    "df_movies_ratings = movies_ratings_count[movies_ratings_count['No-of-Movie-Ratings'] >= 1000]\n",
    "if 'No-of-Movie-Ratings' in df_movies_ratings.columns :\n",
    "    df_movies_ratings.drop(columns=['No-of-Movie-Ratings'], inplace=True)\n",
    "    \n",
    "print(\"Before Count Movie:\", movies.shape[0])\n",
    "print(\"After  Count Movie:\", df_movies_ratings.shape[0])"
   ]
  },
  {
   "cell_type": "code",
   "execution_count": 30,
   "metadata": {},
   "outputs": [
    {
     "data": {
      "text/html": [
       "<div>\n",
       "<style scoped>\n",
       "    .dataframe tbody tr th:only-of-type {\n",
       "        vertical-align: middle;\n",
       "    }\n",
       "\n",
       "    .dataframe tbody tr th {\n",
       "        vertical-align: top;\n",
       "    }\n",
       "\n",
       "    .dataframe thead th {\n",
       "        text-align: right;\n",
       "    }\n",
       "</style>\n",
       "<table border=\"1\" class=\"dataframe\">\n",
       "  <thead>\n",
       "    <tr style=\"text-align: right;\">\n",
       "      <th></th>\n",
       "      <th>Years</th>\n",
       "      <th>No-of-Years</th>\n",
       "    </tr>\n",
       "  </thead>\n",
       "  <tbody>\n",
       "    <tr>\n",
       "      <th>count</th>\n",
       "      <td>98.000000</td>\n",
       "      <td>98.000000</td>\n",
       "    </tr>\n",
       "    <tr>\n",
       "      <th>mean</th>\n",
       "      <td>1970.438776</td>\n",
       "      <td>38.673469</td>\n",
       "    </tr>\n",
       "    <tr>\n",
       "      <th>std</th>\n",
       "      <td>28.539380</td>\n",
       "      <td>44.584398</td>\n",
       "    </tr>\n",
       "    <tr>\n",
       "      <th>min</th>\n",
       "      <td>1920.000000</td>\n",
       "      <td>1.000000</td>\n",
       "    </tr>\n",
       "    <tr>\n",
       "      <th>25%</th>\n",
       "      <td>1946.250000</td>\n",
       "      <td>5.250000</td>\n",
       "    </tr>\n",
       "    <tr>\n",
       "      <th>50%</th>\n",
       "      <td>1970.500000</td>\n",
       "      <td>14.500000</td>\n",
       "    </tr>\n",
       "    <tr>\n",
       "      <th>75%</th>\n",
       "      <td>1994.750000</td>\n",
       "      <td>62.750000</td>\n",
       "    </tr>\n",
       "    <tr>\n",
       "      <th>max</th>\n",
       "      <td>2019.000000</td>\n",
       "      <td>164.000000</td>\n",
       "    </tr>\n",
       "  </tbody>\n",
       "</table>\n",
       "</div>"
      ],
      "text/plain": [
       "             Years  No-of-Years\n",
       "count    98.000000    98.000000\n",
       "mean   1970.438776    38.673469\n",
       "std      28.539380    44.584398\n",
       "min    1920.000000     1.000000\n",
       "25%    1946.250000     5.250000\n",
       "50%    1970.500000    14.500000\n",
       "75%    1994.750000    62.750000\n",
       "max    2019.000000   164.000000"
      ]
     },
     "metadata": {},
     "output_type": "display_data"
    },
    {
     "data": {
      "text/html": [
       "<div>\n",
       "<style scoped>\n",
       "    .dataframe tbody tr th:only-of-type {\n",
       "        vertical-align: middle;\n",
       "    }\n",
       "\n",
       "    .dataframe tbody tr th {\n",
       "        vertical-align: top;\n",
       "    }\n",
       "\n",
       "    .dataframe thead th {\n",
       "        text-align: right;\n",
       "    }\n",
       "</style>\n",
       "<table border=\"1\" class=\"dataframe\">\n",
       "  <thead>\n",
       "    <tr style=\"text-align: right;\">\n",
       "      <th></th>\n",
       "      <th>MovieID</th>\n",
       "      <th>Title</th>\n",
       "      <th>Genres</th>\n",
       "      <th>Years</th>\n",
       "    </tr>\n",
       "  </thead>\n",
       "  <tbody>\n",
       "    <tr>\n",
       "      <th>0</th>\n",
       "      <td>1</td>\n",
       "      <td>Toy Story</td>\n",
       "      <td>Adventure|Animation|Children|Comedy|Fantasy</td>\n",
       "      <td>1995.0</td>\n",
       "    </tr>\n",
       "    <tr>\n",
       "      <th>1</th>\n",
       "      <td>2</td>\n",
       "      <td>Jumanji</td>\n",
       "      <td>Adventure|Children|Fantasy</td>\n",
       "      <td>1995.0</td>\n",
       "    </tr>\n",
       "    <tr>\n",
       "      <th>2</th>\n",
       "      <td>3</td>\n",
       "      <td>Grumpier Old Men</td>\n",
       "      <td>Comedy|Romance</td>\n",
       "      <td>1995.0</td>\n",
       "    </tr>\n",
       "    <tr>\n",
       "      <th>3</th>\n",
       "      <td>4</td>\n",
       "      <td>Waiting to Exhale</td>\n",
       "      <td>Comedy|Drama|Romance</td>\n",
       "      <td>1995.0</td>\n",
       "    </tr>\n",
       "    <tr>\n",
       "      <th>4</th>\n",
       "      <td>5</td>\n",
       "      <td>Father of the Bride Part II</td>\n",
       "      <td>Comedy</td>\n",
       "      <td>1995.0</td>\n",
       "    </tr>\n",
       "  </tbody>\n",
       "</table>\n",
       "</div>"
      ],
      "text/plain": [
       "   MovieID                         Title  \\\n",
       "0        1                    Toy Story    \n",
       "1        2                      Jumanji    \n",
       "2        3             Grumpier Old Men    \n",
       "3        4            Waiting to Exhale    \n",
       "4        5  Father of the Bride Part II    \n",
       "\n",
       "                                        Genres   Years  \n",
       "0  Adventure|Animation|Children|Comedy|Fantasy  1995.0  \n",
       "1                   Adventure|Children|Fantasy  1995.0  \n",
       "2                               Comedy|Romance  1995.0  \n",
       "3                         Comedy|Drama|Romance  1995.0  \n",
       "4                                       Comedy  1995.0  "
      ]
     },
     "metadata": {},
     "output_type": "display_data"
    },
    {
     "data": {
      "text/plain": [
       "(3794, 4)"
      ]
     },
     "metadata": {},
     "output_type": "display_data"
    }
   ],
   "source": [
    "df_clean_movies = pd.merge(df_movies_ratings, movies, on='MovieID')\n",
    "\n",
    "display(check_Years(df_clean_movies))\n",
    "display_pd(df_clean_movies)"
   ]
  },
  {
   "cell_type": "code",
   "execution_count": 31,
   "metadata": {},
   "outputs": [],
   "source": [
    "df_movie_ratings = pd.merge(ratings, df_clean_movies['MovieID'], on='MovieID')\n",
    "# display(filtered_ratings.head(5), filtered_ratings.shape)"
   ]
  },
  {
   "cell_type": "markdown",
   "metadata": {},
   "source": [
    "Rating ต้องน้อยกว่า 10 ปีย้อนหลัง"
   ]
  },
  {
   "cell_type": "markdown",
   "metadata": {},
   "source": [
    "เพราะ ในช่วงเวลา 10 ปี อาจจะสามารถเป็นนิสัยในการดูภาพยนตร์ของผู้ใช้งานได้เลย"
   ]
  },
  {
   "cell_type": "code",
   "execution_count": 32,
   "metadata": {},
   "outputs": [
    {
     "data": {
      "text/html": [
       "<div>\n",
       "<style scoped>\n",
       "    .dataframe tbody tr th:only-of-type {\n",
       "        vertical-align: middle;\n",
       "    }\n",
       "\n",
       "    .dataframe tbody tr th {\n",
       "        vertical-align: top;\n",
       "    }\n",
       "\n",
       "    .dataframe thead th {\n",
       "        text-align: right;\n",
       "    }\n",
       "</style>\n",
       "<table border=\"1\" class=\"dataframe\">\n",
       "  <thead>\n",
       "    <tr style=\"text-align: right;\">\n",
       "      <th></th>\n",
       "      <th>UserID</th>\n",
       "      <th>MovieID</th>\n",
       "      <th>userRating</th>\n",
       "      <th>Timestamp</th>\n",
       "      <th>Years</th>\n",
       "    </tr>\n",
       "  </thead>\n",
       "  <tbody>\n",
       "    <tr>\n",
       "      <th>1</th>\n",
       "      <td>3</td>\n",
       "      <td>296</td>\n",
       "      <td>5.0</td>\n",
       "      <td>1439474476</td>\n",
       "      <td>2015</td>\n",
       "    </tr>\n",
       "    <tr>\n",
       "      <th>2</th>\n",
       "      <td>4</td>\n",
       "      <td>296</td>\n",
       "      <td>4.0</td>\n",
       "      <td>1573938898</td>\n",
       "      <td>2019</td>\n",
       "    </tr>\n",
       "    <tr>\n",
       "      <th>9</th>\n",
       "      <td>14</td>\n",
       "      <td>296</td>\n",
       "      <td>5.0</td>\n",
       "      <td>1506208897</td>\n",
       "      <td>2017</td>\n",
       "    </tr>\n",
       "    <tr>\n",
       "      <th>12</th>\n",
       "      <td>19</td>\n",
       "      <td>296</td>\n",
       "      <td>3.5</td>\n",
       "      <td>1466674637</td>\n",
       "      <td>2016</td>\n",
       "    </tr>\n",
       "    <tr>\n",
       "      <th>19</th>\n",
       "      <td>33</td>\n",
       "      <td>296</td>\n",
       "      <td>4.5</td>\n",
       "      <td>1552804447</td>\n",
       "      <td>2019</td>\n",
       "    </tr>\n",
       "  </tbody>\n",
       "</table>\n",
       "</div>"
      ],
      "text/plain": [
       "    UserID  MovieID  userRating   Timestamp  Years\n",
       "1        3      296         5.0  1439474476   2015\n",
       "2        4      296         4.0  1573938898   2019\n",
       "9       14      296         5.0  1506208897   2017\n",
       "12      19      296         3.5  1466674637   2016\n",
       "19      33      296         4.5  1552804447   2019"
      ]
     },
     "metadata": {},
     "output_type": "display_data"
    },
    {
     "data": {
      "text/plain": [
       "(6790572, 5)"
      ]
     },
     "metadata": {},
     "output_type": "display_data"
    }
   ],
   "source": [
    "from datetime import datetime\n",
    "\n",
    "year_now = datetime.now().year # 2023\n",
    "\n",
    "df_ratings_years = df_movie_ratings[year_now - df_movie_ratings['Years'] < 10]\n",
    "\n",
    "display_pd(df_ratings_years)"
   ]
  },
  {
   "cell_type": "markdown",
   "metadata": {},
   "source": [
    "Rating ล่าสุด ต้องมากกว่า 5 ปีย้อนหลังนับจากปัจจุบัน"
   ]
  },
  {
   "cell_type": "markdown",
   "metadata": {},
   "source": [
    "เหมือนกับเช็ค ว่าที่ผู้ใช้งานที่Loginครั้งล่าสุดเมื่อ 5 ปีก่อน ข้อมูลน่าจะเก่าเกินไป และผู้ใช้อาจจะไม่เข้ามาใช้งานอีกแล้วก็ได้"
   ]
  },
  {
   "cell_type": "code",
   "execution_count": 33,
   "metadata": {},
   "outputs": [
    {
     "data": {
      "text/html": [
       "<div>\n",
       "<style scoped>\n",
       "    .dataframe tbody tr th:only-of-type {\n",
       "        vertical-align: middle;\n",
       "    }\n",
       "\n",
       "    .dataframe tbody tr th {\n",
       "        vertical-align: top;\n",
       "    }\n",
       "\n",
       "    .dataframe thead th {\n",
       "        text-align: right;\n",
       "    }\n",
       "</style>\n",
       "<table border=\"1\" class=\"dataframe\">\n",
       "  <thead>\n",
       "    <tr style=\"text-align: right;\">\n",
       "      <th></th>\n",
       "      <th>UserID</th>\n",
       "      <th>Last-of-Years</th>\n",
       "    </tr>\n",
       "  </thead>\n",
       "  <tbody>\n",
       "    <tr>\n",
       "      <th>count</th>\n",
       "      <td>48952.000000</td>\n",
       "      <td>48952.000000</td>\n",
       "    </tr>\n",
       "    <tr>\n",
       "      <th>mean</th>\n",
       "      <td>81249.899882</td>\n",
       "      <td>2016.801173</td>\n",
       "    </tr>\n",
       "    <tr>\n",
       "      <th>std</th>\n",
       "      <td>46993.879990</td>\n",
       "      <td>1.607167</td>\n",
       "    </tr>\n",
       "    <tr>\n",
       "      <th>min</th>\n",
       "      <td>3.000000</td>\n",
       "      <td>2014.000000</td>\n",
       "    </tr>\n",
       "    <tr>\n",
       "      <th>25%</th>\n",
       "      <td>40342.500000</td>\n",
       "      <td>2015.000000</td>\n",
       "    </tr>\n",
       "    <tr>\n",
       "      <th>50%</th>\n",
       "      <td>81139.500000</td>\n",
       "      <td>2017.000000</td>\n",
       "    </tr>\n",
       "    <tr>\n",
       "      <th>75%</th>\n",
       "      <td>122180.250000</td>\n",
       "      <td>2018.000000</td>\n",
       "    </tr>\n",
       "    <tr>\n",
       "      <th>max</th>\n",
       "      <td>162538.000000</td>\n",
       "      <td>2019.000000</td>\n",
       "    </tr>\n",
       "  </tbody>\n",
       "</table>\n",
       "</div>"
      ],
      "text/plain": [
       "              UserID  Last-of-Years\n",
       "count   48952.000000   48952.000000\n",
       "mean    81249.899882    2016.801173\n",
       "std     46993.879990       1.607167\n",
       "min         3.000000    2014.000000\n",
       "25%     40342.500000    2015.000000\n",
       "50%     81139.500000    2017.000000\n",
       "75%    122180.250000    2018.000000\n",
       "max    162538.000000    2019.000000"
      ]
     },
     "execution_count": 33,
     "metadata": {},
     "output_type": "execute_result"
    }
   ],
   "source": [
    "df_last_ratings = df_ratings_years.groupby('UserID').max()['Years'].reset_index()\n",
    "df_last_ratings.rename(columns={'Years':'Last-of-Years'}, inplace=True)\n",
    "df_last_ratings.describe()"
   ]
  },
  {
   "cell_type": "code",
   "execution_count": 34,
   "metadata": {},
   "outputs": [],
   "source": [
    "df_clean_last_ratings = df_last_ratings[year_now - df_last_ratings['Last-of-Years'] < 5]\n",
    "if 'Last-of-Years' in df_clean_last_ratings.columns :\n",
    "    df_clean_last_ratings.drop(columns=['Last-of-Years'], inplace=True)\n"
   ]
  },
  {
   "cell_type": "code",
   "execution_count": 35,
   "metadata": {},
   "outputs": [
    {
     "data": {
      "text/html": [
       "<div>\n",
       "<style scoped>\n",
       "    .dataframe tbody tr th:only-of-type {\n",
       "        vertical-align: middle;\n",
       "    }\n",
       "\n",
       "    .dataframe tbody tr th {\n",
       "        vertical-align: top;\n",
       "    }\n",
       "\n",
       "    .dataframe thead th {\n",
       "        text-align: right;\n",
       "    }\n",
       "</style>\n",
       "<table border=\"1\" class=\"dataframe\">\n",
       "  <thead>\n",
       "    <tr style=\"text-align: right;\">\n",
       "      <th></th>\n",
       "      <th>UserID</th>\n",
       "      <th>MovieID</th>\n",
       "      <th>userRating</th>\n",
       "    </tr>\n",
       "  </thead>\n",
       "  <tbody>\n",
       "    <tr>\n",
       "      <th>0</th>\n",
       "      <td>3</td>\n",
       "      <td>296</td>\n",
       "      <td>5.0</td>\n",
       "    </tr>\n",
       "    <tr>\n",
       "      <th>1</th>\n",
       "      <td>3</td>\n",
       "      <td>1217</td>\n",
       "      <td>5.0</td>\n",
       "    </tr>\n",
       "    <tr>\n",
       "      <th>2</th>\n",
       "      <td>3</td>\n",
       "      <td>1653</td>\n",
       "      <td>5.0</td>\n",
       "    </tr>\n",
       "    <tr>\n",
       "      <th>3</th>\n",
       "      <td>3</td>\n",
       "      <td>4308</td>\n",
       "      <td>3.0</td>\n",
       "    </tr>\n",
       "    <tr>\n",
       "      <th>4</th>\n",
       "      <td>3</td>\n",
       "      <td>5952</td>\n",
       "      <td>4.0</td>\n",
       "    </tr>\n",
       "  </tbody>\n",
       "</table>\n",
       "</div>"
      ],
      "text/plain": [
       "   UserID  MovieID  userRating\n",
       "0       3      296         5.0\n",
       "1       3     1217         5.0\n",
       "2       3     1653         5.0\n",
       "3       3     4308         3.0\n",
       "4       3     5952         4.0"
      ]
     },
     "metadata": {},
     "output_type": "display_data"
    },
    {
     "data": {
      "text/plain": [
       "(2247560, 3)"
      ]
     },
     "metadata": {},
     "output_type": "display_data"
    }
   ],
   "source": [
    "filtered_ratings = pd.merge(df_ratings_years, df_clean_last_ratings, on='UserID')\n",
    "\n",
    "if 'Timestamp' in filtered_ratings.columns :\n",
    "    filtered_ratings.drop(columns=['Years'], inplace=True)\n",
    "    filtered_ratings.drop(columns=['Timestamp'], inplace=True)\n",
    "\n",
    "display_pd(filtered_ratings)"
   ]
  },
  {
   "cell_type": "markdown",
   "metadata": {},
   "source": [
    "จัดรูปแบบ Data ของ Movie และ User ตามที่มีในตาราง filtered_ratings"
   ]
  },
  {
   "cell_type": "code",
   "execution_count": 36,
   "metadata": {},
   "outputs": [],
   "source": [
    "def BeforeAfter(before, after):\n",
    "    display(before.head(5))\n",
    "    print(\"Before :\", before.shape[0])\n",
    "    print(\"After  :\", after.shape[0])"
   ]
  },
  {
   "cell_type": "markdown",
   "metadata": {},
   "source": [
    "Movie"
   ]
  },
  {
   "cell_type": "code",
   "execution_count": 37,
   "metadata": {},
   "outputs": [
    {
     "data": {
      "text/html": [
       "<div>\n",
       "<style scoped>\n",
       "    .dataframe tbody tr th:only-of-type {\n",
       "        vertical-align: middle;\n",
       "    }\n",
       "\n",
       "    .dataframe tbody tr th {\n",
       "        vertical-align: top;\n",
       "    }\n",
       "\n",
       "    .dataframe thead th {\n",
       "        text-align: right;\n",
       "    }\n",
       "</style>\n",
       "<table border=\"1\" class=\"dataframe\">\n",
       "  <thead>\n",
       "    <tr style=\"text-align: right;\">\n",
       "      <th></th>\n",
       "      <th>MovieID</th>\n",
       "      <th>Title</th>\n",
       "      <th>Genres</th>\n",
       "      <th>Years</th>\n",
       "    </tr>\n",
       "  </thead>\n",
       "  <tbody>\n",
       "    <tr>\n",
       "      <th>0</th>\n",
       "      <td>1</td>\n",
       "      <td>Toy Story</td>\n",
       "      <td>Adventure|Animation|Children|Comedy|Fantasy</td>\n",
       "      <td>1995.0</td>\n",
       "    </tr>\n",
       "    <tr>\n",
       "      <th>1</th>\n",
       "      <td>2</td>\n",
       "      <td>Jumanji</td>\n",
       "      <td>Adventure|Children|Fantasy</td>\n",
       "      <td>1995.0</td>\n",
       "    </tr>\n",
       "    <tr>\n",
       "      <th>2</th>\n",
       "      <td>3</td>\n",
       "      <td>Grumpier Old Men</td>\n",
       "      <td>Comedy|Romance</td>\n",
       "      <td>1995.0</td>\n",
       "    </tr>\n",
       "    <tr>\n",
       "      <th>3</th>\n",
       "      <td>4</td>\n",
       "      <td>Waiting to Exhale</td>\n",
       "      <td>Comedy|Drama|Romance</td>\n",
       "      <td>1995.0</td>\n",
       "    </tr>\n",
       "    <tr>\n",
       "      <th>4</th>\n",
       "      <td>5</td>\n",
       "      <td>Father of the Bride Part II</td>\n",
       "      <td>Comedy</td>\n",
       "      <td>1995.0</td>\n",
       "    </tr>\n",
       "  </tbody>\n",
       "</table>\n",
       "</div>"
      ],
      "text/plain": [
       "   MovieID                         Title  \\\n",
       "0        1                    Toy Story    \n",
       "1        2                      Jumanji    \n",
       "2        3             Grumpier Old Men    \n",
       "3        4            Waiting to Exhale    \n",
       "4        5  Father of the Bride Part II    \n",
       "\n",
       "                                        Genres   Years  \n",
       "0  Adventure|Animation|Children|Comedy|Fantasy  1995.0  \n",
       "1                   Adventure|Children|Fantasy  1995.0  \n",
       "2                               Comedy|Romance  1995.0  \n",
       "3                         Comedy|Drama|Romance  1995.0  \n",
       "4                                       Comedy  1995.0  "
      ]
     },
     "metadata": {},
     "output_type": "display_data"
    },
    {
     "name": "stdout",
     "output_type": "stream",
     "text": [
      "Before : 62423\n",
      "After  : 3794\n"
     ]
    }
   ],
   "source": [
    "filtered_movies = pd.DataFrame(filtered_ratings['MovieID'].unique(), columns=['MovieID'])\n",
    "\n",
    "df_movies = pd.merge(movies, filtered_movies, on='MovieID')\n",
    "BeforeAfter(movies, df_movies)"
   ]
  },
  {
   "cell_type": "markdown",
   "metadata": {},
   "source": [
    "User"
   ]
  },
  {
   "cell_type": "code",
   "execution_count": 38,
   "metadata": {},
   "outputs": [
    {
     "data": {
      "text/html": [
       "<div>\n",
       "<style scoped>\n",
       "    .dataframe tbody tr th:only-of-type {\n",
       "        vertical-align: middle;\n",
       "    }\n",
       "\n",
       "    .dataframe tbody tr th {\n",
       "        vertical-align: top;\n",
       "    }\n",
       "\n",
       "    .dataframe thead th {\n",
       "        text-align: right;\n",
       "    }\n",
       "</style>\n",
       "<table border=\"1\" class=\"dataframe\">\n",
       "  <thead>\n",
       "    <tr style=\"text-align: right;\">\n",
       "      <th></th>\n",
       "      <th>UserID</th>\n",
       "      <th>FirstName</th>\n",
       "      <th>LastName</th>\n",
       "      <th>Email</th>\n",
       "      <th>Password</th>\n",
       "    </tr>\n",
       "  </thead>\n",
       "  <tbody>\n",
       "    <tr>\n",
       "      <th>0</th>\n",
       "      <td>1</td>\n",
       "      <td>Christopher</td>\n",
       "      <td>Wolfe</td>\n",
       "      <td>lpatterson@example.com</td>\n",
       "      <td>12345678</td>\n",
       "    </tr>\n",
       "    <tr>\n",
       "      <th>1</th>\n",
       "      <td>2</td>\n",
       "      <td>Troy</td>\n",
       "      <td>Thomas</td>\n",
       "      <td>nicoleochoa@example.net</td>\n",
       "      <td>12345678</td>\n",
       "    </tr>\n",
       "    <tr>\n",
       "      <th>2</th>\n",
       "      <td>3</td>\n",
       "      <td>Samuel</td>\n",
       "      <td>Riley</td>\n",
       "      <td>blackcheryl@example.org</td>\n",
       "      <td>12345678</td>\n",
       "    </tr>\n",
       "    <tr>\n",
       "      <th>3</th>\n",
       "      <td>4</td>\n",
       "      <td>Ashley</td>\n",
       "      <td>Fitzgerald</td>\n",
       "      <td>carlbender@example.net</td>\n",
       "      <td>12345678</td>\n",
       "    </tr>\n",
       "    <tr>\n",
       "      <th>4</th>\n",
       "      <td>5</td>\n",
       "      <td>Gerald</td>\n",
       "      <td>Williams</td>\n",
       "      <td>reyessonya@example.com</td>\n",
       "      <td>12345678</td>\n",
       "    </tr>\n",
       "  </tbody>\n",
       "</table>\n",
       "</div>"
      ],
      "text/plain": [
       "   UserID    FirstName    LastName                    Email  Password\n",
       "0       1  Christopher       Wolfe   lpatterson@example.com  12345678\n",
       "1       2         Troy      Thomas  nicoleochoa@example.net  12345678\n",
       "2       3       Samuel       Riley  blackcheryl@example.org  12345678\n",
       "3       4       Ashley  Fitzgerald   carlbender@example.net  12345678\n",
       "4       5       Gerald    Williams   reyessonya@example.com  12345678"
      ]
     },
     "metadata": {},
     "output_type": "display_data"
    },
    {
     "name": "stdout",
     "output_type": "stream",
     "text": [
      "Before : 162541\n",
      "After  : 162541\n"
     ]
    }
   ],
   "source": [
    "# filtered_users = pd.DataFrame(filtered_ratings['UserID'].unique(), columns=['UserID'])\n",
    "\n",
    "# df_users = pd.merge(users, filtered_users, on='UserID')\n",
    "\n",
    "df_users = users.copy()\n",
    "BeforeAfter(users, df_users)"
   ]
  },
  {
   "cell_type": "markdown",
   "metadata": {},
   "source": [
    "Active Users in Rating"
   ]
  },
  {
   "cell_type": "code",
   "execution_count": 43,
   "metadata": {},
   "outputs": [
    {
     "data": {
      "text/html": [
       "<div>\n",
       "<style scoped>\n",
       "    .dataframe tbody tr th:only-of-type {\n",
       "        vertical-align: middle;\n",
       "    }\n",
       "\n",
       "    .dataframe tbody tr th {\n",
       "        vertical-align: top;\n",
       "    }\n",
       "\n",
       "    .dataframe thead th {\n",
       "        text-align: right;\n",
       "    }\n",
       "</style>\n",
       "<table border=\"1\" class=\"dataframe\">\n",
       "  <thead>\n",
       "    <tr style=\"text-align: right;\">\n",
       "      <th></th>\n",
       "      <th>UserID</th>\n",
       "      <th>FirstName</th>\n",
       "      <th>LastName</th>\n",
       "      <th>Email</th>\n",
       "      <th>Password</th>\n",
       "    </tr>\n",
       "  </thead>\n",
       "  <tbody>\n",
       "    <tr>\n",
       "      <th>0</th>\n",
       "      <td>1</td>\n",
       "      <td>Christopher</td>\n",
       "      <td>Wolfe</td>\n",
       "      <td>lpatterson@example.com</td>\n",
       "      <td>12345678</td>\n",
       "    </tr>\n",
       "    <tr>\n",
       "      <th>1</th>\n",
       "      <td>2</td>\n",
       "      <td>Troy</td>\n",
       "      <td>Thomas</td>\n",
       "      <td>nicoleochoa@example.net</td>\n",
       "      <td>12345678</td>\n",
       "    </tr>\n",
       "    <tr>\n",
       "      <th>2</th>\n",
       "      <td>3</td>\n",
       "      <td>Samuel</td>\n",
       "      <td>Riley</td>\n",
       "      <td>blackcheryl@example.org</td>\n",
       "      <td>12345678</td>\n",
       "    </tr>\n",
       "    <tr>\n",
       "      <th>3</th>\n",
       "      <td>4</td>\n",
       "      <td>Ashley</td>\n",
       "      <td>Fitzgerald</td>\n",
       "      <td>carlbender@example.net</td>\n",
       "      <td>12345678</td>\n",
       "    </tr>\n",
       "    <tr>\n",
       "      <th>4</th>\n",
       "      <td>5</td>\n",
       "      <td>Gerald</td>\n",
       "      <td>Williams</td>\n",
       "      <td>reyessonya@example.com</td>\n",
       "      <td>12345678</td>\n",
       "    </tr>\n",
       "  </tbody>\n",
       "</table>\n",
       "</div>"
      ],
      "text/plain": [
       "   UserID    FirstName    LastName                    Email  Password\n",
       "0       1  Christopher       Wolfe   lpatterson@example.com  12345678\n",
       "1       2         Troy      Thomas  nicoleochoa@example.net  12345678\n",
       "2       3       Samuel       Riley  blackcheryl@example.org  12345678\n",
       "3       4       Ashley  Fitzgerald   carlbender@example.net  12345678\n",
       "4       5       Gerald    Williams   reyessonya@example.com  12345678"
      ]
     },
     "metadata": {},
     "output_type": "display_data"
    },
    {
     "name": "stdout",
     "output_type": "stream",
     "text": [
      "Before : 162541\n",
      "After  : 10445\n"
     ]
    }
   ],
   "source": [
    "BeforeAfter(users, filtered_ratings['UserID'].unique())"
   ]
  },
  {
   "cell_type": "markdown",
   "metadata": {},
   "source": [
    "Rating"
   ]
  },
  {
   "cell_type": "code",
   "execution_count": 39,
   "metadata": {},
   "outputs": [
    {
     "data": {
      "text/html": [
       "<div>\n",
       "<style scoped>\n",
       "    .dataframe tbody tr th:only-of-type {\n",
       "        vertical-align: middle;\n",
       "    }\n",
       "\n",
       "    .dataframe tbody tr th {\n",
       "        vertical-align: top;\n",
       "    }\n",
       "\n",
       "    .dataframe thead th {\n",
       "        text-align: right;\n",
       "    }\n",
       "</style>\n",
       "<table border=\"1\" class=\"dataframe\">\n",
       "  <thead>\n",
       "    <tr style=\"text-align: right;\">\n",
       "      <th></th>\n",
       "      <th>UserID</th>\n",
       "      <th>MovieID</th>\n",
       "      <th>userRating</th>\n",
       "      <th>Timestamp</th>\n",
       "      <th>Years</th>\n",
       "    </tr>\n",
       "  </thead>\n",
       "  <tbody>\n",
       "    <tr>\n",
       "      <th>0</th>\n",
       "      <td>1</td>\n",
       "      <td>296</td>\n",
       "      <td>5.0</td>\n",
       "      <td>1147880044</td>\n",
       "      <td>2006</td>\n",
       "    </tr>\n",
       "    <tr>\n",
       "      <th>1</th>\n",
       "      <td>1</td>\n",
       "      <td>306</td>\n",
       "      <td>3.5</td>\n",
       "      <td>1147868817</td>\n",
       "      <td>2006</td>\n",
       "    </tr>\n",
       "    <tr>\n",
       "      <th>2</th>\n",
       "      <td>1</td>\n",
       "      <td>307</td>\n",
       "      <td>5.0</td>\n",
       "      <td>1147868828</td>\n",
       "      <td>2006</td>\n",
       "    </tr>\n",
       "    <tr>\n",
       "      <th>3</th>\n",
       "      <td>1</td>\n",
       "      <td>665</td>\n",
       "      <td>5.0</td>\n",
       "      <td>1147878820</td>\n",
       "      <td>2006</td>\n",
       "    </tr>\n",
       "    <tr>\n",
       "      <th>4</th>\n",
       "      <td>1</td>\n",
       "      <td>899</td>\n",
       "      <td>3.5</td>\n",
       "      <td>1147868510</td>\n",
       "      <td>2006</td>\n",
       "    </tr>\n",
       "  </tbody>\n",
       "</table>\n",
       "</div>"
      ],
      "text/plain": [
       "   UserID  MovieID  userRating   Timestamp  Years\n",
       "0       1      296         5.0  1147880044   2006\n",
       "1       1      306         3.5  1147868817   2006\n",
       "2       1      307         5.0  1147868828   2006\n",
       "3       1      665         5.0  1147878820   2006\n",
       "4       1      899         3.5  1147868510   2006"
      ]
     },
     "metadata": {},
     "output_type": "display_data"
    },
    {
     "name": "stdout",
     "output_type": "stream",
     "text": [
      "Before : 25000095\n",
      "After  : 2247560\n"
     ]
    }
   ],
   "source": [
    "df_ratings = filtered_ratings.copy()\n",
    "\n",
    "BeforeAfter(ratings, df_ratings)"
   ]
  },
  {
   "cell_type": "markdown",
   "metadata": {},
   "source": [
    "Save File to database SQL"
   ]
  },
  {
   "cell_type": "code",
   "execution_count": 40,
   "metadata": {},
   "outputs": [],
   "source": [
    "import sqlite3\n",
    "import os\n",
    "\n",
    "def saveDatabase(path, table, df):\n",
    "    path += '\\\\' + table+'.db'\n",
    "\n",
    "    # Check มี File นั้นหรือไม่\n",
    "    key = os.path.exists(path)\n",
    "    if key:\n",
    "        os.remove(path)\n",
    "    conn = sqlite3.connect(path)\n",
    "    df.to_sql(table, conn, if_exists='replace', index=False)\n",
    "    conn.close()\n",
    "    print(f'Save: {table}')"
   ]
  },
  {
   "cell_type": "code",
   "execution_count": 41,
   "metadata": {},
   "outputs": [
    {
     "name": "stdout",
     "output_type": "stream",
     "text": [
      "Save: movies\n",
      "Save: users\n"
     ]
    },
    {
     "ename": "PermissionError",
     "evalue": "[WinError 32] The process cannot access the file because it is being used by another process: 'D:\\\\Coding\\\\Machine_Learning\\\\Recommendation_System\\\\input\\\\ratings.db'",
     "output_type": "error",
     "traceback": [
      "\u001b[1;31m---------------------------------------------------------------------------\u001b[0m",
      "\u001b[1;31mPermissionError\u001b[0m                           Traceback (most recent call last)",
      "\u001b[1;32md:\\Coding\\Machine_Learning\\Recommendation_System\\prepairingData\\1 Data Filtering.ipynb Cell 33\u001b[0m line \u001b[0;36m6\n\u001b[0;32m      <a href='vscode-notebook-cell:/d%3A/Coding/Machine_Learning/Recommendation_System/prepairingData/1%20Data%20Filtering.ipynb#X44sZmlsZQ%3D%3D?line=3'>4</a>\u001b[0m \u001b[39m# saveDatabase(path, 'users', df_users)\u001b[39;00m\n\u001b[0;32m      <a href='vscode-notebook-cell:/d%3A/Coding/Machine_Learning/Recommendation_System/prepairingData/1%20Data%20Filtering.ipynb#X44sZmlsZQ%3D%3D?line=4'>5</a>\u001b[0m \u001b[39mprint\u001b[39m(\u001b[39mf\u001b[39m\u001b[39m'\u001b[39m\u001b[39mSave: users\u001b[39m\u001b[39m'\u001b[39m)\n\u001b[1;32m----> <a href='vscode-notebook-cell:/d%3A/Coding/Machine_Learning/Recommendation_System/prepairingData/1%20Data%20Filtering.ipynb#X44sZmlsZQ%3D%3D?line=5'>6</a>\u001b[0m saveDatabase(path, \u001b[39m'\u001b[39;49m\u001b[39mratings\u001b[39;49m\u001b[39m'\u001b[39;49m, df_ratings)\n\u001b[0;32m      <a href='vscode-notebook-cell:/d%3A/Coding/Machine_Learning/Recommendation_System/prepairingData/1%20Data%20Filtering.ipynb#X44sZmlsZQ%3D%3D?line=6'>7</a>\u001b[0m \u001b[39m# saveDatabase(path, 'filtered_ratings', filtered_ratings)\u001b[39;00m\n",
      "\u001b[1;32md:\\Coding\\Machine_Learning\\Recommendation_System\\prepairingData\\1 Data Filtering.ipynb Cell 33\u001b[0m line \u001b[0;36m1\n\u001b[0;32m      <a href='vscode-notebook-cell:/d%3A/Coding/Machine_Learning/Recommendation_System/prepairingData/1%20Data%20Filtering.ipynb#X44sZmlsZQ%3D%3D?line=7'>8</a>\u001b[0m key \u001b[39m=\u001b[39m os\u001b[39m.\u001b[39mpath\u001b[39m.\u001b[39mexists(path)\n\u001b[0;32m      <a href='vscode-notebook-cell:/d%3A/Coding/Machine_Learning/Recommendation_System/prepairingData/1%20Data%20Filtering.ipynb#X44sZmlsZQ%3D%3D?line=8'>9</a>\u001b[0m \u001b[39mif\u001b[39;00m key:\n\u001b[1;32m---> <a href='vscode-notebook-cell:/d%3A/Coding/Machine_Learning/Recommendation_System/prepairingData/1%20Data%20Filtering.ipynb#X44sZmlsZQ%3D%3D?line=9'>10</a>\u001b[0m     os\u001b[39m.\u001b[39;49mremove(path)\n\u001b[0;32m     <a href='vscode-notebook-cell:/d%3A/Coding/Machine_Learning/Recommendation_System/prepairingData/1%20Data%20Filtering.ipynb#X44sZmlsZQ%3D%3D?line=10'>11</a>\u001b[0m conn \u001b[39m=\u001b[39m sqlite3\u001b[39m.\u001b[39mconnect(path)\n\u001b[0;32m     <a href='vscode-notebook-cell:/d%3A/Coding/Machine_Learning/Recommendation_System/prepairingData/1%20Data%20Filtering.ipynb#X44sZmlsZQ%3D%3D?line=11'>12</a>\u001b[0m df\u001b[39m.\u001b[39mto_sql(table, conn, if_exists\u001b[39m=\u001b[39m\u001b[39m'\u001b[39m\u001b[39mreplace\u001b[39m\u001b[39m'\u001b[39m, index\u001b[39m=\u001b[39m\u001b[39mFalse\u001b[39;00m)\n",
      "\u001b[1;31mPermissionError\u001b[0m: [WinError 32] The process cannot access the file because it is being used by another process: 'D:\\\\Coding\\\\Machine_Learning\\\\Recommendation_System\\\\input\\\\ratings.db'"
     ]
    }
   ],
   "source": [
    "path = r'D:\\Coding\\Machine_Learning\\Recommendation_System\\input'\n",
    "\n",
    "saveDatabase(path, 'movies', df_movies)\n",
    "saveDatabase(path, 'users', df_users)\n",
    "saveDatabase(path, 'ratings', df_ratings)\n",
    "# saveDatabase(path, 'filtered_ratings', filtered_ratings)"
   ]
  }
 ],
 "metadata": {
  "kernelspec": {
   "display_name": "Python 3",
   "language": "python",
   "name": "python3"
  },
  "language_info": {
   "codemirror_mode": {
    "name": "ipython",
    "version": 3
   },
   "file_extension": ".py",
   "mimetype": "text/x-python",
   "name": "python",
   "nbconvert_exporter": "python",
   "pygments_lexer": "ipython3",
   "version": "3.10.4"
  },
  "orig_nbformat": 4
 },
 "nbformat": 4,
 "nbformat_minor": 2
}
