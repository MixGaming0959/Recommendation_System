{
 "cells": [
  {
   "cell_type": "code",
   "execution_count": 1,
   "metadata": {},
   "outputs": [
    {
     "ename": "ModuleNotFoundError",
     "evalue": "No module named 'Modules'",
     "output_type": "error",
     "traceback": [
      "\u001b[1;31m---------------------------------------------------------------------------\u001b[0m",
      "\u001b[1;31mModuleNotFoundError\u001b[0m                       Traceback (most recent call last)",
      "\u001b[1;32md:\\Coding\\Machine_Learning\\Recommendation_System\\test\\KNN_Collaborative filter.ipynb Cell 1\u001b[0m line \u001b[0;36m5\n\u001b[0;32m      <a href='vscode-notebook-cell:/d%3A/Coding/Machine_Learning/Recommendation_System/test/KNN_Collaborative%20filter.ipynb#W0sZmlsZQ%3D%3D?line=1'>2</a>\u001b[0m \u001b[39mimport\u001b[39;00m \u001b[39mwarnings\u001b[39;00m\n\u001b[0;32m      <a href='vscode-notebook-cell:/d%3A/Coding/Machine_Learning/Recommendation_System/test/KNN_Collaborative%20filter.ipynb#W0sZmlsZQ%3D%3D?line=2'>3</a>\u001b[0m warnings\u001b[39m.\u001b[39mfilterwarnings(\u001b[39m'\u001b[39m\u001b[39mignore\u001b[39m\u001b[39m'\u001b[39m)\n\u001b[1;32m----> <a href='vscode-notebook-cell:/d%3A/Coding/Machine_Learning/Recommendation_System/test/KNN_Collaborative%20filter.ipynb#W0sZmlsZQ%3D%3D?line=4'>5</a>\u001b[0m \u001b[39mfrom\u001b[39;00m \u001b[39mModules\u001b[39;00m\u001b[39m.\u001b[39;00m\u001b[39mdataEngineering\u001b[39;00m \u001b[39mimport\u001b[39;00m dataEngineering\n\u001b[0;32m      <a href='vscode-notebook-cell:/d%3A/Coding/Machine_Learning/Recommendation_System/test/KNN_Collaborative%20filter.ipynb#W0sZmlsZQ%3D%3D?line=5'>6</a>\u001b[0m dataEngineering \u001b[39m=\u001b[39m dataEngineering()\n",
      "\u001b[1;31mModuleNotFoundError\u001b[0m: No module named 'Modules'"
     ]
    }
   ],
   "source": [
    "import pandas as pd\n",
    "import warnings\n",
    "warnings.filterwarnings('ignore')\n",
    "\n",
    "from Modules.dataEngineering import dataEngineering\n",
    "dataEngineering = dataEngineering()"
   ]
  },
  {
   "cell_type": "markdown",
   "metadata": {},
   "source": [
    "คำย่อที่ควรรู้ก่อน\n",
    "f คือ filter ,\n",
    "a คือ no filter หรือ ใช้ raw ratings ,\n",
    "n คือ no ,"
   ]
  },
  {
   "cell_type": "markdown",
   "metadata": {},
   "source": [
    "Load ข้อมูล"
   ]
  },
  {
   "cell_type": "code",
   "execution_count": 2,
   "metadata": {},
   "outputs": [],
   "source": [
    "df_f_ratings   = dataEngineering.load_Filter_Ratings()['data']\n",
    "df_a_ratings        = dataEngineering.loadRatings()['data']\n",
    "df_movies           = dataEngineering.loadMovies()['data']\n",
    "df_users            = dataEngineering.loadUsers()['data']"
   ]
  },
  {
   "cell_type": "markdown",
   "metadata": {},
   "source": [
    "ทำให้แน่ใจว่า User_Index และ Movie_Index เป็น int"
   ]
  },
  {
   "cell_type": "code",
   "execution_count": 3,
   "metadata": {},
   "outputs": [],
   "source": [
    "df_f_ratings['User_Index'] = df_f_ratings['User_Index'].astype(int)\n",
    "df_f_ratings['Movie_Index'] = df_f_ratings['Movie_Index'].astype(int)"
   ]
  },
  {
   "cell_type": "code",
   "execution_count": 4,
   "metadata": {},
   "outputs": [
    {
     "name": "stdout",
     "output_type": "stream",
     "text": [
      "<class 'pandas.core.frame.DataFrame'>\n",
      "RangeIndex: 100836 entries, 0 to 100835\n",
      "Data columns (total 6 columns):\n",
      " #   Column      Non-Null Count   Dtype  \n",
      "---  ------      --------------   -----  \n",
      " 0   UserID      100836 non-null  int64  \n",
      " 1   MovieID     100836 non-null  int64  \n",
      " 2   userRating  100836 non-null  float64\n",
      " 3   Title       100836 non-null  object \n",
      " 4   Genres      100836 non-null  object \n",
      " 5   meanRating  100836 non-null  float64\n",
      "dtypes: float64(2), int64(2), object(2)\n",
      "memory usage: 4.6+ MB\n"
     ]
    }
   ],
   "source": [
    "df_a_ratings.info()"
   ]
  },
  {
   "cell_type": "code",
   "execution_count": 5,
   "metadata": {},
   "outputs": [
    {
     "name": "stdout",
     "output_type": "stream",
     "text": [
      "Count Movies  :  9724\n",
      "Count Users   :  610\n",
      "Count Ratings :  100836\n"
     ]
    }
   ],
   "source": [
    "print('Count Movies  : ',len(df_a_ratings['MovieID'].unique()))\n",
    "print('Count Users   : ',len(df_a_ratings['UserID'].unique()))\n",
    "print('Count Ratings : ',len(df_a_ratings))"
   ]
  },
  {
   "cell_type": "markdown",
   "metadata": {},
   "source": [
    "สร้าง pivot table"
   ]
  },
  {
   "cell_type": "code",
   "execution_count": 6,
   "metadata": {},
   "outputs": [],
   "source": [
    "df_f_index     = df_f_ratings.pivot(index='User_Index', columns='Movie_Index' , values='userRating')\n",
    "df_fn_index = df_f_ratings.pivot(index='UserID', columns='MovieID' , values='userRating')"
   ]
  },
  {
   "cell_type": "code",
   "execution_count": 7,
   "metadata": {},
   "outputs": [],
   "source": [
    "df_a_ratings[\"User_Index\"] = df_a_ratings[\"UserID\"].astype('category').cat.codes\n",
    "df_a_ratings[\"Movie_Index\"] = df_a_ratings[\"MovieID\"].astype('category').cat.codes"
   ]
  },
  {
   "cell_type": "code",
   "execution_count": 8,
   "metadata": {},
   "outputs": [],
   "source": [
    "df_a_index     = df_a_ratings.pivot(index='User_Index', columns='Movie_Index' , values='userRating')\n",
    "df_an_index = df_a_ratings.pivot(index='UserID', columns='MovieID' , values='userRating')"
   ]
  },
  {
   "cell_type": "markdown",
   "metadata": {},
   "source": [
    "หา learning_rate และ user_based ไหนดีที่สุด"
   ]
  },
  {
   "cell_type": "code",
   "execution_count": 9,
   "metadata": {},
   "outputs": [],
   "source": [
    "# from surprise.model_selection import GridSearchCV\n",
    "\n",
    "# sim_options = {\n",
    "#     'name': ['cosine', 'pearson'],\n",
    "#     'user_based': [False, True],\n",
    "# }\n",
    "# bsl_options = {\n",
    "#     'method': ['sgd'],\n",
    "#     'learning_rate': [0.0005, 0.005]\n",
    "# }\n",
    "# param_grid = {\n",
    "#     'sim_options': sim_options,\n",
    "#     'bsl_options': bsl_options\n",
    "# }\n",
    "\n",
    "# gs = GridSearchCV(KNNWithMeans, param_grid, measures=['rmse', 'mae'], cv=3)\n",
    "# gs.fit(data)"
   ]
  },
  {
   "cell_type": "code",
   "execution_count": 10,
   "metadata": {},
   "outputs": [],
   "source": [
    "# gs.best_params"
   ]
  },
  {
   "cell_type": "markdown",
   "metadata": {},
   "source": [
    "ผลลัพธ์"
   ]
  },
  {
   "cell_type": "code",
   "execution_count": 11,
   "metadata": {},
   "outputs": [],
   "source": [
    "options = {\n",
    "    'bsl_options': {'learning_rate': 0.0005, 'method': 'sgd'},\n",
    "    'sim_options': {'name': 'cosine', 'user_based': True}\n",
    "}"
   ]
  },
  {
   "cell_type": "code",
   "execution_count": 12,
   "metadata": {},
   "outputs": [],
   "source": [
    "from surprise import Dataset, Reader\n",
    "from surprise.model_selection import train_test_split\n",
    "from surprise import KNNWithMeans\n",
    "from surprise import accuracy\n",
    "from surprise.model_selection import cross_validate"
   ]
  },
  {
   "cell_type": "code",
   "execution_count": 13,
   "metadata": {},
   "outputs": [],
   "source": [
    "reader = Reader(rating_scale=(1, 5))"
   ]
  },
  {
   "cell_type": "code",
   "execution_count": 14,
   "metadata": {},
   "outputs": [],
   "source": [
    "def create_KNNmodel(df, k_group):\n",
    "    df = df.copy()\n",
    "    # print('k_group: ', k_group)\n",
    "    data = Dataset.load_from_df(df.stack().reset_index(), reader)\n",
    "    train_set, test_set = train_test_split(data, test_size=0.2, random_state=42)\n",
    "\n",
    "    model = KNNWithMeans( k=k_group,\n",
    "        sim_options=options['sim_options'], \n",
    "        bsl_options=options['bsl_options']\n",
    "    )\n",
    "    model.fit(train_set)\n",
    "\n",
    "    # predictions = model.test(test_set)\n",
    "    # rmse = accuracy.rmse(predictions)\n",
    "    # mae = accuracy.mae(predictions)\n",
    "    return model"
   ]
  },
  {
   "cell_type": "code",
   "execution_count": 16,
   "metadata": {},
   "outputs": [
    {
     "name": "stdout",
     "output_type": "stream",
     "text": [
      "Computing the cosine similarity matrix...\n",
      "Done computing similarity matrix.\n",
      "Computing the cosine similarity matrix...\n",
      "Done computing similarity matrix.\n",
      "Computing the cosine similarity matrix...\n",
      "Done computing similarity matrix.\n",
      "Computing the cosine similarity matrix...\n",
      "Done computing similarity matrix.\n"
     ]
    }
   ],
   "source": [
    "model_f_index = create_KNNmodel(df_f_index, 5)\n",
    "model_fn_index = create_KNNmodel(df_fn_index, 5)\n",
    "\n",
    "model_a_index = create_KNNmodel(df_a_index, 5)\n",
    "model_an_index = create_KNNmodel(df_an_index, 5)"
   ]
  },
  {
   "cell_type": "markdown",
   "metadata": {},
   "source": [
    "ทดลองหา Models ที่ดีระหว่าง 4 Models ข้างต้น"
   ]
  },
  {
   "cell_type": "code",
   "execution_count": 17,
   "metadata": {},
   "outputs": [],
   "source": [
    "def predict_model_n_index(matrix, model):\n",
    "    matrix = matrix.copy()\n",
    "    u_col = 0\n",
    "    for u_id, row in matrix.iterrows():\n",
    "        for m_col, item in enumerate(row):\n",
    "            m_id = matrix.columns[m_col]\n",
    "            if pd.isnull(item):\n",
    "                prep_rating = round(model.predict(u_id, m_id).est, 4)\n",
    "                matrix.iloc[u_col][m_id] = prep_rating\n",
    "        u_col += 1\n",
    "    return matrix\n",
    "\n",
    "def predict_model_index(matrix, model):\n",
    "    matrix = matrix.copy()\n",
    "    for u_row, row in matrix.iterrows():\n",
    "        for m_col, item in enumerate(row):\n",
    "            if pd.isnull(item):\n",
    "                prep_rating = round(model.predict(u_row, m_col).est, 4)\n",
    "                matrix.iloc[u_row][m_col] = prep_rating\n",
    "    return matrix\n",
    "\n",
    "pivot_a_test = df_a_index.iloc[:2].copy()\n",
    "pivot_an_test = df_an_index.iloc[:2].copy()\n"
   ]
  },
  {
   "cell_type": "code",
   "execution_count": 18,
   "metadata": {},
   "outputs": [],
   "source": [
    "def predict_model_n_index(matrix, model):\n",
    "    matrix = matrix.copy()\n",
    "    u_col = 0\n",
    "    ratings = []\n",
    "    for u_id, row in matrix.iterrows():\n",
    "        for m_col, item in enumerate(row):\n",
    "            m_id = matrix.columns[m_col]\n",
    "            if pd.isnull(item):\n",
    "                prep_rating = round(model.predict(u_id, m_id).est, 4)\n",
    "                ratings.append([u_id, m_id, prep_rating])\n",
    "                matrix.iloc[u_col][m_id] = prep_rating\n",
    "        u_col += 1\n",
    "    \n",
    "    recomment_unwatched = pd.DataFrame(ratings, columns=['UserID', 'MovieID', 'prep_Rating'])\n",
    "    return matrix, recomment_unwatched.sort_values(by=['prep_Rating'], ascending=False)\n",
    "\n",
    "def predict_model_index(matrix, model):\n",
    "    matrix = matrix.copy()\n",
    "    ratings = []\n",
    "    for u_row, row in matrix.iterrows():\n",
    "        for m_col, item in enumerate(row):\n",
    "            if pd.isnull(item):\n",
    "                prep_rating = round(model.predict(u_row, m_col).est, 4)\n",
    "                matrix.iloc[u_row][m_col] = prep_rating\n",
    "                ratings.append([u_row, m_col, prep_rating])\n",
    "\n",
    "    recomment_unwatched = pd.DataFrame(ratings, columns=['User_Index', 'Movie_Index', 'prep_Rating'])\n",
    "    return matrix, recomment_unwatched.sort_values(by=['prep_Rating'], ascending=False)\n",
    "\n",
    "userID = 2\n",
    "\n",
    "pivot_a_test  =  df_a_index.iloc[:userID].copy()\n",
    "pivot_an_test = df_an_index.iloc[:userID].copy()"
   ]
  },
  {
   "cell_type": "markdown",
   "metadata": {},
   "source": [
    "Model 1 แย่ที่สุด เพราะไม่สามารถทำนาย User ที่ไม่เคยเห็นได้"
   ]
  },
  {
   "cell_type": "markdown",
   "metadata": {},
   "source": [
    "Model 2 กับ 4 ได้ผลเหมือนกัน"
   ]
  },
  {
   "cell_type": "markdown",
   "metadata": {},
   "source": [
    "ถ้าไม่มี Index จะใช้งานได้ง่ายกว่า แบบมี Index เพราะแบบมี Indexหลังทำนายแล้วจำเป็นต้องแปลงIndex เป็น ID กลับคืนด้วย\n",
    "แต่มีแบบมี Index เร็วกว่าแบบไม่มี Index"
   ]
  },
  {
   "cell_type": "markdown",
   "metadata": {},
   "source": [
    "Save Model"
   ]
  },
  {
   "cell_type": "code",
   "execution_count": 19,
   "metadata": {},
   "outputs": [
    {
     "data": {
      "text/plain": [
       "['models/knn_model.pkl']"
      ]
     },
     "execution_count": 19,
     "metadata": {},
     "output_type": "execute_result"
    }
   ],
   "source": [
    "import joblib\n",
    "\n",
    "joblib.dump(model_a_index, 'models/knn_model.pkl')"
   ]
  },
  {
   "cell_type": "code",
   "execution_count": 20,
   "metadata": {},
   "outputs": [],
   "source": [
    "model = joblib.load('models/knn_model.pkl')"
   ]
  },
  {
   "cell_type": "code",
   "execution_count": 21,
   "metadata": {},
   "outputs": [],
   "source": [
    "def predict_only_movies_unwatched(matrix):\n",
    "    matrix = matrix.copy()\n",
    "    ratings = []\n",
    "    \n",
    "    for u_index, row in matrix.iterrows():\n",
    "        for m_col, item in enumerate(row):\n",
    "            if pd.isnull(item):\n",
    "                prep_rating = round(model_f_index.predict(u_index, m_col).est, 4)\n",
    "                ratings.append([u_index, m_col, prep_rating])\n",
    "            else:\n",
    "    # ทำให้หนังที่เคยดูแล้วไม่ขึ้นในการแนะนำหนัง\n",
    "                ratings.append([u_index, m_col, 0])\n",
    "\n",
    "    recomment_unwatched = pd.DataFrame(ratings, columns=['User_Index', 'Movie_Index', 'prep_Rating'])\n",
    "    return recomment_unwatched"
   ]
  },
  {
   "cell_type": "code",
   "execution_count": 22,
   "metadata": {},
   "outputs": [
    {
     "data": {
      "text/html": [
       "<div>\n",
       "<style scoped>\n",
       "    .dataframe tbody tr th:only-of-type {\n",
       "        vertical-align: middle;\n",
       "    }\n",
       "\n",
       "    .dataframe tbody tr th {\n",
       "        vertical-align: top;\n",
       "    }\n",
       "\n",
       "    .dataframe thead th {\n",
       "        text-align: right;\n",
       "    }\n",
       "</style>\n",
       "<table border=\"1\" class=\"dataframe\">\n",
       "  <thead>\n",
       "    <tr style=\"text-align: right;\">\n",
       "      <th></th>\n",
       "      <th>UserID</th>\n",
       "      <th>MovieID</th>\n",
       "      <th>prep_Rating</th>\n",
       "    </tr>\n",
       "  </thead>\n",
       "  <tbody>\n",
       "    <tr>\n",
       "      <th>7562</th>\n",
       "      <td>1</td>\n",
       "      <td>92494</td>\n",
       "      <td>5.0</td>\n",
       "    </tr>\n",
       "    <tr>\n",
       "      <th>3513</th>\n",
       "      <td>1</td>\n",
       "      <td>5224</td>\n",
       "      <td>5.0</td>\n",
       "    </tr>\n",
       "    <tr>\n",
       "      <th>3520</th>\n",
       "      <td>1</td>\n",
       "      <td>5240</td>\n",
       "      <td>5.0</td>\n",
       "    </tr>\n",
       "    <tr>\n",
       "      <th>8844</th>\n",
       "      <td>1</td>\n",
       "      <td>143511</td>\n",
       "      <td>5.0</td>\n",
       "    </tr>\n",
       "    <tr>\n",
       "      <th>8846</th>\n",
       "      <td>1</td>\n",
       "      <td>143559</td>\n",
       "      <td>5.0</td>\n",
       "    </tr>\n",
       "    <tr>\n",
       "      <th>8881</th>\n",
       "      <td>1</td>\n",
       "      <td>146684</td>\n",
       "      <td>5.0</td>\n",
       "    </tr>\n",
       "    <tr>\n",
       "      <th>3185</th>\n",
       "      <td>1</td>\n",
       "      <td>4658</td>\n",
       "      <td>5.0</td>\n",
       "    </tr>\n",
       "    <tr>\n",
       "      <th>8879</th>\n",
       "      <td>1</td>\n",
       "      <td>146662</td>\n",
       "      <td>5.0</td>\n",
       "    </tr>\n",
       "    <tr>\n",
       "      <th>9353</th>\n",
       "      <td>1</td>\n",
       "      <td>176329</td>\n",
       "      <td>5.0</td>\n",
       "    </tr>\n",
       "    <tr>\n",
       "      <th>9368</th>\n",
       "      <td>1</td>\n",
       "      <td>177593</td>\n",
       "      <td>5.0</td>\n",
       "    </tr>\n",
       "  </tbody>\n",
       "</table>\n",
       "</div>"
      ],
      "text/plain": [
       "      UserID  MovieID  prep_Rating\n",
       "7562       1    92494          5.0\n",
       "3513       1     5224          5.0\n",
       "3520       1     5240          5.0\n",
       "8844       1   143511          5.0\n",
       "8846       1   143559          5.0\n",
       "8881       1   146684          5.0\n",
       "3185       1     4658          5.0\n",
       "8879       1   146662          5.0\n",
       "9353       1   176329          5.0\n",
       "9368       1   177593          5.0"
      ]
     },
     "execution_count": 22,
     "metadata": {},
     "output_type": "execute_result"
    }
   ],
   "source": [
    "def recommendTop10Movie(userID, df_ratings ,top_n=10):\n",
    "    df_ratings = df_ratings.copy()\n",
    "    # Find User_Index in df_ratings\n",
    "    try:\n",
    "        userIndex = df_ratings[df_ratings['UserID'] == userID].User_Index.unique()[0]\n",
    "        df_f_index = df_ratings.pivot(index='UserID', columns='MovieID' , values='userRating')\n",
    "\n",
    "        matrix = df_f_index[df_f_index.index == userIndex]\n",
    "        \n",
    "        prep_movies = predict_model_n_index(matrix, model_fn_index)[1]\n",
    "\n",
    "        return prep_movies.sort_values(by=['prep_Rating'], ascending=False).iloc[:top_n]\n",
    "    except IndexError:\n",
    "        txt = (f'UserID: {userID} not in database')\n",
    "        return txt\n",
    "# prep_movies.sort_values(by=['prep_Rating'], ascending=False).iloc[0:top_n]\n",
    "recommendTop10Movie(userID = 2, df_ratings = df_a_ratings)"
   ]
  }
 ],
 "metadata": {
  "kernelspec": {
   "display_name": "Python 3",
   "language": "python",
   "name": "python3"
  },
  "language_info": {
   "codemirror_mode": {
    "name": "ipython",
    "version": 3
   },
   "file_extension": ".py",
   "mimetype": "text/x-python",
   "name": "python",
   "nbconvert_exporter": "python",
   "pygments_lexer": "ipython3",
   "version": "3.10.4"
  },
  "orig_nbformat": 4
 },
 "nbformat": 4,
 "nbformat_minor": 2
}
