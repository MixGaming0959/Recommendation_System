{
 "cells": [
  {
   "cell_type": "code",
   "execution_count": 1,
   "metadata": {},
   "outputs": [],
   "source": [
    "import pandas as pd\n",
    "import warnings\n",
    "warnings.filterwarnings('ignore')\n",
    "\n",
    "from Modules.dataEngineering import dataEngineering\n",
    "dataEngineering = dataEngineering()"
   ]
  },
  {
   "cell_type": "markdown",
   "metadata": {},
   "source": [
    "คำย่อที่ควรรู้ก่อน\n",
    "f คือ filter ,\n",
    "a คือ no filter หรือ ใช้ raw ratings ,\n",
    "n คือ no ,"
   ]
  },
  {
   "cell_type": "markdown",
   "metadata": {},
   "source": [
    "Load ข้อมูล"
   ]
  },
  {
   "cell_type": "code",
   "execution_count": 2,
   "metadata": {},
   "outputs": [],
   "source": [
    "df_f_ratings   = dataEngineering.load_Filter_Ratings()['data']\n",
    "df_a_ratings        = dataEngineering.loadRatings()['data']\n",
    "df_movies           = dataEngineering.loadMovies()['data']\n",
    "df_users            = dataEngineering.loadUsers()['data']"
   ]
  },
  {
   "cell_type": "markdown",
   "metadata": {},
   "source": [
    "สร้าง pivot table"
   ]
  },
  {
   "cell_type": "code",
   "execution_count": 3,
   "metadata": {},
   "outputs": [],
   "source": [
    "df_f_index     = df_f_ratings.pivot(index='User_Index', columns='Movie_Index' , values='userRating')\n",
    "df_fn_index = df_f_ratings.pivot(index='UserID', columns='MovieID' , values='userRating')"
   ]
  },
  {
   "cell_type": "code",
   "execution_count": 4,
   "metadata": {},
   "outputs": [],
   "source": [
    "df_a_ratings[\"User_Index\"] = df_a_ratings[\"UserID\"].astype('category').cat.codes\n",
    "df_a_ratings[\"Movie_Index\"] = df_a_ratings[\"MovieID\"].astype('category').cat.codes"
   ]
  },
  {
   "cell_type": "code",
   "execution_count": 5,
   "metadata": {},
   "outputs": [],
   "source": [
    "df_a_index     = df_a_ratings.pivot(index='User_Index', columns='Movie_Index' , values='userRating')\n",
    "df_an_index = df_a_ratings.pivot(index='UserID', columns='MovieID' , values='userRating')"
   ]
  },
  {
   "cell_type": "markdown",
   "metadata": {},
   "source": [
    "learning_rate และ user_based ที่ดีที่สุด"
   ]
  },
  {
   "cell_type": "code",
   "execution_count": 6,
   "metadata": {},
   "outputs": [],
   "source": [
    "from surprise import Dataset, Reader, KNNWithMeans\n",
    "from surprise.model_selection import GridSearchCV\n",
    "\n",
    "# sim_options = {\n",
    "#     'name': ['cosine', 'pearson'],\n",
    "#     'user_based': [False, True],\n",
    "# }\n",
    "# bsl_options = {\n",
    "#     'method': ['sgd'],\n",
    "#     'learning_rate': [0.0005, 0.005]\n",
    "# }\n",
    "# param_grid = {\n",
    "#     'k':[40]\n",
    "#     'sim_options': sim_options,\n",
    "#     'bsl_options': bsl_options\n",
    "# }\n",
    "\n",
    "# reader = Reader(rating_scale=(1, 5))\n",
    "# data = Dataset.load_from_df(df_a_ratings[['UserID', 'MovieID', 'userRating']], reader)\n",
    "# gs = GridSearchCV(KNNWithMeans, param_grid, measures=['rmse', 'mae'], cv=5)\n",
    "# gs.fit(data)"
   ]
  },
  {
   "cell_type": "code",
   "execution_count": 7,
   "metadata": {},
   "outputs": [],
   "source": [
    "# gs.best_params"
   ]
  },
  {
   "cell_type": "code",
   "execution_count": 8,
   "metadata": {},
   "outputs": [],
   "source": [
    "output = {\n",
    "        'rmse': {\n",
    "            'sim_options': {'name': 'pearson', 'user_based': True},\n",
    "            'bsl_options': {'method': 'sgd', 'learning_rate': 0.0005}\n",
    "    },\n",
    "        'mae': {\n",
    "            'sim_options': {'name': 'pearson', 'user_based': True},\n",
    "            'bsl_options': {'method': 'sgd', 'learning_rate': 0.0005}\n",
    "    }\n",
    "}"
   ]
  },
  {
   "cell_type": "code",
   "execution_count": 9,
   "metadata": {},
   "outputs": [],
   "source": [
    "options = {\n",
    "    'sim_options': {'name': 'pearson', 'user_based': True},\n",
    "    'bsl_options': {'method': 'sgd', 'learning_rate': 0.0005}\n",
    "  }"
   ]
  },
  {
   "cell_type": "code",
   "execution_count": 10,
   "metadata": {},
   "outputs": [],
   "source": [
    "from surprise.model_selection import train_test_split\n",
    "from surprise import accuracy\n",
    "\n",
    "reader = Reader(rating_scale=(1, 5))"
   ]
  },
  {
   "cell_type": "code",
   "execution_count": 11,
   "metadata": {},
   "outputs": [],
   "source": [
    "def create_KNNmodel(df, k_group):\n",
    "    df = df.copy()\n",
    "    print('k_group: ', k_group)\n",
    "    data = Dataset.load_from_df(df.stack().reset_index(), reader)\n",
    "    train_set, test_set = train_test_split(data, test_size=0.2, random_state=42)\n",
    "\n",
    "    model = KNNWithMeans( \n",
    "        k=k_group,\n",
    "        sim_options=options['sim_options'], \n",
    "        bsl_options=options['bsl_options']\n",
    "    )\n",
    "    model.fit(train_set)\n",
    "\n",
    "    predictions = model.test(test_set)\n",
    "    rmse = accuracy.rmse(predictions)\n",
    "    mae = accuracy.mae(predictions)\n",
    "    return model"
   ]
  },
  {
   "cell_type": "code",
   "execution_count": 12,
   "metadata": {},
   "outputs": [
    {
     "name": "stdout",
     "output_type": "stream",
     "text": [
      "k_group:  40\n"
     ]
    },
    {
     "name": "stdout",
     "output_type": "stream",
     "text": [
      "Computing the pearson similarity matrix...\n",
      "Done computing similarity matrix.\n",
      "RMSE: 0.8972\n",
      "MAE:  0.6851\n",
      "k_group:  40\n",
      "Computing the pearson similarity matrix...\n",
      "Done computing similarity matrix.\n",
      "RMSE: 0.8972\n",
      "MAE:  0.6851\n",
      "k_group:  40\n",
      "Computing the pearson similarity matrix...\n",
      "Done computing similarity matrix.\n",
      "RMSE: 0.9026\n",
      "MAE:  0.6869\n",
      "k_group:  40\n",
      "Computing the pearson similarity matrix...\n",
      "Done computing similarity matrix.\n",
      "RMSE: 0.9026\n",
      "MAE:  0.6869\n"
     ]
    }
   ],
   "source": [
    "model_f_index = create_KNNmodel(df_f_index, 40)\n",
    "model_fn_index = create_KNNmodel(df_fn_index, 40)\n",
    "\n",
    "model_a_index = create_KNNmodel(df_a_index, 40)\n",
    "model_an_index = create_KNNmodel(df_an_index, 40)"
   ]
  },
  {
   "cell_type": "markdown",
   "metadata": {},
   "source": [
    "ทดลองหา Models ที่ดีระหว่าง 4 Models ข้างต้น"
   ]
  },
  {
   "cell_type": "code",
   "execution_count": 13,
   "metadata": {},
   "outputs": [],
   "source": [
    "# แบบมี Index\n",
    "def predict_model_n_index(matrix, model):\n",
    "    matrix = matrix.copy()\n",
    "    u_col = 0\n",
    "    ratings = []\n",
    "    for u_id, row in matrix.iterrows():\n",
    "        for m_col, item in enumerate(row):\n",
    "            m_id = matrix.columns[m_col]\n",
    "            if pd.isnull(item):\n",
    "                prep_rating = round(model.predict(u_id, m_id).est, 4)\n",
    "                ratings.append([u_id, m_id, prep_rating])\n",
    "                matrix.iloc[u_col][m_id] = prep_rating\n",
    "        u_col += 1\n",
    "    \n",
    "    recomment_unwatched = pd.DataFrame(ratings, columns=['UserID', 'MovieID', 'prep_Rating'])\n",
    "    return matrix, recomment_unwatched.sort_values(by=['prep_Rating'], ascending=False)\n",
    "# แบบไม่มี Index\n",
    "def predict_model_index(matrix, model):\n",
    "    matrix = matrix.copy()\n",
    "    ratings = []\n",
    "    for u_row, row in matrix.iterrows():\n",
    "        for m_col, item in enumerate(row):\n",
    "            if pd.isnull(item):\n",
    "                prep_rating = round(model.predict(u_row, m_col).est, 4)\n",
    "                matrix.iloc[u_row][m_col] = prep_rating\n",
    "                ratings.append([u_row, m_col, prep_rating])\n",
    "\n",
    "    recomment_unwatched = pd.DataFrame(ratings, columns=['User_Index', 'Movie_Index', 'prep_Rating'])\n",
    "    return matrix, recomment_unwatched.sort_values(by=['prep_Rating'], ascending=False)\n",
    "\n",
    "userID = 2\n",
    "\n",
    "pivot_a_test  =  df_a_index.iloc[:userID].copy()\n",
    "pivot_an_test = df_an_index.iloc[:userID].copy()"
   ]
  },
  {
   "cell_type": "markdown",
   "metadata": {},
   "source": [
    "predict แบบ ไม่ใช้ Index"
   ]
  },
  {
   "cell_type": "markdown",
   "metadata": {},
   "source": [
    "1. Models ได้ค่า Mean หรือก็คือไม่สามารถทำนาย unseen dataset ได้เลย"
   ]
  },
  {
   "cell_type": "code",
   "execution_count": 14,
   "metadata": {},
   "outputs": [
    {
     "data": {
      "text/html": [
       "<div>\n",
       "<style scoped>\n",
       "    .dataframe tbody tr th:only-of-type {\n",
       "        vertical-align: middle;\n",
       "    }\n",
       "\n",
       "    .dataframe tbody tr th {\n",
       "        vertical-align: top;\n",
       "    }\n",
       "\n",
       "    .dataframe thead th {\n",
       "        text-align: right;\n",
       "    }\n",
       "</style>\n",
       "<table border=\"1\" class=\"dataframe\">\n",
       "  <thead>\n",
       "    <tr style=\"text-align: right;\">\n",
       "      <th></th>\n",
       "      <th>UserID</th>\n",
       "      <th>MovieID</th>\n",
       "      <th>prep_Rating</th>\n",
       "    </tr>\n",
       "  </thead>\n",
       "  <tbody>\n",
       "    <tr>\n",
       "      <th>15272</th>\n",
       "      <td>2</td>\n",
       "      <td>31702</td>\n",
       "      <td>3.4929</td>\n",
       "    </tr>\n",
       "    <tr>\n",
       "      <th>13380</th>\n",
       "      <td>2</td>\n",
       "      <td>5475</td>\n",
       "      <td>3.4929</td>\n",
       "    </tr>\n",
       "    <tr>\n",
       "      <th>15280</th>\n",
       "      <td>2</td>\n",
       "      <td>31921</td>\n",
       "      <td>3.4929</td>\n",
       "    </tr>\n",
       "    <tr>\n",
       "      <th>15267</th>\n",
       "      <td>2</td>\n",
       "      <td>31692</td>\n",
       "      <td>3.4929</td>\n",
       "    </tr>\n",
       "    <tr>\n",
       "      <th>15271</th>\n",
       "      <td>2</td>\n",
       "      <td>31700</td>\n",
       "      <td>3.4929</td>\n",
       "    </tr>\n",
       "  </tbody>\n",
       "</table>\n",
       "</div>"
      ],
      "text/plain": [
       "       UserID  MovieID  prep_Rating\n",
       "15272       2    31702       3.4929\n",
       "13380       2     5475       3.4929\n",
       "15280       2    31921       3.4929\n",
       "15267       2    31692       3.4929\n",
       "15271       2    31700       3.4929"
      ]
     },
     "execution_count": 14,
     "metadata": {},
     "output_type": "execute_result"
    }
   ],
   "source": [
    "mat_fn, df_fn = predict_model_n_index(pivot_an_test, model_fn_index)\n",
    "df_fn[df_fn[\"UserID\"] == userID].head(5)"
   ]
  },
  {
   "cell_type": "markdown",
   "metadata": {},
   "source": [
    "2. Models"
   ]
  },
  {
   "cell_type": "code",
   "execution_count": 15,
   "metadata": {},
   "outputs": [
    {
     "data": {
      "text/html": [
       "<div>\n",
       "<style scoped>\n",
       "    .dataframe tbody tr th:only-of-type {\n",
       "        vertical-align: middle;\n",
       "    }\n",
       "\n",
       "    .dataframe tbody tr th {\n",
       "        vertical-align: top;\n",
       "    }\n",
       "\n",
       "    .dataframe thead th {\n",
       "        text-align: right;\n",
       "    }\n",
       "</style>\n",
       "<table border=\"1\" class=\"dataframe\">\n",
       "  <thead>\n",
       "    <tr style=\"text-align: right;\">\n",
       "      <th></th>\n",
       "      <th>UserID</th>\n",
       "      <th>MovieID</th>\n",
       "      <th>prep_Rating</th>\n",
       "    </tr>\n",
       "  </thead>\n",
       "  <tbody>\n",
       "    <tr>\n",
       "      <th>14326</th>\n",
       "      <td>2</td>\n",
       "      <td>7247</td>\n",
       "      <td>5.0</td>\n",
       "    </tr>\n",
       "    <tr>\n",
       "      <th>15517</th>\n",
       "      <td>2</td>\n",
       "      <td>40412</td>\n",
       "      <td>5.0</td>\n",
       "    </tr>\n",
       "    <tr>\n",
       "      <th>13205</th>\n",
       "      <td>2</td>\n",
       "      <td>5147</td>\n",
       "      <td>5.0</td>\n",
       "    </tr>\n",
       "    <tr>\n",
       "      <th>18170</th>\n",
       "      <td>2</td>\n",
       "      <td>126548</td>\n",
       "      <td>5.0</td>\n",
       "    </tr>\n",
       "    <tr>\n",
       "      <th>17093</th>\n",
       "      <td>2</td>\n",
       "      <td>87867</td>\n",
       "      <td>5.0</td>\n",
       "    </tr>\n",
       "  </tbody>\n",
       "</table>\n",
       "</div>"
      ],
      "text/plain": [
       "       UserID  MovieID  prep_Rating\n",
       "14326       2     7247          5.0\n",
       "15517       2    40412          5.0\n",
       "13205       2     5147          5.0\n",
       "18170       2   126548          5.0\n",
       "17093       2    87867          5.0"
      ]
     },
     "execution_count": 15,
     "metadata": {},
     "output_type": "execute_result"
    }
   ],
   "source": [
    "mat_an, df_an = predict_model_n_index(pivot_an_test, model_an_index)\n",
    "df_an[df_an[\"UserID\"] == userID].head(5)"
   ]
  },
  {
   "cell_type": "markdown",
   "metadata": {},
   "source": [
    "predict แบบมีการใช้ Index"
   ]
  },
  {
   "cell_type": "markdown",
   "metadata": {},
   "source": [
    "3. Models เหมือนจะดีแต่ User_Index ไม่ตรงกับ UserID ที่ต้องการ"
   ]
  },
  {
   "cell_type": "code",
   "execution_count": 16,
   "metadata": {},
   "outputs": [
    {
     "data": {
      "text/html": [
       "<div>\n",
       "<style scoped>\n",
       "    .dataframe tbody tr th:only-of-type {\n",
       "        vertical-align: middle;\n",
       "    }\n",
       "\n",
       "    .dataframe tbody tr th {\n",
       "        vertical-align: top;\n",
       "    }\n",
       "\n",
       "    .dataframe thead th {\n",
       "        text-align: right;\n",
       "    }\n",
       "</style>\n",
       "<table border=\"1\" class=\"dataframe\">\n",
       "  <thead>\n",
       "    <tr style=\"text-align: right;\">\n",
       "      <th></th>\n",
       "      <th>User_Index</th>\n",
       "      <th>Movie_Index</th>\n",
       "      <th>prep_Rating</th>\n",
       "    </tr>\n",
       "  </thead>\n",
       "  <tbody>\n",
       "    <tr>\n",
       "      <th>14057</th>\n",
       "      <td>1</td>\n",
       "      <td>4569</td>\n",
       "      <td>5.0000</td>\n",
       "    </tr>\n",
       "    <tr>\n",
       "      <th>11621</th>\n",
       "      <td>1</td>\n",
       "      <td>2132</td>\n",
       "      <td>5.0000</td>\n",
       "    </tr>\n",
       "    <tr>\n",
       "      <th>13514</th>\n",
       "      <td>1</td>\n",
       "      <td>4026</td>\n",
       "      <td>5.0000</td>\n",
       "    </tr>\n",
       "    <tr>\n",
       "      <th>12805</th>\n",
       "      <td>1</td>\n",
       "      <td>3317</td>\n",
       "      <td>4.7680</td>\n",
       "    </tr>\n",
       "    <tr>\n",
       "      <th>10856</th>\n",
       "      <td>1</td>\n",
       "      <td>1367</td>\n",
       "      <td>4.5926</td>\n",
       "    </tr>\n",
       "  </tbody>\n",
       "</table>\n",
       "</div>"
      ],
      "text/plain": [
       "       User_Index  Movie_Index  prep_Rating\n",
       "14057           1         4569       5.0000\n",
       "11621           1         2132       5.0000\n",
       "13514           1         4026       5.0000\n",
       "12805           1         3317       4.7680\n",
       "10856           1         1367       4.5926"
      ]
     },
     "execution_count": 16,
     "metadata": {},
     "output_type": "execute_result"
    }
   ],
   "source": [
    "mat_f, df_f = predict_model_index(pivot_a_test, model_f_index)\n",
    "df_f[df_f[\"User_Index\"] == userID-1].head(5)"
   ]
  },
  {
   "cell_type": "markdown",
   "metadata": {},
   "source": [
    "4. Models เหมือนกัน Models 2"
   ]
  },
  {
   "cell_type": "code",
   "execution_count": 17,
   "metadata": {},
   "outputs": [
    {
     "data": {
      "text/html": [
       "<div>\n",
       "<style scoped>\n",
       "    .dataframe tbody tr th:only-of-type {\n",
       "        vertical-align: middle;\n",
       "    }\n",
       "\n",
       "    .dataframe tbody tr th {\n",
       "        vertical-align: top;\n",
       "    }\n",
       "\n",
       "    .dataframe thead th {\n",
       "        text-align: right;\n",
       "    }\n",
       "</style>\n",
       "<table border=\"1\" class=\"dataframe\">\n",
       "  <thead>\n",
       "    <tr style=\"text-align: right;\">\n",
       "      <th></th>\n",
       "      <th>User_Index</th>\n",
       "      <th>Movie_Index</th>\n",
       "      <th>prep_Rating</th>\n",
       "    </tr>\n",
       "  </thead>\n",
       "  <tbody>\n",
       "    <tr>\n",
       "      <th>14326</th>\n",
       "      <td>1</td>\n",
       "      <td>4839</td>\n",
       "      <td>5.0</td>\n",
       "    </tr>\n",
       "    <tr>\n",
       "      <th>15517</th>\n",
       "      <td>1</td>\n",
       "      <td>6031</td>\n",
       "      <td>5.0</td>\n",
       "    </tr>\n",
       "    <tr>\n",
       "      <th>13205</th>\n",
       "      <td>1</td>\n",
       "      <td>3717</td>\n",
       "      <td>5.0</td>\n",
       "    </tr>\n",
       "    <tr>\n",
       "      <th>18170</th>\n",
       "      <td>1</td>\n",
       "      <td>8706</td>\n",
       "      <td>5.0</td>\n",
       "    </tr>\n",
       "    <tr>\n",
       "      <th>17093</th>\n",
       "      <td>1</td>\n",
       "      <td>7619</td>\n",
       "      <td>5.0</td>\n",
       "    </tr>\n",
       "  </tbody>\n",
       "</table>\n",
       "</div>"
      ],
      "text/plain": [
       "       User_Index  Movie_Index  prep_Rating\n",
       "14326           1         4839          5.0\n",
       "15517           1         6031          5.0\n",
       "13205           1         3717          5.0\n",
       "18170           1         8706          5.0\n",
       "17093           1         7619          5.0"
      ]
     },
     "execution_count": 17,
     "metadata": {},
     "output_type": "execute_result"
    }
   ],
   "source": [
    "mat_a, df_a = predict_model_index(pivot_a_test, model_a_index)\n",
    "df_a[df_a[\"User_Index\"] == userID-1].head(5)"
   ]
  },
  {
   "cell_type": "markdown",
   "metadata": {},
   "source": [
    "Save Models"
   ]
  },
  {
   "cell_type": "code",
   "execution_count": 18,
   "metadata": {},
   "outputs": [
    {
     "data": {
      "text/plain": [
       "['models/model_KNNwithMeans.pkl']"
      ]
     },
     "execution_count": 18,
     "metadata": {},
     "output_type": "execute_result"
    }
   ],
   "source": [
    "import joblib\n",
    "\n",
    "joblib.dump(model_an_index, 'models/model_KNNwithMeans.pkl')"
   ]
  }
 ],
 "metadata": {
  "kernelspec": {
   "display_name": "Python 3",
   "language": "python",
   "name": "python3"
  },
  "language_info": {
   "codemirror_mode": {
    "name": "ipython",
    "version": 3
   },
   "file_extension": ".py",
   "mimetype": "text/x-python",
   "name": "python",
   "nbconvert_exporter": "python",
   "pygments_lexer": "ipython3",
   "version": "3.10.4"
  },
  "orig_nbformat": 4
 },
 "nbformat": 4,
 "nbformat_minor": 2
}
