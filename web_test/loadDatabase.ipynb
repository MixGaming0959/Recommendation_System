{
 "cells": [
  {
   "cell_type": "code",
   "execution_count": 1,
   "metadata": {},
   "outputs": [],
   "source": [
    "import sqlite3\n",
    "from sys import exc_info\n",
    "import pandas as pd"
   ]
  },
  {
   "cell_type": "code",
   "execution_count": 2,
   "metadata": {},
   "outputs": [],
   "source": [
    "class InvalidInputError(Exception):\n",
    "    pass"
   ]
  },
  {
   "cell_type": "code",
   "execution_count": 13,
   "metadata": {},
   "outputs": [],
   "source": [
    "def getDatabase_dataFrame_byID(id, columns, from_loc, table_name, limit=None):\n",
    "    from_loc += \"/\" + table_name + \".db\"\n",
    "\n",
    "    try:\n",
    "        if id == None or (limit is not None and not isinstance(limit, int)):\n",
    "            raise InvalidInputError(\"ID and limit must be integers\")\n",
    "        if limit is not None and limit <= 0:\n",
    "            raise InvalidInputError(\"ID and limit must be greater than or equal to 0\")\n",
    "\n",
    "        conn = sqlite3.connect(from_loc)\n",
    "        new_cur = conn.cursor()\n",
    "        query = f'SELECT * FROM {table_name} WHERE {columns} = \\'{id}\\''\n",
    "        if limit is not None:\n",
    "            query += f' LIMIT {limit}'\n",
    "        res = new_cur.execute(query)\n",
    "        df = res.fetchone()\n",
    "    except:\n",
    "        err = 'Error: {0}, {1}'.format(exc_info()[0], exc_info()[1])\n",
    "        print('LoadDatabase -> Load: ', err)\n",
    "        return {'status': False, 'data': err}\n",
    "    else:\n",
    "        conn.close()\n",
    "        return {'status': True, 'data': df}"
   ]
  },
  {
   "cell_type": "code",
   "execution_count": 20,
   "metadata": {},
   "outputs": [],
   "source": [
    "def loadDatabase_dataFrame(from_loc, table_name, limit=None):\n",
    "    from_loc += \"/\" + table_name + \".db\"\n",
    "    \n",
    "    try:\n",
    "        if (limit is not None and limit < 0):\n",
    "            raise InvalidInputError(\"Limit must be greater than 0\")\n",
    "\n",
    "        conn = sqlite3.connect(from_loc)\n",
    "        new_cur = conn.cursor()\n",
    "        query = f'SELECT * FROM {table_name}'\n",
    "        if limit is not None:\n",
    "            query += f' LIMIT {limit}'\n",
    "        res = new_cur.execute(query)\n",
    "        df = res.fetchall()\n",
    "    except:\n",
    "        err = 'Error: {0}, {1}'.format(exc_info()[0], exc_info()[1])\n",
    "        print('LoadDatabase -> Load: ', err)\n",
    "        return {'status': False, 'data': err}\n",
    "    else:\n",
    "        conn.close()\n",
    "        return {'status': True, 'data': df}"
   ]
  },
  {
   "cell_type": "code",
   "execution_count": 11,
   "metadata": {},
   "outputs": [],
   "source": [
    "from_loc = r'D:\\Coding\\Machine_Learning\\Recommendation_System\\test\\input'\n",
    "table_name = 'users'"
   ]
  },
  {
   "cell_type": "code",
   "execution_count": 22,
   "metadata": {},
   "outputs": [
    {
     "data": {
      "text/plain": [
       "[(1, 'George', 'Allen', 'popejason@example.net', '12345678'),\n",
       " (2, 'Kelly', 'Underwood', 'aprilanderson@example.org', '12345678'),\n",
       " (3, 'Patrick', 'Moore', 'roger78@example.org', '12345678'),\n",
       " (4, 'Christopher', 'Greene', 'pughwanda@example.org', '12345678'),\n",
       " (5, 'Ashley', 'Contreras', 'sloankyle@example.com', '12345678'),\n",
       " (6, 'Brian', 'Shields', 'uconner@example.com', '12345678'),\n",
       " (7, 'Andrea', 'Leonard', 'richard51@example.org', '12345678'),\n",
       " (8, 'Michaela', 'Miller', 'rfox@example.com', '12345678'),\n",
       " (9, 'Teresa', 'Sanders', 'haley73@example.net', '12345678'),\n",
       " (10, 'Shelby', 'Ochoa', 'dvillarreal@example.org', '12345678')]"
      ]
     },
     "execution_count": 22,
     "metadata": {},
     "output_type": "execute_result"
    }
   ],
   "source": [
    "loadDatabase_dataFrame(from_loc, table_name, 10)['data']"
   ]
  },
  {
   "cell_type": "code",
   "execution_count": null,
   "metadata": {},
   "outputs": [],
   "source": [
    "getDatabase_dataFrame_byID('popejason@example.net','Email',from_loc,table_name)['data'].UserID[0]"
   ]
  }
 ],
 "metadata": {
  "kernelspec": {
   "display_name": "Python 3",
   "language": "python",
   "name": "python3"
  },
  "language_info": {
   "codemirror_mode": {
    "name": "ipython",
    "version": 3
   },
   "file_extension": ".py",
   "mimetype": "text/x-python",
   "name": "python",
   "nbconvert_exporter": "python",
   "pygments_lexer": "ipython3",
   "version": "3.10.4"
  },
  "orig_nbformat": 4
 },
 "nbformat": 4,
 "nbformat_minor": 2
}
