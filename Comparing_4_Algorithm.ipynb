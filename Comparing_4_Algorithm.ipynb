{
 "cells": [
  {
   "cell_type": "markdown",
   "metadata": {},
   "source": [
    "# Import Library"
   ]
  },
  {
   "cell_type": "code",
   "execution_count": 1,
   "metadata": {},
   "outputs": [],
   "source": [
    "import pandas as pd\n",
    "import warnings\n",
    "warnings.filterwarnings('ignore')\n",
    "\n",
    "from Modules.dataEngineering import dataEngineering\n",
    "dataEngineering = dataEngineering()"
   ]
  },
  {
   "cell_type": "markdown",
   "metadata": {},
   "source": [
    "# Load ตาราง Ratings"
   ]
  },
  {
   "cell_type": "code",
   "execution_count": 2,
   "metadata": {},
   "outputs": [],
   "source": [
    "def human_format(num):\n",
    "    num = float('{:.3g}'.format(num))\n",
    "    magnitude = 0\n",
    "    while abs(num) >= 1000:\n",
    "        magnitude += 1\n",
    "        num /= 1000.0\n",
    "    return '{}{}'.format('{:f}'.format(num).rstrip('0').rstrip('.'), ['', 'K', 'M', 'B', 'T'][magnitude])"
   ]
  },
  {
   "cell_type": "code",
   "execution_count": 3,
   "metadata": {},
   "outputs": [
    {
     "data": {
      "text/html": [
       "<div>\n",
       "<style scoped>\n",
       "    .dataframe tbody tr th:only-of-type {\n",
       "        vertical-align: middle;\n",
       "    }\n",
       "\n",
       "    .dataframe tbody tr th {\n",
       "        vertical-align: top;\n",
       "    }\n",
       "\n",
       "    .dataframe thead th {\n",
       "        text-align: right;\n",
       "    }\n",
       "</style>\n",
       "<table border=\"1\" class=\"dataframe\">\n",
       "  <thead>\n",
       "    <tr style=\"text-align: right;\">\n",
       "      <th></th>\n",
       "      <th>UserID</th>\n",
       "      <th>MovieID</th>\n",
       "      <th>userRating</th>\n",
       "    </tr>\n",
       "  </thead>\n",
       "  <tbody>\n",
       "    <tr>\n",
       "      <th>0</th>\n",
       "      <td>3</td>\n",
       "      <td>296</td>\n",
       "      <td>5.0</td>\n",
       "    </tr>\n",
       "    <tr>\n",
       "      <th>1</th>\n",
       "      <td>3</td>\n",
       "      <td>1217</td>\n",
       "      <td>5.0</td>\n",
       "    </tr>\n",
       "    <tr>\n",
       "      <th>2</th>\n",
       "      <td>3</td>\n",
       "      <td>1653</td>\n",
       "      <td>5.0</td>\n",
       "    </tr>\n",
       "    <tr>\n",
       "      <th>3</th>\n",
       "      <td>3</td>\n",
       "      <td>4308</td>\n",
       "      <td>3.0</td>\n",
       "    </tr>\n",
       "    <tr>\n",
       "      <th>4</th>\n",
       "      <td>3</td>\n",
       "      <td>5952</td>\n",
       "      <td>4.0</td>\n",
       "    </tr>\n",
       "  </tbody>\n",
       "</table>\n",
       "</div>"
      ],
      "text/plain": [
       "   UserID  MovieID  userRating\n",
       "0       3      296         5.0\n",
       "1       3     1217         5.0\n",
       "2       3     1653         5.0\n",
       "3       3     4308         3.0\n",
       "4       3     5952         4.0"
      ]
     },
     "metadata": {},
     "output_type": "display_data"
    },
    {
     "data": {
      "text/plain": [
       "'Rating Count: 2.25M'"
      ]
     },
     "metadata": {},
     "output_type": "display_data"
    }
   ],
   "source": [
    "df_ratings        = dataEngineering.loadRatings()['data']\n",
    "\n",
    "display(df_ratings.head(5) ,f'Rating Count: {human_format(df_ratings.shape[0])}')"
   ]
  },
  {
   "cell_type": "markdown",
   "metadata": {},
   "source": [
    "# Load ค่า Parameterที่เหมาะสมแต่ละ Algorithm"
   ]
  },
  {
   "cell_type": "code",
   "execution_count": 4,
   "metadata": {},
   "outputs": [],
   "source": [
    "import json\n",
    "def import_parameter(file):\n",
    "    path = f'.\\Parameter\\{file}.json' \n",
    "    with open(path) as f:\n",
    "        read = json.load(f)\n",
    "    return (read)"
   ]
  },
  {
   "cell_type": "code",
   "execution_count": 5,
   "metadata": {},
   "outputs": [],
   "source": [
    "from surprise import Dataset, Reader\n",
    "from surprise.model_selection import cross_validate\n",
    "from surprise import SVD, KNNWithMeans, KNNBasic, KNNWithZScore\n",
    "\n",
    "option_SVD = import_parameter('option_SVD')\n",
    "\n",
    "option_KNNBasic = import_parameter('option_KNNBasic')\n",
    "\n",
    "option_KNNwithMeans = import_parameter('option_KNNwithMeans')\n",
    "\n",
    "option_KNNWithZScore = import_parameter('option_KNNWithZScore')\n",
    "\n",
    "# Define the metrics you want to use for evaluation\n",
    "metrics = ['rmse', 'mae']\n",
    "\n",
    "# จำนวน Fold\n",
    "fold = 5"
   ]
  },
  {
   "cell_type": "code",
   "execution_count": 6,
   "metadata": {},
   "outputs": [],
   "source": [
    "# Create a Reader object\n",
    "reader = Reader(rating_scale=(1, 5))\n",
    "\n",
    "# Load the dataset using the Reader\n",
    "data = Dataset.load_from_df(df_ratings[['UserID', 'MovieID', 'userRating']], reader)"
   ]
  },
  {
   "cell_type": "markdown",
   "metadata": {},
   "source": [
    "# Train Model"
   ]
  },
  {
   "cell_type": "code",
   "execution_count": 7,
   "metadata": {},
   "outputs": [],
   "source": [
    "# Define the models\n",
    "model_SVD = SVD(\n",
    "    n_epochs=option_SVD['n_epochs'], lr_all=option_SVD['lr_all'], reg_all=option_SVD['reg_all'],\n",
    ")\n",
    "\n",
    "model_KNNwithMeans = KNNWithMeans( k=option_KNNwithMeans['k'], \n",
    "    sim_options=option_KNNwithMeans['sim_options'], bsl_options=option_KNNwithMeans['bsl_options']\n",
    ")\n",
    "\n",
    "model_KNNBasic = KNNBasic(k=option_KNNBasic['k'], \n",
    "    sim_options=option_KNNBasic['sim_options'], bsl_options=option_KNNBasic['bsl_options'],\n",
    ")\n",
    "\n",
    "model_KNNWithZScore = KNNWithZScore(k=option_KNNWithZScore['k'], \n",
    "    sim_options=option_KNNWithZScore['sim_options'], bsl_options=option_KNNWithZScore['bsl_options'],\n",
    ")"
   ]
  },
  {
   "cell_type": "markdown",
   "metadata": {},
   "source": [
    "# ทำ Cross-Validation ในแต่ละ Algorithm"
   ]
  },
  {
   "cell_type": "code",
   "execution_count": 8,
   "metadata": {},
   "outputs": [
    {
     "name": "stdout",
     "output_type": "stream",
     "text": [
      "Evaluating RMSE, MAE of algorithm SVD on 5 split(s).\n",
      "\n",
      "                  Fold 1  Fold 2  Fold 3  Fold 4  Fold 5  Mean    Std     \n",
      "RMSE (testset)    0.8303  0.8322  0.8329  0.8313  0.8307  0.8315  0.0010  \n",
      "MAE (testset)     0.6273  0.6292  0.6290  0.6282  0.6274  0.6282  0.0008  \n",
      "Fit time          13.92   15.32   14.50   14.70   13.66   14.42   0.59    \n",
      "Test time         5.74    5.96    6.17    5.70    5.19    5.75    0.33    \n"
     ]
    }
   ],
   "source": [
    "# Perform cross-validation for SVD\n",
    "try:\n",
    "    results_SVD = cross_validate(model_SVD, data, measures=metrics, cv=fold, verbose=True)\n",
    "except (MemoryError):\n",
    "    results_SVD = {'test_rmse': [0]*fold, 'test_mae': [0]*fold,\n",
    "                            'fit_time': [0]*fold, 'test_time': [0]*fold}\n",
    "    print(\"ใช้ Memory เกิน\")\n"
   ]
  },
  {
   "cell_type": "code",
   "execution_count": 9,
   "metadata": {},
   "outputs": [
    {
     "name": "stdout",
     "output_type": "stream",
     "text": [
      "Computing the pearson similarity matrix...\n",
      "Done computing similarity matrix.\n",
      "Computing the pearson similarity matrix...\n",
      "Done computing similarity matrix.\n",
      "Computing the pearson similarity matrix...\n",
      "Done computing similarity matrix.\n",
      "Computing the pearson similarity matrix...\n",
      "Done computing similarity matrix.\n",
      "Computing the pearson similarity matrix...\n",
      "Done computing similarity matrix.\n",
      "Evaluating RMSE, MAE of algorithm KNNWithMeans on 5 split(s).\n",
      "\n",
      "                  Fold 1  Fold 2  Fold 3  Fold 4  Fold 5  Mean    Std     \n",
      "RMSE (testset)    0.7648  0.7680  0.7655  0.7681  0.7667  0.7666  0.0013  \n",
      "MAE (testset)     0.5672  0.5694  0.5677  0.5690  0.5683  0.5683  0.0008  \n",
      "Fit time          145.17  163.82  154.04  172.83  139.17  155.01  12.20   \n",
      "Test time         221.72  226.59  241.23  233.25  224.77  229.51  6.97    \n"
     ]
    }
   ],
   "source": [
    "# Perform cross-validation for KNN with Means\n",
    "try:\n",
    "    results_KNNwithMeans = cross_validate(model_KNNwithMeans, data, measures=metrics, cv=fold, verbose=True)\n",
    "except (MemoryError):\n",
    "    results_KNNwithMeans = {'test_rmse': [0]*fold, 'test_mae': [0]*fold,\n",
    "                            'fit_time': [0]*fold, 'test_time': [0]*fold}\n",
    "    print(\"ใช้ Memory เกิน\")\n",
    "    "
   ]
  },
  {
   "cell_type": "code",
   "execution_count": 10,
   "metadata": {},
   "outputs": [
    {
     "name": "stdout",
     "output_type": "stream",
     "text": [
      "Computing the pearson similarity matrix...\n",
      "Done computing similarity matrix.\n",
      "Computing the pearson similarity matrix...\n",
      "Done computing similarity matrix.\n",
      "Computing the pearson similarity matrix...\n",
      "Done computing similarity matrix.\n",
      "Computing the pearson similarity matrix...\n",
      "Done computing similarity matrix.\n",
      "Computing the pearson similarity matrix...\n",
      "Done computing similarity matrix.\n",
      "Evaluating RMSE, MAE of algorithm KNNBasic on 5 split(s).\n",
      "\n",
      "                  Fold 1  Fold 2  Fold 3  Fold 4  Fold 5  Mean    Std     \n",
      "RMSE (testset)    0.8072  0.8036  0.8070  0.8065  0.8051  0.8059  0.0014  \n",
      "MAE (testset)     0.6106  0.6078  0.6104  0.6101  0.6095  0.6097  0.0010  \n",
      "Fit time          170.96  170.15  166.28  163.86  151.11  164.47  7.16    \n",
      "Test time         205.76  220.98  223.32  221.00  215.07  217.23  6.35    \n"
     ]
    }
   ],
   "source": [
    "# Perform cross-validation for KNN Basic\n",
    "try:\n",
    "    results_KNNBasic = cross_validate(model_KNNBasic, data, measures=metrics, cv=fold, verbose=True)\n",
    "except (MemoryError):\n",
    "    results_KNNBasic = {'test_rmse': [0]*fold, 'test_mae': [0]*fold,\n",
    "                            'fit_time': [0]*fold, 'test_time': [0]*fold}\n",
    "    print(\"ใช้ Memory เกิน\")\n"
   ]
  },
  {
   "cell_type": "code",
   "execution_count": 11,
   "metadata": {},
   "outputs": [
    {
     "name": "stdout",
     "output_type": "stream",
     "text": [
      "Computing the pearson similarity matrix...\n",
      "Done computing similarity matrix.\n",
      "Computing the pearson similarity matrix...\n",
      "Done computing similarity matrix.\n",
      "Computing the pearson similarity matrix...\n",
      "Done computing similarity matrix.\n",
      "Computing the pearson similarity matrix...\n",
      "Done computing similarity matrix.\n",
      "Computing the pearson similarity matrix...\n",
      "Done computing similarity matrix.\n",
      "Evaluating RMSE, MAE of algorithm KNNWithZScore on 5 split(s).\n",
      "\n",
      "                  Fold 1  Fold 2  Fold 3  Fold 4  Fold 5  Mean    Std     \n",
      "RMSE (testset)    0.7661  0.7672  0.7667  0.7648  0.7642  0.7658  0.0011  \n",
      "MAE (testset)     0.5667  0.5680  0.5675  0.5669  0.5660  0.5670  0.0007  \n",
      "Fit time          155.13  154.88  151.28  149.34  151.90  152.51  2.21    \n",
      "Test time         233.13  234.20  229.35  230.83  231.49  231.80  1.71    \n"
     ]
    }
   ],
   "source": [
    "# Perform cross-validation for KNN with Z-Score\n",
    "try:\n",
    "    results_KNNWithZScore = cross_validate(model_KNNWithZScore, data, measures=metrics, cv=fold, verbose=True)\n",
    "except (MemoryError):\n",
    "    results_KNNWithZScore = {'test_rmse': [0]*fold, 'test_mae': [0]*fold,\n",
    "                            'fit_time': [0]*fold, 'test_time': [0]*fold}\n",
    "    print(\"ใช้ Memory เกิน\")\n"
   ]
  },
  {
   "cell_type": "markdown",
   "metadata": {},
   "source": [
    "# จัดข้อมูลที่ได้มาก่อนที่จะเก็บข้อมูล"
   ]
  },
  {
   "cell_type": "code",
   "execution_count": 12,
   "metadata": {},
   "outputs": [],
   "source": [
    "import numpy as np\n",
    "\n",
    "def Avg(lis):\n",
    "    return np.average(lis)\n",
    "\n",
    "def Std(lis):\n",
    "    return np.std(lis)"
   ]
  },
  {
   "cell_type": "code",
   "execution_count": 25,
   "metadata": {},
   "outputs": [],
   "source": [
    "def change2DataFrame(results, name):\n",
    "    print(name+':')\n",
    "    columns = ['_','RMSE', 'MAE', 'Fit time (s)', 'Test time (s)']\n",
    "    dic = { \n",
    "        '_' :['Fold %d'%x for x in range(1,fold+1)],\n",
    "        'RMSE' :results['test_rmse'],\n",
    "        'MAE' :results['test_mae'],\n",
    "        'Fit time (s)':(results['fit_time']),\n",
    "        'Test time (s)':(results['test_time'])\n",
    "    }\n",
    "        \n",
    "    df1 = pd.DataFrame(dic, index=range(1,fold+1), columns=columns)\n",
    "    new_dict = {\n",
    "        '_' :['Mean', 'Std'],\n",
    "        'RMSE' :[df1['RMSE'].mean(), df1['RMSE'].std()],\n",
    "        'MAE' :[df1['MAE'].mean(), df1['MAE'].std()],\n",
    "        'Fit time (s)':[Avg(df1['Fit time (s)']), Std(df1['Fit time (s)'])],\n",
    "        'Test time (s)':[Avg(df1['Test time (s)']), Std(df1['Test time (s)'])]\n",
    "    }\n",
    "    df2 = pd.DataFrame(new_dict, index=[fold, fold+1], columns=columns)\n",
    "    df_results = pd.concat([df1, df2], axis=0)\n",
    "    return df_results\n"
   ]
  },
  {
   "cell_type": "code",
   "execution_count": 26,
   "metadata": {},
   "outputs": [
    {
     "name": "stdout",
     "output_type": "stream",
     "text": [
      "KNNBasic Results:\n"
     ]
    },
    {
     "data": {
      "text/html": [
       "<div>\n",
       "<style scoped>\n",
       "    .dataframe tbody tr th:only-of-type {\n",
       "        vertical-align: middle;\n",
       "    }\n",
       "\n",
       "    .dataframe tbody tr th {\n",
       "        vertical-align: top;\n",
       "    }\n",
       "\n",
       "    .dataframe thead th {\n",
       "        text-align: right;\n",
       "    }\n",
       "</style>\n",
       "<table border=\"1\" class=\"dataframe\">\n",
       "  <thead>\n",
       "    <tr style=\"text-align: right;\">\n",
       "      <th></th>\n",
       "      <th>_</th>\n",
       "      <th>RMSE</th>\n",
       "      <th>MAE</th>\n",
       "      <th>Fit time (s)</th>\n",
       "      <th>Test time (s)</th>\n",
       "    </tr>\n",
       "  </thead>\n",
       "  <tbody>\n",
       "    <tr>\n",
       "      <th>1</th>\n",
       "      <td>Fold 1</td>\n",
       "      <td>0.807163</td>\n",
       "      <td>0.610559</td>\n",
       "      <td>170.964809</td>\n",
       "      <td>205.763658</td>\n",
       "    </tr>\n",
       "    <tr>\n",
       "      <th>2</th>\n",
       "      <td>Fold 2</td>\n",
       "      <td>0.803582</td>\n",
       "      <td>0.607812</td>\n",
       "      <td>170.150641</td>\n",
       "      <td>220.978497</td>\n",
       "    </tr>\n",
       "    <tr>\n",
       "      <th>3</th>\n",
       "      <td>Fold 3</td>\n",
       "      <td>0.807008</td>\n",
       "      <td>0.610380</td>\n",
       "      <td>166.284713</td>\n",
       "      <td>223.323330</td>\n",
       "    </tr>\n",
       "    <tr>\n",
       "      <th>4</th>\n",
       "      <td>Fold 4</td>\n",
       "      <td>0.806518</td>\n",
       "      <td>0.610076</td>\n",
       "      <td>163.856534</td>\n",
       "      <td>221.000066</td>\n",
       "    </tr>\n",
       "    <tr>\n",
       "      <th>5</th>\n",
       "      <td>Fold 5</td>\n",
       "      <td>0.805099</td>\n",
       "      <td>0.609481</td>\n",
       "      <td>151.112382</td>\n",
       "      <td>215.074721</td>\n",
       "    </tr>\n",
       "    <tr>\n",
       "      <th>5</th>\n",
       "      <td>Mean</td>\n",
       "      <td>0.805874</td>\n",
       "      <td>0.609662</td>\n",
       "      <td>164.473816</td>\n",
       "      <td>217.228054</td>\n",
       "    </tr>\n",
       "    <tr>\n",
       "      <th>6</th>\n",
       "      <td>Std</td>\n",
       "      <td>0.001518</td>\n",
       "      <td>0.001112</td>\n",
       "      <td>7.163067</td>\n",
       "      <td>6.348472</td>\n",
       "    </tr>\n",
       "  </tbody>\n",
       "</table>\n",
       "</div>"
      ],
      "text/plain": [
       "        _      RMSE       MAE  Fit time (s)  Test time (s)\n",
       "1  Fold 1  0.807163  0.610559    170.964809     205.763658\n",
       "2  Fold 2  0.803582  0.607812    170.150641     220.978497\n",
       "3  Fold 3  0.807008  0.610380    166.284713     223.323330\n",
       "4  Fold 4  0.806518  0.610076    163.856534     221.000066\n",
       "5  Fold 5  0.805099  0.609481    151.112382     215.074721\n",
       "5    Mean  0.805874  0.609662    164.473816     217.228054\n",
       "6     Std  0.001518  0.001112      7.163067       6.348472"
      ]
     },
     "execution_count": 26,
     "metadata": {},
     "output_type": "execute_result"
    }
   ],
   "source": [
    "df_Basic = change2DataFrame(results_KNNBasic, 'KNNBasic Results')\n",
    "df_Basic"
   ]
  },
  {
   "cell_type": "code",
   "execution_count": 27,
   "metadata": {},
   "outputs": [
    {
     "name": "stdout",
     "output_type": "stream",
     "text": [
      "KNNWithZScore Results:\n"
     ]
    },
    {
     "data": {
      "text/html": [
       "<div>\n",
       "<style scoped>\n",
       "    .dataframe tbody tr th:only-of-type {\n",
       "        vertical-align: middle;\n",
       "    }\n",
       "\n",
       "    .dataframe tbody tr th {\n",
       "        vertical-align: top;\n",
       "    }\n",
       "\n",
       "    .dataframe thead th {\n",
       "        text-align: right;\n",
       "    }\n",
       "</style>\n",
       "<table border=\"1\" class=\"dataframe\">\n",
       "  <thead>\n",
       "    <tr style=\"text-align: right;\">\n",
       "      <th></th>\n",
       "      <th>_</th>\n",
       "      <th>RMSE</th>\n",
       "      <th>MAE</th>\n",
       "      <th>Fit time (s)</th>\n",
       "      <th>Test time (s)</th>\n",
       "    </tr>\n",
       "  </thead>\n",
       "  <tbody>\n",
       "    <tr>\n",
       "      <th>1</th>\n",
       "      <td>Fold 1</td>\n",
       "      <td>0.766086</td>\n",
       "      <td>0.566709</td>\n",
       "      <td>155.131683</td>\n",
       "      <td>233.126535</td>\n",
       "    </tr>\n",
       "    <tr>\n",
       "      <th>2</th>\n",
       "      <td>Fold 2</td>\n",
       "      <td>0.767187</td>\n",
       "      <td>0.567975</td>\n",
       "      <td>154.878307</td>\n",
       "      <td>234.199525</td>\n",
       "    </tr>\n",
       "    <tr>\n",
       "      <th>3</th>\n",
       "      <td>Fold 3</td>\n",
       "      <td>0.766746</td>\n",
       "      <td>0.567496</td>\n",
       "      <td>151.282826</td>\n",
       "      <td>229.353930</td>\n",
       "    </tr>\n",
       "    <tr>\n",
       "      <th>4</th>\n",
       "      <td>Fold 4</td>\n",
       "      <td>0.764807</td>\n",
       "      <td>0.566881</td>\n",
       "      <td>149.343292</td>\n",
       "      <td>230.829907</td>\n",
       "    </tr>\n",
       "    <tr>\n",
       "      <th>5</th>\n",
       "      <td>Fold 5</td>\n",
       "      <td>0.764173</td>\n",
       "      <td>0.566005</td>\n",
       "      <td>151.902384</td>\n",
       "      <td>231.486083</td>\n",
       "    </tr>\n",
       "    <tr>\n",
       "      <th>5</th>\n",
       "      <td>Mean</td>\n",
       "      <td>0.765800</td>\n",
       "      <td>0.567013</td>\n",
       "      <td>152.507698</td>\n",
       "      <td>231.799196</td>\n",
       "    </tr>\n",
       "    <tr>\n",
       "      <th>6</th>\n",
       "      <td>Std</td>\n",
       "      <td>0.001278</td>\n",
       "      <td>0.000756</td>\n",
       "      <td>2.208405</td>\n",
       "      <td>1.705303</td>\n",
       "    </tr>\n",
       "  </tbody>\n",
       "</table>\n",
       "</div>"
      ],
      "text/plain": [
       "        _      RMSE       MAE  Fit time (s)  Test time (s)\n",
       "1  Fold 1  0.766086  0.566709    155.131683     233.126535\n",
       "2  Fold 2  0.767187  0.567975    154.878307     234.199525\n",
       "3  Fold 3  0.766746  0.567496    151.282826     229.353930\n",
       "4  Fold 4  0.764807  0.566881    149.343292     230.829907\n",
       "5  Fold 5  0.764173  0.566005    151.902384     231.486083\n",
       "5    Mean  0.765800  0.567013    152.507698     231.799196\n",
       "6     Std  0.001278  0.000756      2.208405       1.705303"
      ]
     },
     "execution_count": 27,
     "metadata": {},
     "output_type": "execute_result"
    }
   ],
   "source": [
    "df_ZScore = change2DataFrame(results_KNNWithZScore, 'KNNWithZScore Results')\n",
    "df_ZScore"
   ]
  },
  {
   "cell_type": "code",
   "execution_count": 28,
   "metadata": {},
   "outputs": [
    {
     "name": "stdout",
     "output_type": "stream",
     "text": [
      "KNNwithMeans Results:\n"
     ]
    },
    {
     "data": {
      "text/html": [
       "<div>\n",
       "<style scoped>\n",
       "    .dataframe tbody tr th:only-of-type {\n",
       "        vertical-align: middle;\n",
       "    }\n",
       "\n",
       "    .dataframe tbody tr th {\n",
       "        vertical-align: top;\n",
       "    }\n",
       "\n",
       "    .dataframe thead th {\n",
       "        text-align: right;\n",
       "    }\n",
       "</style>\n",
       "<table border=\"1\" class=\"dataframe\">\n",
       "  <thead>\n",
       "    <tr style=\"text-align: right;\">\n",
       "      <th></th>\n",
       "      <th>_</th>\n",
       "      <th>RMSE</th>\n",
       "      <th>MAE</th>\n",
       "      <th>Fit time (s)</th>\n",
       "      <th>Test time (s)</th>\n",
       "    </tr>\n",
       "  </thead>\n",
       "  <tbody>\n",
       "    <tr>\n",
       "      <th>1</th>\n",
       "      <td>Fold 1</td>\n",
       "      <td>0.764798</td>\n",
       "      <td>0.567197</td>\n",
       "      <td>145.172007</td>\n",
       "      <td>221.719015</td>\n",
       "    </tr>\n",
       "    <tr>\n",
       "      <th>2</th>\n",
       "      <td>Fold 2</td>\n",
       "      <td>0.767979</td>\n",
       "      <td>0.569356</td>\n",
       "      <td>163.818988</td>\n",
       "      <td>226.593367</td>\n",
       "    </tr>\n",
       "    <tr>\n",
       "      <th>3</th>\n",
       "      <td>Fold 3</td>\n",
       "      <td>0.765451</td>\n",
       "      <td>0.567736</td>\n",
       "      <td>154.043603</td>\n",
       "      <td>241.231625</td>\n",
       "    </tr>\n",
       "    <tr>\n",
       "      <th>4</th>\n",
       "      <td>Fold 4</td>\n",
       "      <td>0.768135</td>\n",
       "      <td>0.569013</td>\n",
       "      <td>172.829233</td>\n",
       "      <td>233.248669</td>\n",
       "    </tr>\n",
       "    <tr>\n",
       "      <th>5</th>\n",
       "      <td>Fold 5</td>\n",
       "      <td>0.766683</td>\n",
       "      <td>0.568269</td>\n",
       "      <td>139.174078</td>\n",
       "      <td>224.768638</td>\n",
       "    </tr>\n",
       "    <tr>\n",
       "      <th>5</th>\n",
       "      <td>Mean</td>\n",
       "      <td>0.766609</td>\n",
       "      <td>0.568314</td>\n",
       "      <td>155.007582</td>\n",
       "      <td>229.512263</td>\n",
       "    </tr>\n",
       "    <tr>\n",
       "      <th>6</th>\n",
       "      <td>Std</td>\n",
       "      <td>0.001486</td>\n",
       "      <td>0.000889</td>\n",
       "      <td>12.195243</td>\n",
       "      <td>6.972242</td>\n",
       "    </tr>\n",
       "  </tbody>\n",
       "</table>\n",
       "</div>"
      ],
      "text/plain": [
       "        _      RMSE       MAE  Fit time (s)  Test time (s)\n",
       "1  Fold 1  0.764798  0.567197    145.172007     221.719015\n",
       "2  Fold 2  0.767979  0.569356    163.818988     226.593367\n",
       "3  Fold 3  0.765451  0.567736    154.043603     241.231625\n",
       "4  Fold 4  0.768135  0.569013    172.829233     233.248669\n",
       "5  Fold 5  0.766683  0.568269    139.174078     224.768638\n",
       "5    Mean  0.766609  0.568314    155.007582     229.512263\n",
       "6     Std  0.001486  0.000889     12.195243       6.972242"
      ]
     },
     "execution_count": 28,
     "metadata": {},
     "output_type": "execute_result"
    }
   ],
   "source": [
    "df_Mean = change2DataFrame(results_KNNwithMeans, 'KNNwithMeans Results')\n",
    "df_Mean"
   ]
  },
  {
   "cell_type": "code",
   "execution_count": 29,
   "metadata": {},
   "outputs": [
    {
     "name": "stdout",
     "output_type": "stream",
     "text": [
      "SVD Results:\n"
     ]
    },
    {
     "data": {
      "text/html": [
       "<div>\n",
       "<style scoped>\n",
       "    .dataframe tbody tr th:only-of-type {\n",
       "        vertical-align: middle;\n",
       "    }\n",
       "\n",
       "    .dataframe tbody tr th {\n",
       "        vertical-align: top;\n",
       "    }\n",
       "\n",
       "    .dataframe thead th {\n",
       "        text-align: right;\n",
       "    }\n",
       "</style>\n",
       "<table border=\"1\" class=\"dataframe\">\n",
       "  <thead>\n",
       "    <tr style=\"text-align: right;\">\n",
       "      <th></th>\n",
       "      <th>_</th>\n",
       "      <th>RMSE</th>\n",
       "      <th>MAE</th>\n",
       "      <th>Fit time (s)</th>\n",
       "      <th>Test time (s)</th>\n",
       "    </tr>\n",
       "  </thead>\n",
       "  <tbody>\n",
       "    <tr>\n",
       "      <th>1</th>\n",
       "      <td>Fold 1</td>\n",
       "      <td>0.830310</td>\n",
       "      <td>0.627296</td>\n",
       "      <td>13.919046</td>\n",
       "      <td>5.737431</td>\n",
       "    </tr>\n",
       "    <tr>\n",
       "      <th>2</th>\n",
       "      <td>Fold 2</td>\n",
       "      <td>0.832210</td>\n",
       "      <td>0.629185</td>\n",
       "      <td>15.320657</td>\n",
       "      <td>5.961449</td>\n",
       "    </tr>\n",
       "    <tr>\n",
       "      <th>3</th>\n",
       "      <td>Fold 3</td>\n",
       "      <td>0.832939</td>\n",
       "      <td>0.629038</td>\n",
       "      <td>14.504607</td>\n",
       "      <td>6.172240</td>\n",
       "    </tr>\n",
       "    <tr>\n",
       "      <th>4</th>\n",
       "      <td>Fold 4</td>\n",
       "      <td>0.831260</td>\n",
       "      <td>0.628210</td>\n",
       "      <td>14.701105</td>\n",
       "      <td>5.695428</td>\n",
       "    </tr>\n",
       "    <tr>\n",
       "      <th>5</th>\n",
       "      <td>Fold 5</td>\n",
       "      <td>0.830735</td>\n",
       "      <td>0.627351</td>\n",
       "      <td>13.661029</td>\n",
       "      <td>5.190391</td>\n",
       "    </tr>\n",
       "    <tr>\n",
       "      <th>5</th>\n",
       "      <td>Mean</td>\n",
       "      <td>0.831491</td>\n",
       "      <td>0.628216</td>\n",
       "      <td>14.421289</td>\n",
       "      <td>5.751388</td>\n",
       "    </tr>\n",
       "    <tr>\n",
       "      <th>6</th>\n",
       "      <td>Std</td>\n",
       "      <td>0.001076</td>\n",
       "      <td>0.000896</td>\n",
       "      <td>0.587255</td>\n",
       "      <td>0.328416</td>\n",
       "    </tr>\n",
       "  </tbody>\n",
       "</table>\n",
       "</div>"
      ],
      "text/plain": [
       "        _      RMSE       MAE  Fit time (s)  Test time (s)\n",
       "1  Fold 1  0.830310  0.627296     13.919046       5.737431\n",
       "2  Fold 2  0.832210  0.629185     15.320657       5.961449\n",
       "3  Fold 3  0.832939  0.629038     14.504607       6.172240\n",
       "4  Fold 4  0.831260  0.628210     14.701105       5.695428\n",
       "5  Fold 5  0.830735  0.627351     13.661029       5.190391\n",
       "5    Mean  0.831491  0.628216     14.421289       5.751388\n",
       "6     Std  0.001076  0.000896      0.587255       0.328416"
      ]
     },
     "execution_count": 29,
     "metadata": {},
     "output_type": "execute_result"
    }
   ],
   "source": [
    "df_SVD = change2DataFrame(results_SVD, 'SVD Results')\n",
    "df_SVD"
   ]
  },
  {
   "cell_type": "markdown",
   "metadata": {},
   "source": [
    "Save Result to xlsx"
   ]
  },
  {
   "cell_type": "code",
   "execution_count": 30,
   "metadata": {},
   "outputs": [],
   "source": [
    "import pandas as pd\n",
    "\n",
    "path = 'D:\\\\Coding\\\\Machine_Learning\\\\Recommendation_System\\\\Results_Comparing\\\\'\n",
    "file_name = path + f'Count_Rating_{human_format(df_ratings.shape[0])}' + '.xlsx'\n",
    "\n",
    "# Export DataFrames to Excel using ExcelWriter \n",
    "with pd.ExcelWriter(file_name) as excel_writer:\n",
    "    df_Basic.to_excel(excel_writer, sheet_name='KNN Basic', index=False)\n",
    "    df_ZScore.to_excel(excel_writer, sheet_name='KNN With Z-Score', index=False)\n",
    "    df_Mean.to_excel(excel_writer, sheet_name='KNN with Means', index=False)\n",
    "    df_SVD.to_excel(excel_writer, sheet_name='SVD', index=False)"
   ]
  }
 ],
 "metadata": {
  "kernelspec": {
   "display_name": "Python 3",
   "language": "python",
   "name": "python3"
  },
  "language_info": {
   "codemirror_mode": {
    "name": "ipython",
    "version": 3
   },
   "file_extension": ".py",
   "mimetype": "text/x-python",
   "name": "python",
   "nbconvert_exporter": "python",
   "pygments_lexer": "ipython3",
   "version": "3.10.4"
  },
  "orig_nbformat": 4
 },
 "nbformat": 4,
 "nbformat_minor": 2
}
