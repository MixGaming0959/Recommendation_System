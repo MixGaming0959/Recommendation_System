{
 "cells": [
  {
   "cell_type": "markdown",
   "metadata": {},
   "source": [
    "# Import Library"
   ]
  },
  {
   "cell_type": "code",
   "execution_count": 1,
   "metadata": {},
   "outputs": [],
   "source": [
    "import pandas as pd\n",
    "import warnings\n",
    "warnings.filterwarnings('ignore')\n",
    "\n",
    "from Modules.dataEngineering import dataEngineering\n",
    "dataEngineering = dataEngineering()\n"
   ]
  },
  {
   "cell_type": "markdown",
   "metadata": {},
   "source": [
    "# Load ตาราง Ratings"
   ]
  },
  {
   "cell_type": "code",
   "execution_count": 19,
   "metadata": {},
   "outputs": [],
   "source": [
    "def human_format(num):\n",
    "    num = float('{:.3g}'.format(num))\n",
    "    magnitude = 0\n",
    "    while abs(num) >= 1000:\n",
    "        magnitude += 1\n",
    "        num /= 1000.0\n",
    "    return '{}{}'.format('{:f}'.format(num).rstrip('0').rstrip('.'), ['', 'K', 'M', 'B', 'T'][magnitude])"
   ]
  },
  {
   "cell_type": "code",
   "execution_count": 20,
   "metadata": {},
   "outputs": [
    {
     "data": {
      "text/html": [
       "<div>\n",
       "<style scoped>\n",
       "    .dataframe tbody tr th:only-of-type {\n",
       "        vertical-align: middle;\n",
       "    }\n",
       "\n",
       "    .dataframe tbody tr th {\n",
       "        vertical-align: top;\n",
       "    }\n",
       "\n",
       "    .dataframe thead th {\n",
       "        text-align: right;\n",
       "    }\n",
       "</style>\n",
       "<table border=\"1\" class=\"dataframe\">\n",
       "  <thead>\n",
       "    <tr style=\"text-align: right;\">\n",
       "      <th></th>\n",
       "      <th>UserID</th>\n",
       "      <th>MovieID</th>\n",
       "      <th>userRating</th>\n",
       "    </tr>\n",
       "  </thead>\n",
       "  <tbody>\n",
       "    <tr>\n",
       "      <th>0</th>\n",
       "      <td>3</td>\n",
       "      <td>296</td>\n",
       "      <td>5.0</td>\n",
       "    </tr>\n",
       "    <tr>\n",
       "      <th>1</th>\n",
       "      <td>3</td>\n",
       "      <td>1217</td>\n",
       "      <td>5.0</td>\n",
       "    </tr>\n",
       "    <tr>\n",
       "      <th>2</th>\n",
       "      <td>3</td>\n",
       "      <td>1653</td>\n",
       "      <td>5.0</td>\n",
       "    </tr>\n",
       "    <tr>\n",
       "      <th>3</th>\n",
       "      <td>3</td>\n",
       "      <td>4308</td>\n",
       "      <td>3.0</td>\n",
       "    </tr>\n",
       "    <tr>\n",
       "      <th>4</th>\n",
       "      <td>3</td>\n",
       "      <td>5952</td>\n",
       "      <td>4.0</td>\n",
       "    </tr>\n",
       "  </tbody>\n",
       "</table>\n",
       "</div>"
      ],
      "text/plain": [
       "   UserID  MovieID  userRating\n",
       "0       3      296         5.0\n",
       "1       3     1217         5.0\n",
       "2       3     1653         5.0\n",
       "3       3     4308         3.0\n",
       "4       3     5952         4.0"
      ]
     },
     "metadata": {},
     "output_type": "display_data"
    },
    {
     "data": {
      "text/plain": [
       "'Rating Count: 2.25M'"
      ]
     },
     "metadata": {},
     "output_type": "display_data"
    }
   ],
   "source": [
    "df_ratings        = dataEngineering.loadRatings()['data']\n",
    "\n",
    "display(df_ratings.head(5) ,f'Rating Count: {human_format(df_ratings.shape[0])}')"
   ]
  },
  {
   "cell_type": "markdown",
   "metadata": {},
   "source": [
    "# Load ค่า Parameterที่เหมาะสมแต่ละ Algorithm"
   ]
  },
  {
   "cell_type": "code",
   "execution_count": 3,
   "metadata": {},
   "outputs": [],
   "source": [
    "import json\n",
    "def import_parameter(file):\n",
    "    path = f'.\\Parameter\\{file}.json' \n",
    "    with open(path) as f:\n",
    "        read = json.load(f)\n",
    "    return (read)"
   ]
  },
  {
   "cell_type": "code",
   "execution_count": 4,
   "metadata": {},
   "outputs": [],
   "source": [
    "from surprise import Dataset, Reader\n",
    "from surprise.model_selection import cross_validate\n",
    "from surprise import SVD, KNNWithMeans, KNNBasic, KNNWithZScore\n",
    "\n",
    "option_SVD = import_parameter('option_SVD')\n",
    "\n",
    "option_KNNBasic = import_parameter('option_KNNBasic')\n",
    "\n",
    "option_KNNwithMeans = import_parameter('option_KNNwithMeans')\n",
    "\n",
    "option_KNNWithZScore = import_parameter('option_KNNWithZScore')\n",
    "\n",
    "# Define the metrics you want to use for evaluation\n",
    "metrics = ['rmse', 'mae']\n",
    "\n",
    "# จำนวน Fold\n",
    "fold = 5"
   ]
  },
  {
   "cell_type": "code",
   "execution_count": 5,
   "metadata": {},
   "outputs": [],
   "source": [
    "# Create a Reader object\n",
    "reader = Reader(rating_scale=(1, 5))\n",
    "\n",
    "# Load the dataset using the Reader\n",
    "data = Dataset.load_from_df(df_ratings[['UserID', 'MovieID', 'userRating']], reader)"
   ]
  },
  {
   "cell_type": "markdown",
   "metadata": {},
   "source": [
    "# Train Model"
   ]
  },
  {
   "cell_type": "code",
   "execution_count": 6,
   "metadata": {},
   "outputs": [],
   "source": [
    "# Define the models\n",
    "model_SVD = SVD(\n",
    "    n_epochs=option_SVD['n_epochs'], lr_all=option_SVD['lr_all'], reg_all=option_SVD['reg_all'],\n",
    ")\n",
    "\n",
    "model_KNNwithMeans = KNNWithMeans( k=option_KNNwithMeans['k'], \n",
    "    sim_options=option_KNNwithMeans['sim_options'], bsl_options=option_KNNwithMeans['bsl_options']\n",
    ")\n",
    "\n",
    "model_KNNBasic = KNNBasic(k=option_KNNBasic['k'], \n",
    "    sim_options=option_KNNBasic['sim_options'], bsl_options=option_KNNBasic['bsl_options'],\n",
    ")\n",
    "\n",
    "model_KNNWithZScore = KNNWithZScore(k=option_KNNWithZScore['k'], \n",
    "    sim_options=option_KNNWithZScore['sim_options'], bsl_options=option_KNNWithZScore['bsl_options'],\n",
    ")\n",
    "\n"
   ]
  },
  {
   "cell_type": "markdown",
   "metadata": {},
   "source": [
    "# ทำ Cross-Validation ในแต่ละ Algorithm"
   ]
  },
  {
   "cell_type": "code",
   "execution_count": 7,
   "metadata": {},
   "outputs": [
    {
     "name": "stdout",
     "output_type": "stream",
     "text": [
      "Evaluating RMSE, MAE of algorithm SVD on 5 split(s).\n",
      "\n",
      "                  Fold 1  Fold 2  Fold 3  Fold 4  Fold 5  Mean    Std     \n",
      "RMSE (testset)    0.8293  0.8315  0.8315  0.8337  0.8311  0.8314  0.0014  \n",
      "MAE (testset)     0.6267  0.6286  0.6286  0.6300  0.6277  0.6283  0.0011  \n",
      "Fit time          14.51   17.09   17.08   17.76   17.04   16.69   1.13    \n",
      "Test time         7.21    6.28    7.66    7.65    5.71    6.90    0.78    \n"
     ]
    }
   ],
   "source": [
    "# Perform cross-validation for SVD\n",
    "try:\n",
    "    results_SVD = cross_validate(model_SVD, data, measures=metrics, cv=fold, verbose=True)\n",
    "except (MemoryError):\n",
    "    results_SVD = {'test_rmse': [0]*fold, 'test_mae': [0]*fold,\n",
    "                            'fit_time': [0]*fold, 'test_time': [0]*fold}\n",
    "    print(\"ใช้ Memory เกิน\")\n"
   ]
  },
  {
   "cell_type": "code",
   "execution_count": 8,
   "metadata": {},
   "outputs": [
    {
     "name": "stdout",
     "output_type": "stream",
     "text": [
      "Computing the pearson similarity matrix...\n",
      "Done computing similarity matrix.\n",
      "Computing the pearson similarity matrix...\n",
      "Done computing similarity matrix.\n",
      "Computing the pearson similarity matrix...\n",
      "Done computing similarity matrix.\n",
      "Computing the pearson similarity matrix...\n",
      "Done computing similarity matrix.\n",
      "Computing the pearson similarity matrix...\n",
      "Done computing similarity matrix.\n",
      "Evaluating RMSE, MAE of algorithm KNNWithMeans on 5 split(s).\n",
      "\n",
      "                  Fold 1  Fold 2  Fold 3  Fold 4  Fold 5  Mean    Std     \n",
      "RMSE (testset)    0.7679  0.7668  0.7674  0.7652  0.7661  0.7667  0.0010  \n",
      "MAE (testset)     0.5692  0.5678  0.5687  0.5675  0.5682  0.5683  0.0006  \n",
      "Fit time          154.02  169.81  160.57  177.00  164.08  165.09  7.85    \n",
      "Test time         231.54  263.19  245.56  254.50  252.84  249.53  10.60   \n"
     ]
    }
   ],
   "source": [
    "# Perform cross-validation for KNN with Means\n",
    "try:\n",
    "    results_KNNwithMeans = cross_validate(model_KNNwithMeans, data, measures=metrics, cv=fold, verbose=True)\n",
    "except (MemoryError):\n",
    "    results_KNNwithMeans = {'test_rmse': [0]*fold, 'test_mae': [0]*fold,\n",
    "                            'fit_time': [0]*fold, 'test_time': [0]*fold}\n",
    "    print(\"ใช้ Memory เกิน\")\n",
    "    "
   ]
  },
  {
   "cell_type": "code",
   "execution_count": 9,
   "metadata": {},
   "outputs": [
    {
     "name": "stdout",
     "output_type": "stream",
     "text": [
      "Computing the pearson similarity matrix...\n",
      "Done computing similarity matrix.\n",
      "Computing the pearson similarity matrix...\n",
      "Done computing similarity matrix.\n",
      "Computing the pearson similarity matrix...\n",
      "Done computing similarity matrix.\n",
      "Computing the pearson similarity matrix...\n",
      "Done computing similarity matrix.\n",
      "Computing the pearson similarity matrix...\n",
      "Done computing similarity matrix.\n",
      "Evaluating RMSE, MAE of algorithm KNNBasic on 5 split(s).\n",
      "\n",
      "                  Fold 1  Fold 2  Fold 3  Fold 4  Fold 5  Mean    Std     \n",
      "RMSE (testset)    0.8058  0.8055  0.8078  0.8050  0.8050  0.8058  0.0010  \n",
      "MAE (testset)     0.6094  0.6094  0.6113  0.6088  0.6093  0.6097  0.0009  \n",
      "Fit time          166.91  148.27  170.94  154.37  151.98  158.49  8.83    \n",
      "Test time         228.00  212.76  208.64  206.47  202.10  211.59  8.89    \n"
     ]
    }
   ],
   "source": [
    "# Perform cross-validation for KNN Basic\n",
    "try:\n",
    "    results_KNNBasic = cross_validate(model_KNNBasic, data, measures=metrics, cv=fold, verbose=True)\n",
    "except (MemoryError):\n",
    "    results_KNNBasic = {'test_rmse': [0]*fold, 'test_mae': [0]*fold,\n",
    "                            'fit_time': [0]*fold, 'test_time': [0]*fold}\n",
    "    print(\"ใช้ Memory เกิน\")\n"
   ]
  },
  {
   "cell_type": "code",
   "execution_count": 10,
   "metadata": {},
   "outputs": [
    {
     "name": "stdout",
     "output_type": "stream",
     "text": [
      "Computing the pearson similarity matrix...\n",
      "Done computing similarity matrix.\n",
      "Computing the pearson similarity matrix...\n",
      "Done computing similarity matrix.\n",
      "Computing the pearson similarity matrix...\n",
      "Done computing similarity matrix.\n",
      "Computing the pearson similarity matrix...\n",
      "Done computing similarity matrix.\n",
      "Computing the pearson similarity matrix...\n",
      "Done computing similarity matrix.\n",
      "Evaluating RMSE, MAE of algorithm KNNWithZScore on 5 split(s).\n",
      "\n",
      "                  Fold 1  Fold 2  Fold 3  Fold 4  Fold 5  Mean    Std     \n",
      "RMSE (testset)    0.7629  0.7652  0.7659  0.7670  0.7687  0.7659  0.0019  \n",
      "MAE (testset)     0.5649  0.5666  0.5674  0.5677  0.5687  0.5671  0.0013  \n",
      "Fit time          152.91  143.87  151.16  151.29  150.67  149.98  3.15    \n",
      "Test time         241.10  232.40  231.57  244.48  231.39  236.19  5.50    \n"
     ]
    }
   ],
   "source": [
    "# Perform cross-validation for KNN with Z-Score\n",
    "try:\n",
    "    results_KNNWithZScore = cross_validate(model_KNNWithZScore, data, measures=metrics, cv=fold, verbose=True)\n",
    "except (MemoryError):\n",
    "    results_KNNWithZScore = {'test_rmse': [0]*fold, 'test_mae': [0]*fold,\n",
    "                            'fit_time': [0]*fold, 'test_time': [0]*fold}\n",
    "    print(\"ใช้ Memory เกิน\")\n"
   ]
  },
  {
   "cell_type": "markdown",
   "metadata": {},
   "source": [
    "# จัดข้อมูลที่ได้มาก่อนที่จะเก็บข้อมูล"
   ]
  },
  {
   "cell_type": "code",
   "execution_count": 11,
   "metadata": {},
   "outputs": [],
   "source": [
    "import numpy as np\n",
    "\n",
    "def Avg(lis):\n",
    "    return np.average(lis)\n",
    "\n",
    "def Std(lis):\n",
    "    return np.std(lis)"
   ]
  },
  {
   "cell_type": "code",
   "execution_count": 12,
   "metadata": {},
   "outputs": [],
   "source": [
    "def change2DataFrame(results, name):\n",
    "    print(name+':')\n",
    "    dic = { \n",
    "        '_' :['Fold %d'%x for x in range(1,fold+1)],\n",
    "        'RMSE' :results['test_rmse'],\n",
    "        'MAE' :results['test_mae'],\n",
    "        'Fit time':(results['fit_time']),\n",
    "        'Test time':(results['test_time'])\n",
    "    }\n",
    "        \n",
    "    df1 = pd.DataFrame(dic,index=range(1,fold+1), columns=['_','RMSE', 'MAE', 'Fit time', 'Test time'])\n",
    "    new_dict = {\n",
    "        '_' :['Mean', 'Std'],\n",
    "        'RMSE' :[df1['RMSE'].mean(), df1['RMSE'].std()],\n",
    "        'MAE' :[df1['MAE'].mean(), df1['MAE'].std()],\n",
    "        'Fit time':[Avg(df1['Fit time']), Std(df1['Fit time'])],\n",
    "        'Test time':[Avg(df1['Test time']), Std(df1['Test time'])]\n",
    "    }\n",
    "    df2 = pd.DataFrame(new_dict, index=[fold, fold+1], columns=['_','RMSE', 'MAE', 'Fit time', 'Test time'])\n",
    "    df_results = pd.concat([df1, df2], axis=0)\n",
    "    return df_results\n"
   ]
  },
  {
   "cell_type": "code",
   "execution_count": 13,
   "metadata": {},
   "outputs": [
    {
     "name": "stdout",
     "output_type": "stream",
     "text": [
      "KNNBasic Results:\n"
     ]
    },
    {
     "data": {
      "text/html": [
       "<div>\n",
       "<style scoped>\n",
       "    .dataframe tbody tr th:only-of-type {\n",
       "        vertical-align: middle;\n",
       "    }\n",
       "\n",
       "    .dataframe tbody tr th {\n",
       "        vertical-align: top;\n",
       "    }\n",
       "\n",
       "    .dataframe thead th {\n",
       "        text-align: right;\n",
       "    }\n",
       "</style>\n",
       "<table border=\"1\" class=\"dataframe\">\n",
       "  <thead>\n",
       "    <tr style=\"text-align: right;\">\n",
       "      <th></th>\n",
       "      <th>_</th>\n",
       "      <th>RMSE</th>\n",
       "      <th>MAE</th>\n",
       "      <th>Fit time</th>\n",
       "      <th>Test time</th>\n",
       "    </tr>\n",
       "  </thead>\n",
       "  <tbody>\n",
       "    <tr>\n",
       "      <th>1</th>\n",
       "      <td>Fold 1</td>\n",
       "      <td>0.805831</td>\n",
       "      <td>0.609442</td>\n",
       "      <td>166.907892</td>\n",
       "      <td>227.996340</td>\n",
       "    </tr>\n",
       "    <tr>\n",
       "      <th>2</th>\n",
       "      <td>Fold 2</td>\n",
       "      <td>0.805540</td>\n",
       "      <td>0.609402</td>\n",
       "      <td>148.274812</td>\n",
       "      <td>212.760964</td>\n",
       "    </tr>\n",
       "    <tr>\n",
       "      <th>3</th>\n",
       "      <td>Fold 3</td>\n",
       "      <td>0.807751</td>\n",
       "      <td>0.611305</td>\n",
       "      <td>170.939990</td>\n",
       "      <td>208.644501</td>\n",
       "    </tr>\n",
       "    <tr>\n",
       "      <th>4</th>\n",
       "      <td>Fold 4</td>\n",
       "      <td>0.805012</td>\n",
       "      <td>0.608838</td>\n",
       "      <td>154.371531</td>\n",
       "      <td>206.468421</td>\n",
       "    </tr>\n",
       "    <tr>\n",
       "      <th>5</th>\n",
       "      <td>Fold 5</td>\n",
       "      <td>0.805007</td>\n",
       "      <td>0.609289</td>\n",
       "      <td>151.977901</td>\n",
       "      <td>202.099468</td>\n",
       "    </tr>\n",
       "    <tr>\n",
       "      <th>5</th>\n",
       "      <td>Mean</td>\n",
       "      <td>0.805828</td>\n",
       "      <td>0.609655</td>\n",
       "      <td>158.494425</td>\n",
       "      <td>211.593939</td>\n",
       "    </tr>\n",
       "    <tr>\n",
       "      <th>6</th>\n",
       "      <td>Std</td>\n",
       "      <td>0.001132</td>\n",
       "      <td>0.000953</td>\n",
       "      <td>8.827030</td>\n",
       "      <td>8.893996</td>\n",
       "    </tr>\n",
       "  </tbody>\n",
       "</table>\n",
       "</div>"
      ],
      "text/plain": [
       "        _      RMSE       MAE    Fit time   Test time\n",
       "1  Fold 1  0.805831  0.609442  166.907892  227.996340\n",
       "2  Fold 2  0.805540  0.609402  148.274812  212.760964\n",
       "3  Fold 3  0.807751  0.611305  170.939990  208.644501\n",
       "4  Fold 4  0.805012  0.608838  154.371531  206.468421\n",
       "5  Fold 5  0.805007  0.609289  151.977901  202.099468\n",
       "5    Mean  0.805828  0.609655  158.494425  211.593939\n",
       "6     Std  0.001132  0.000953    8.827030    8.893996"
      ]
     },
     "execution_count": 13,
     "metadata": {},
     "output_type": "execute_result"
    }
   ],
   "source": [
    "df_Basic = change2DataFrame(results_KNNBasic, 'KNNBasic Results')\n",
    "df_Basic"
   ]
  },
  {
   "cell_type": "code",
   "execution_count": 14,
   "metadata": {},
   "outputs": [
    {
     "name": "stdout",
     "output_type": "stream",
     "text": [
      "KNNWithZScore Results:\n"
     ]
    },
    {
     "data": {
      "text/html": [
       "<div>\n",
       "<style scoped>\n",
       "    .dataframe tbody tr th:only-of-type {\n",
       "        vertical-align: middle;\n",
       "    }\n",
       "\n",
       "    .dataframe tbody tr th {\n",
       "        vertical-align: top;\n",
       "    }\n",
       "\n",
       "    .dataframe thead th {\n",
       "        text-align: right;\n",
       "    }\n",
       "</style>\n",
       "<table border=\"1\" class=\"dataframe\">\n",
       "  <thead>\n",
       "    <tr style=\"text-align: right;\">\n",
       "      <th></th>\n",
       "      <th>_</th>\n",
       "      <th>RMSE</th>\n",
       "      <th>MAE</th>\n",
       "      <th>Fit time</th>\n",
       "      <th>Test time</th>\n",
       "    </tr>\n",
       "  </thead>\n",
       "  <tbody>\n",
       "    <tr>\n",
       "      <th>1</th>\n",
       "      <td>Fold 1</td>\n",
       "      <td>0.762853</td>\n",
       "      <td>0.564853</td>\n",
       "      <td>152.907341</td>\n",
       "      <td>241.099952</td>\n",
       "    </tr>\n",
       "    <tr>\n",
       "      <th>2</th>\n",
       "      <td>Fold 2</td>\n",
       "      <td>0.765163</td>\n",
       "      <td>0.566641</td>\n",
       "      <td>143.865896</td>\n",
       "      <td>232.401138</td>\n",
       "    </tr>\n",
       "    <tr>\n",
       "      <th>3</th>\n",
       "      <td>Fold 3</td>\n",
       "      <td>0.765910</td>\n",
       "      <td>0.567409</td>\n",
       "      <td>151.161038</td>\n",
       "      <td>231.572343</td>\n",
       "    </tr>\n",
       "    <tr>\n",
       "      <th>4</th>\n",
       "      <td>Fold 4</td>\n",
       "      <td>0.767015</td>\n",
       "      <td>0.567665</td>\n",
       "      <td>151.291492</td>\n",
       "      <td>244.479350</td>\n",
       "    </tr>\n",
       "    <tr>\n",
       "      <th>5</th>\n",
       "      <td>Fold 5</td>\n",
       "      <td>0.768669</td>\n",
       "      <td>0.568710</td>\n",
       "      <td>150.667120</td>\n",
       "      <td>231.393008</td>\n",
       "    </tr>\n",
       "    <tr>\n",
       "      <th>5</th>\n",
       "      <td>Mean</td>\n",
       "      <td>0.765922</td>\n",
       "      <td>0.567056</td>\n",
       "      <td>149.978577</td>\n",
       "      <td>236.189158</td>\n",
       "    </tr>\n",
       "    <tr>\n",
       "      <th>6</th>\n",
       "      <td>Std</td>\n",
       "      <td>0.002164</td>\n",
       "      <td>0.001437</td>\n",
       "      <td>3.147652</td>\n",
       "      <td>5.504731</td>\n",
       "    </tr>\n",
       "  </tbody>\n",
       "</table>\n",
       "</div>"
      ],
      "text/plain": [
       "        _      RMSE       MAE    Fit time   Test time\n",
       "1  Fold 1  0.762853  0.564853  152.907341  241.099952\n",
       "2  Fold 2  0.765163  0.566641  143.865896  232.401138\n",
       "3  Fold 3  0.765910  0.567409  151.161038  231.572343\n",
       "4  Fold 4  0.767015  0.567665  151.291492  244.479350\n",
       "5  Fold 5  0.768669  0.568710  150.667120  231.393008\n",
       "5    Mean  0.765922  0.567056  149.978577  236.189158\n",
       "6     Std  0.002164  0.001437    3.147652    5.504731"
      ]
     },
     "execution_count": 14,
     "metadata": {},
     "output_type": "execute_result"
    }
   ],
   "source": [
    "df_ZScore = change2DataFrame(results_KNNWithZScore, 'KNNWithZScore Results')\n",
    "df_ZScore"
   ]
  },
  {
   "cell_type": "code",
   "execution_count": 15,
   "metadata": {},
   "outputs": [
    {
     "name": "stdout",
     "output_type": "stream",
     "text": [
      "KNNwithMeans Results:\n"
     ]
    },
    {
     "data": {
      "text/html": [
       "<div>\n",
       "<style scoped>\n",
       "    .dataframe tbody tr th:only-of-type {\n",
       "        vertical-align: middle;\n",
       "    }\n",
       "\n",
       "    .dataframe tbody tr th {\n",
       "        vertical-align: top;\n",
       "    }\n",
       "\n",
       "    .dataframe thead th {\n",
       "        text-align: right;\n",
       "    }\n",
       "</style>\n",
       "<table border=\"1\" class=\"dataframe\">\n",
       "  <thead>\n",
       "    <tr style=\"text-align: right;\">\n",
       "      <th></th>\n",
       "      <th>_</th>\n",
       "      <th>RMSE</th>\n",
       "      <th>MAE</th>\n",
       "      <th>Fit time</th>\n",
       "      <th>Test time</th>\n",
       "    </tr>\n",
       "  </thead>\n",
       "  <tbody>\n",
       "    <tr>\n",
       "      <th>1</th>\n",
       "      <td>Fold 1</td>\n",
       "      <td>0.767896</td>\n",
       "      <td>0.569187</td>\n",
       "      <td>154.023278</td>\n",
       "      <td>231.538822</td>\n",
       "    </tr>\n",
       "    <tr>\n",
       "      <th>2</th>\n",
       "      <td>Fold 2</td>\n",
       "      <td>0.766772</td>\n",
       "      <td>0.567846</td>\n",
       "      <td>169.805185</td>\n",
       "      <td>263.194165</td>\n",
       "    </tr>\n",
       "    <tr>\n",
       "      <th>3</th>\n",
       "      <td>Fold 3</td>\n",
       "      <td>0.767382</td>\n",
       "      <td>0.568715</td>\n",
       "      <td>160.572536</td>\n",
       "      <td>245.556587</td>\n",
       "    </tr>\n",
       "    <tr>\n",
       "      <th>4</th>\n",
       "      <td>Fold 4</td>\n",
       "      <td>0.765163</td>\n",
       "      <td>0.567521</td>\n",
       "      <td>176.996122</td>\n",
       "      <td>254.497053</td>\n",
       "    </tr>\n",
       "    <tr>\n",
       "      <th>5</th>\n",
       "      <td>Fold 5</td>\n",
       "      <td>0.766076</td>\n",
       "      <td>0.568189</td>\n",
       "      <td>164.077556</td>\n",
       "      <td>252.838882</td>\n",
       "    </tr>\n",
       "    <tr>\n",
       "      <th>5</th>\n",
       "      <td>Mean</td>\n",
       "      <td>0.766658</td>\n",
       "      <td>0.568291</td>\n",
       "      <td>165.094935</td>\n",
       "      <td>249.525102</td>\n",
       "    </tr>\n",
       "    <tr>\n",
       "      <th>6</th>\n",
       "      <td>Std</td>\n",
       "      <td>0.001078</td>\n",
       "      <td>0.000668</td>\n",
       "      <td>7.847209</td>\n",
       "      <td>10.600001</td>\n",
       "    </tr>\n",
       "  </tbody>\n",
       "</table>\n",
       "</div>"
      ],
      "text/plain": [
       "        _      RMSE       MAE    Fit time   Test time\n",
       "1  Fold 1  0.767896  0.569187  154.023278  231.538822\n",
       "2  Fold 2  0.766772  0.567846  169.805185  263.194165\n",
       "3  Fold 3  0.767382  0.568715  160.572536  245.556587\n",
       "4  Fold 4  0.765163  0.567521  176.996122  254.497053\n",
       "5  Fold 5  0.766076  0.568189  164.077556  252.838882\n",
       "5    Mean  0.766658  0.568291  165.094935  249.525102\n",
       "6     Std  0.001078  0.000668    7.847209   10.600001"
      ]
     },
     "execution_count": 15,
     "metadata": {},
     "output_type": "execute_result"
    }
   ],
   "source": [
    "df_Mean = change2DataFrame(results_KNNwithMeans, 'KNNwithMeans Results')\n",
    "df_Mean"
   ]
  },
  {
   "cell_type": "code",
   "execution_count": 16,
   "metadata": {},
   "outputs": [
    {
     "name": "stdout",
     "output_type": "stream",
     "text": [
      "SVD Results:\n"
     ]
    },
    {
     "data": {
      "text/html": [
       "<div>\n",
       "<style scoped>\n",
       "    .dataframe tbody tr th:only-of-type {\n",
       "        vertical-align: middle;\n",
       "    }\n",
       "\n",
       "    .dataframe tbody tr th {\n",
       "        vertical-align: top;\n",
       "    }\n",
       "\n",
       "    .dataframe thead th {\n",
       "        text-align: right;\n",
       "    }\n",
       "</style>\n",
       "<table border=\"1\" class=\"dataframe\">\n",
       "  <thead>\n",
       "    <tr style=\"text-align: right;\">\n",
       "      <th></th>\n",
       "      <th>_</th>\n",
       "      <th>RMSE</th>\n",
       "      <th>MAE</th>\n",
       "      <th>Fit time</th>\n",
       "      <th>Test time</th>\n",
       "    </tr>\n",
       "  </thead>\n",
       "  <tbody>\n",
       "    <tr>\n",
       "      <th>1</th>\n",
       "      <td>Fold 1</td>\n",
       "      <td>0.829296</td>\n",
       "      <td>0.626716</td>\n",
       "      <td>14.507652</td>\n",
       "      <td>7.212544</td>\n",
       "    </tr>\n",
       "    <tr>\n",
       "      <th>2</th>\n",
       "      <td>Fold 2</td>\n",
       "      <td>0.831457</td>\n",
       "      <td>0.628642</td>\n",
       "      <td>17.085799</td>\n",
       "      <td>6.279472</td>\n",
       "    </tr>\n",
       "    <tr>\n",
       "      <th>3</th>\n",
       "      <td>Fold 3</td>\n",
       "      <td>0.831473</td>\n",
       "      <td>0.628623</td>\n",
       "      <td>17.078686</td>\n",
       "      <td>7.662142</td>\n",
       "    </tr>\n",
       "    <tr>\n",
       "      <th>4</th>\n",
       "      <td>Fold 4</td>\n",
       "      <td>0.833707</td>\n",
       "      <td>0.629979</td>\n",
       "      <td>17.764328</td>\n",
       "      <td>7.649544</td>\n",
       "    </tr>\n",
       "    <tr>\n",
       "      <th>5</th>\n",
       "      <td>Fold 5</td>\n",
       "      <td>0.831121</td>\n",
       "      <td>0.627729</td>\n",
       "      <td>17.036282</td>\n",
       "      <td>5.710098</td>\n",
       "    </tr>\n",
       "    <tr>\n",
       "      <th>5</th>\n",
       "      <td>Mean</td>\n",
       "      <td>0.831411</td>\n",
       "      <td>0.628338</td>\n",
       "      <td>16.694549</td>\n",
       "      <td>6.902760</td>\n",
       "    </tr>\n",
       "    <tr>\n",
       "      <th>6</th>\n",
       "      <td>Std</td>\n",
       "      <td>0.001568</td>\n",
       "      <td>0.001211</td>\n",
       "      <td>1.126443</td>\n",
       "      <td>0.779903</td>\n",
       "    </tr>\n",
       "  </tbody>\n",
       "</table>\n",
       "</div>"
      ],
      "text/plain": [
       "        _      RMSE       MAE   Fit time  Test time\n",
       "1  Fold 1  0.829296  0.626716  14.507652   7.212544\n",
       "2  Fold 2  0.831457  0.628642  17.085799   6.279472\n",
       "3  Fold 3  0.831473  0.628623  17.078686   7.662142\n",
       "4  Fold 4  0.833707  0.629979  17.764328   7.649544\n",
       "5  Fold 5  0.831121  0.627729  17.036282   5.710098\n",
       "5    Mean  0.831411  0.628338  16.694549   6.902760\n",
       "6     Std  0.001568  0.001211   1.126443   0.779903"
      ]
     },
     "execution_count": 16,
     "metadata": {},
     "output_type": "execute_result"
    }
   ],
   "source": [
    "df_SVD = change2DataFrame(results_SVD, 'SVD Results')\n",
    "df_SVD"
   ]
  },
  {
   "cell_type": "markdown",
   "metadata": {},
   "source": [
    "Save Result to xlsx"
   ]
  },
  {
   "cell_type": "code",
   "execution_count": 18,
   "metadata": {},
   "outputs": [],
   "source": [
    "import pandas as pd\n",
    "\n",
    "path = 'D:\\\\Coding\\\\Machine_Learning\\\\Recommendation_System\\\\Results_Comparing\\\\'\n",
    "file_name = path + f'Count_Rating_{human_format(df_ratings.shape[0])}' + '.xlsx'\n",
    "\n",
    "# Export DataFrames to Excel using ExcelWriter \n",
    "with pd.ExcelWriter(file_name) as excel_writer:\n",
    "    df_Basic.to_excel(excel_writer, sheet_name='KNN Basic', index=False)\n",
    "    df_ZScore.to_excel(excel_writer, sheet_name='KNN With Z-Score', index=False)\n",
    "    df_Mean.to_excel(excel_writer, sheet_name='KNN with Means', index=False)\n",
    "    df_SVD.to_excel(excel_writer, sheet_name='SVD', index=False)"
   ]
  }
 ],
 "metadata": {
  "kernelspec": {
   "display_name": "Python 3",
   "language": "python",
   "name": "python3"
  },
  "language_info": {
   "codemirror_mode": {
    "name": "ipython",
    "version": 3
   },
   "file_extension": ".py",
   "mimetype": "text/x-python",
   "name": "python",
   "nbconvert_exporter": "python",
   "pygments_lexer": "ipython3",
   "version": "3.10.4"
  },
  "orig_nbformat": 4
 },
 "nbformat": 4,
 "nbformat_minor": 2
}
