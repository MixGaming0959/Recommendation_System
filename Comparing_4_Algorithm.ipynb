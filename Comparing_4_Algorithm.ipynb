{
 "cells": [
  {
   "cell_type": "code",
   "execution_count": 1,
   "metadata": {},
   "outputs": [],
   "source": [
    "import pandas as pd\n",
    "import warnings\n",
    "warnings.filterwarnings('ignore')\n",
    "\n",
    "from Modules.dataEngineering import dataEngineering\n",
    "dataEngineering = dataEngineering()"
   ]
  },
  {
   "cell_type": "code",
   "execution_count": 2,
   "metadata": {},
   "outputs": [],
   "source": [
    "df_ratings        = dataEngineering.loadRatings()['data']"
   ]
  },
  {
   "cell_type": "code",
   "execution_count": 3,
   "metadata": {},
   "outputs": [
    {
     "data": {
      "text/html": [
       "<div>\n",
       "<style scoped>\n",
       "    .dataframe tbody tr th:only-of-type {\n",
       "        vertical-align: middle;\n",
       "    }\n",
       "\n",
       "    .dataframe tbody tr th {\n",
       "        vertical-align: top;\n",
       "    }\n",
       "\n",
       "    .dataframe thead th {\n",
       "        text-align: right;\n",
       "    }\n",
       "</style>\n",
       "<table border=\"1\" class=\"dataframe\">\n",
       "  <thead>\n",
       "    <tr style=\"text-align: right;\">\n",
       "      <th></th>\n",
       "      <th>UserID</th>\n",
       "      <th>MovieID</th>\n",
       "      <th>userRating</th>\n",
       "      <th>Title</th>\n",
       "      <th>Genres</th>\n",
       "      <th>meanRating</th>\n",
       "    </tr>\n",
       "  </thead>\n",
       "  <tbody>\n",
       "    <tr>\n",
       "      <th>0</th>\n",
       "      <td>1</td>\n",
       "      <td>1</td>\n",
       "      <td>4.0</td>\n",
       "      <td>Toy Story (1995)</td>\n",
       "      <td>Adventure|Animation|Children|Comedy|Fantasy</td>\n",
       "      <td>3.92</td>\n",
       "    </tr>\n",
       "    <tr>\n",
       "      <th>1</th>\n",
       "      <td>5</td>\n",
       "      <td>1</td>\n",
       "      <td>4.0</td>\n",
       "      <td>Toy Story (1995)</td>\n",
       "      <td>Adventure|Animation|Children|Comedy|Fantasy</td>\n",
       "      <td>3.92</td>\n",
       "    </tr>\n",
       "    <tr>\n",
       "      <th>2</th>\n",
       "      <td>7</td>\n",
       "      <td>1</td>\n",
       "      <td>4.5</td>\n",
       "      <td>Toy Story (1995)</td>\n",
       "      <td>Adventure|Animation|Children|Comedy|Fantasy</td>\n",
       "      <td>3.92</td>\n",
       "    </tr>\n",
       "    <tr>\n",
       "      <th>3</th>\n",
       "      <td>15</td>\n",
       "      <td>1</td>\n",
       "      <td>2.5</td>\n",
       "      <td>Toy Story (1995)</td>\n",
       "      <td>Adventure|Animation|Children|Comedy|Fantasy</td>\n",
       "      <td>3.92</td>\n",
       "    </tr>\n",
       "    <tr>\n",
       "      <th>4</th>\n",
       "      <td>17</td>\n",
       "      <td>1</td>\n",
       "      <td>4.5</td>\n",
       "      <td>Toy Story (1995)</td>\n",
       "      <td>Adventure|Animation|Children|Comedy|Fantasy</td>\n",
       "      <td>3.92</td>\n",
       "    </tr>\n",
       "  </tbody>\n",
       "</table>\n",
       "</div>"
      ],
      "text/plain": [
       "   UserID  MovieID  userRating             Title  \\\n",
       "0       1        1         4.0  Toy Story (1995)   \n",
       "1       5        1         4.0  Toy Story (1995)   \n",
       "2       7        1         4.5  Toy Story (1995)   \n",
       "3      15        1         2.5  Toy Story (1995)   \n",
       "4      17        1         4.5  Toy Story (1995)   \n",
       "\n",
       "                                        Genres  meanRating  \n",
       "0  Adventure|Animation|Children|Comedy|Fantasy        3.92  \n",
       "1  Adventure|Animation|Children|Comedy|Fantasy        3.92  \n",
       "2  Adventure|Animation|Children|Comedy|Fantasy        3.92  \n",
       "3  Adventure|Animation|Children|Comedy|Fantasy        3.92  \n",
       "4  Adventure|Animation|Children|Comedy|Fantasy        3.92  "
      ]
     },
     "execution_count": 3,
     "metadata": {},
     "output_type": "execute_result"
    }
   ],
   "source": [
    "df_ratings.head(5)"
   ]
  },
  {
   "cell_type": "code",
   "execution_count": 4,
   "metadata": {},
   "outputs": [],
   "source": [
    "from surprise import Dataset, Reader\n",
    "from surprise.model_selection import cross_validate\n",
    "from surprise import SVD, KNNWithMeans, KNNBasic, KNNWithZScore\n",
    "\n",
    "options_KNNwithMeans = {\n",
    "    'k': 40,\n",
    "    'sim_options': {'name': 'pearson', 'user_based': True},\n",
    "    'bsl_options': {'method': 'sgd', 'learning_rate': 0.0005}\n",
    "}\n",
    "\n",
    "option_SVD = {\n",
    "    'n_epochs': 30, 'lr_all': 0.005, 'reg_all': 0.4\n",
    "}\n",
    "\n",
    "option_KNNBasic = {\n",
    "    'k': 100,\n",
    "    'sim_options': {'name': 'pearson', 'user_based': False},\n",
    "    'bsl_options': {'method': 'sgd', 'learning_rate': 0.0005}\n",
    "}\n",
    "\n",
    "option_KNNWithZScore = {\n",
    "    'k': 40,\n",
    "    'sim_options': {'name': 'pearson', 'user_based': True},\n",
    "    'bsl_options': {'method': 'sgd', 'learning_rate': 0.0005}\n",
    "}\n",
    "\n",
    "# Define the metrics you want to use for evaluation\n",
    "metrics = ['rmse', 'mae']\n",
    "fold = 5"
   ]
  },
  {
   "cell_type": "code",
   "execution_count": 5,
   "metadata": {},
   "outputs": [],
   "source": [
    "# Create a Reader object\n",
    "reader = Reader(rating_scale=(1, 5))\n",
    "\n",
    "# Load the dataset using the Reader\n",
    "data = Dataset.load_from_df(df_ratings[['UserID', 'MovieID', 'userRating']], reader)"
   ]
  },
  {
   "cell_type": "code",
   "execution_count": 6,
   "metadata": {},
   "outputs": [],
   "source": [
    "# Define the models\n",
    "model_SVD = SVD(\n",
    "    n_epochs=option_SVD['n_epochs'], lr_all=option_SVD['lr_all'], reg_all=option_SVD['reg_all'],\n",
    ")\n",
    "\n",
    "model_KNNwithMeans = KNNWithMeans( k=options_KNNwithMeans['k'], \n",
    "    sim_options=options_KNNwithMeans['sim_options'], bsl_options=options_KNNwithMeans['bsl_options']\n",
    ")\n",
    "\n",
    "model_KNNBasic = KNNBasic(k=option_KNNBasic['k'], \n",
    "    sim_options=option_KNNBasic['sim_options'], bsl_options=option_KNNBasic['bsl_options'],\n",
    ")\n",
    "\n",
    "model_KNNWithZScore = KNNWithZScore(k=option_KNNWithZScore['k'], \n",
    "    sim_options=option_KNNWithZScore['sim_options'], bsl_options=option_KNNWithZScore['bsl_options'],\n",
    ")\n",
    "\n"
   ]
  },
  {
   "cell_type": "code",
   "execution_count": 7,
   "metadata": {},
   "outputs": [
    {
     "name": "stdout",
     "output_type": "stream",
     "text": [
      "Evaluating RMSE, MAE of algorithm SVD on 5 split(s).\n",
      "\n",
      "                  Fold 1  Fold 2  Fold 3  Fold 4  Fold 5  Mean    Std     \n",
      "RMSE (testset)    0.8828  0.8835  0.8762  0.8789  0.8796  0.8802  0.0027  \n",
      "MAE (testset)     0.6799  0.6813  0.6789  0.6800  0.6776  0.6795  0.0012  \n",
      "Fit time          1.69    1.69    1.67    1.67    1.66    1.68    0.01    \n",
      "Test time         0.19    0.13    0.18    0.19    0.12    0.16    0.03    \n"
     ]
    }
   ],
   "source": [
    "# Perform cross-validation for SVD\n",
    "results_SVD = cross_validate(model_SVD, data, measures=metrics, cv=fold, verbose=True)"
   ]
  },
  {
   "cell_type": "code",
   "execution_count": 8,
   "metadata": {},
   "outputs": [
    {
     "name": "stdout",
     "output_type": "stream",
     "text": [
      "Computing the pearson similarity matrix...\n",
      "Done computing similarity matrix.\n",
      "Computing the pearson similarity matrix...\n",
      "Done computing similarity matrix.\n",
      "Computing the pearson similarity matrix...\n",
      "Done computing similarity matrix.\n",
      "Computing the pearson similarity matrix...\n",
      "Done computing similarity matrix.\n",
      "Computing the pearson similarity matrix...\n",
      "Done computing similarity matrix.\n",
      "Evaluating RMSE, MAE of algorithm KNNWithMeans on 5 split(s).\n",
      "\n",
      "                  Fold 1  Fold 2  Fold 3  Fold 4  Fold 5  Mean    Std     \n",
      "RMSE (testset)    0.8994  0.8960  0.8976  0.9038  0.8922  0.8978  0.0038  \n",
      "MAE (testset)     0.6834  0.6841  0.6837  0.6867  0.6794  0.6835  0.0023  \n",
      "Fit time          0.68    0.67    0.66    0.66    0.66    0.67    0.01    \n",
      "Test time         1.26    1.40    1.34    1.25    1.44    1.34    0.08    \n"
     ]
    }
   ],
   "source": [
    "# Perform cross-validation for KNN with Means\n",
    "results_KNNwithMeans = cross_validate(model_KNNwithMeans, data, measures=metrics, cv=fold, verbose=True)"
   ]
  },
  {
   "cell_type": "code",
   "execution_count": 9,
   "metadata": {},
   "outputs": [
    {
     "name": "stdout",
     "output_type": "stream",
     "text": [
      "Computing the pearson similarity matrix...\n",
      "Done computing similarity matrix.\n",
      "Computing the pearson similarity matrix...\n",
      "Done computing similarity matrix.\n",
      "Computing the pearson similarity matrix...\n",
      "Done computing similarity matrix.\n",
      "Computing the pearson similarity matrix...\n",
      "Done computing similarity matrix.\n",
      "Computing the pearson similarity matrix...\n",
      "Done computing similarity matrix.\n",
      "Evaluating RMSE, MAE of algorithm KNNBasic on 5 split(s).\n",
      "\n",
      "                  Fold 1  Fold 2  Fold 3  Fold 4  Fold 5  Mean    Std     \n",
      "RMSE (testset)    0.9594  0.9539  0.9546  0.9621  0.9531  0.9566  0.0035  \n",
      "MAE (testset)     0.7441  0.7392  0.7398  0.7451  0.7372  0.7411  0.0030  \n",
      "Fit time          10.17   10.29   9.78    10.15   10.05   10.09   0.17    \n",
      "Test time         8.66    8.47    9.19    9.12    8.64    8.82    0.29    \n"
     ]
    }
   ],
   "source": [
    "results_KNNBasic = cross_validate(model_KNNBasic, data, measures=metrics, cv=fold, verbose=True)"
   ]
  },
  {
   "cell_type": "code",
   "execution_count": 10,
   "metadata": {},
   "outputs": [
    {
     "name": "stdout",
     "output_type": "stream",
     "text": [
      "Computing the pearson similarity matrix...\n",
      "Done computing similarity matrix.\n",
      "Computing the pearson similarity matrix...\n",
      "Done computing similarity matrix.\n",
      "Computing the pearson similarity matrix...\n",
      "Done computing similarity matrix.\n",
      "Computing the pearson similarity matrix...\n",
      "Done computing similarity matrix.\n",
      "Computing the pearson similarity matrix...\n",
      "Done computing similarity matrix.\n",
      "Evaluating RMSE, MAE of algorithm KNNWithZScore on 5 split(s).\n",
      "\n",
      "                  Fold 1  Fold 2  Fold 3  Fold 4  Fold 5  Mean    Std     \n",
      "RMSE (testset)    0.8880  0.8920  0.8896  0.8930  0.8992  0.8923  0.0039  \n",
      "MAE (testset)     0.6701  0.6761  0.6730  0.6734  0.6791  0.6743  0.0030  \n",
      "Fit time          0.72    0.89    0.80    0.88    0.76    0.81    0.06    \n",
      "Test time         1.63    1.48    1.49    1.53    1.46    1.52    0.06    \n"
     ]
    }
   ],
   "source": [
    "results_KNNWithZScore = cross_validate(model_KNNWithZScore, data, measures=metrics, cv=fold, verbose=True)"
   ]
  },
  {
   "cell_type": "code",
   "execution_count": 106,
   "metadata": {},
   "outputs": [],
   "source": [
    "import numpy as np\n",
    "\n",
    "def Avg(lis):\n",
    "    return np.average(lis)\n",
    "\n",
    "def Std(lis):\n",
    "    return np.std(lis)"
   ]
  },
  {
   "cell_type": "code",
   "execution_count": null,
   "metadata": {},
   "outputs": [],
   "source": [
    "def displatFold(results, name):\n",
    "    print(name+':')\n",
    "    test_rmse = results['test_rmse']\n",
    "    test_mae = results['test_mae']\n",
    "    fit_time = list(results['fit_time'])\n",
    "    test_time = list(results['test_time'])\n",
    "\n",
    "    lis_fit, lis_test = [], []\n",
    "\n",
    "    print(\"\\tRMSE (testset)\\tMAE (testset)\\tFit time\\tTest time\")\n",
    "    for fold_idx, (rmse, mae, fit_time, test_time) in enumerate(zip(test_rmse, test_mae, fit_time, test_time), start=1):\n",
    "        print(\"Fold %d: %.4f\\t\\t%.4f\\t\\t%.4f\\t\\t%.4f\"%(fold_idx, rmse, mae, fit_time, test_time))\n",
    "        lis_fit.append(round(fit_time, 6)), lis_test.append(round(test_time, 6))\n",
    "        \n",
    "\n",
    "    print(\"Mean  : %.4f\\t\\t%.4f\\t\\t%.4f\\t\\t%.4f\"%(test_rmse.mean(), test_mae.mean(), Avg(lis_fit), Avg(lis_test)))\n",
    "    print(\"Std   : %.4f\\t\\t%.4f\\t\\t%.4f\\t\\t%.4f\"%(test_rmse.std(), test_mae.std(), Std(lis_fit), Std(lis_test)))\n"
   ]
  },
  {
   "cell_type": "code",
   "execution_count": 126,
   "metadata": {},
   "outputs": [
    {
     "name": "stdout",
     "output_type": "stream",
     "text": [
      "KNNwithMeans Results:\n",
      "\tRMSE (testset)\tMAE (testset)\tFit time\tTest time\n",
      "Fold 1: 0.8994\t\t0.6834\t\t0.6840\t\t1.2601\n",
      "Fold 2: 0.8960\t\t0.6841\t\t0.6720\t\t1.4031\n",
      "Fold 3: 0.8976\t\t0.6837\t\t0.6620\t\t1.3351\n",
      "Fold 4: 0.9038\t\t0.6867\t\t0.6621\t\t1.2491\n",
      "Fold 5: 0.8922\t\t0.6794\t\t0.6590\t\t1.4391\n",
      "Mean  : 0.8978\t\t0.6835\t\t0.6678\t\t1.3373\n",
      "Std   : 0.0038\t\t0.0023\t\t0.0092\t\t0.0754\n"
     ]
    }
   ],
   "source": [
    "displatFold(results_KNNwithMeans, 'KNNwithMeans Results')"
   ]
  },
  {
   "cell_type": "code",
   "execution_count": 127,
   "metadata": {},
   "outputs": [
    {
     "name": "stdout",
     "output_type": "stream",
     "text": [
      "SVD Results:\n",
      "\tRMSE (testset)\tMAE (testset)\tFit time\tTest time\n",
      "Fold 1: 0.8828\t\t0.6799\t\t1.6921\t\t0.1870\n",
      "Fold 2: 0.8835\t\t0.6813\t\t1.6931\t\t0.1320\n",
      "Fold 3: 0.8762\t\t0.6789\t\t1.6681\t\t0.1820\n",
      "Fold 4: 0.8789\t\t0.6800\t\t1.6651\t\t0.1880\n",
      "Fold 5: 0.8796\t\t0.6776\t\t1.6621\t\t0.1240\n",
      "Mean  : 0.8802\t\t0.6795\t\t1.6761\t\t0.1626\n",
      "Std   : 0.0027\t\t0.0012\t\t0.0136\t\t0.0284\n"
     ]
    }
   ],
   "source": [
    "displatFold(results_SVD, 'SVD Results')"
   ]
  },
  {
   "cell_type": "code",
   "execution_count": 128,
   "metadata": {},
   "outputs": [
    {
     "name": "stdout",
     "output_type": "stream",
     "text": [
      "KNNBasic Results:\n",
      "\tRMSE (testset)\tMAE (testset)\tFit time\tTest time\n",
      "Fold 1: 0.9594\t\t0.7441\t\t10.1668\t\t8.6642\n",
      "Fold 2: 0.9539\t\t0.7392\t\t10.2892\t\t8.4665\n",
      "Fold 3: 0.9546\t\t0.7398\t\t9.7833\t\t9.1857\n",
      "Fold 4: 0.9621\t\t0.7451\t\t10.1548\t\t9.1247\n",
      "Fold 5: 0.9531\t\t0.7372\t\t10.0458\t\t8.6417\n",
      "Mean  : 0.9566\t\t0.7411\t\t10.0880\t\t8.8165\n",
      "Std   : 0.0035\t\t0.0030\t\t0.1707\t\t0.2855\n"
     ]
    }
   ],
   "source": [
    "displatFold(results_KNNBasic, 'KNNBasic Results')"
   ]
  },
  {
   "cell_type": "code",
   "execution_count": 129,
   "metadata": {},
   "outputs": [
    {
     "name": "stdout",
     "output_type": "stream",
     "text": [
      "KNNWithZScore Results:\n",
      "\tRMSE (testset)\tMAE (testset)\tFit time\tTest time\n",
      "Fold 1: 0.8880\t\t0.6701\t\t0.7231\t\t1.6341\n",
      "Fold 2: 0.8920\t\t0.6761\t\t0.8881\t\t1.4791\n",
      "Fold 3: 0.8896\t\t0.6730\t\t0.7961\t\t1.4851\n",
      "Fold 4: 0.8930\t\t0.6734\t\t0.8761\t\t1.5341\n",
      "Fold 5: 0.8992\t\t0.6791\t\t0.7561\t\t1.4631\n",
      "Mean  : 0.8923\t\t0.6743\t\t0.8079\t\t1.5191\n",
      "Std   : 0.0039\t\t0.0030\t\t0.0650\t\t0.0622\n"
     ]
    }
   ],
   "source": [
    "displatFold(results_KNNWithZScore, 'KNNWithZScore Results')"
   ]
  }
 ],
 "metadata": {
  "kernelspec": {
   "display_name": "Python 3",
   "language": "python",
   "name": "python3"
  },
  "language_info": {
   "codemirror_mode": {
    "name": "ipython",
    "version": 3
   },
   "file_extension": ".py",
   "mimetype": "text/x-python",
   "name": "python",
   "nbconvert_exporter": "python",
   "pygments_lexer": "ipython3",
   "version": "3.10.4"
  },
  "orig_nbformat": 4
 },
 "nbformat": 4,
 "nbformat_minor": 2
}
