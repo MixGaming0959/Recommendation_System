{
 "cells": [
  {
   "cell_type": "code",
   "execution_count": 1,
   "metadata": {},
   "outputs": [],
   "source": [
    "import pandas as pd\n",
    "import warnings\n",
    "warnings.filterwarnings('ignore')\n",
    "\n",
    "from Modules.dataEngineering import dataEngineering\n",
    "dataEngineering = dataEngineering()"
   ]
  },
  {
   "cell_type": "code",
   "execution_count": 2,
   "metadata": {},
   "outputs": [],
   "source": [
    "df_ratings        = dataEngineering.loadRatings()['data']"
   ]
  },
  {
   "cell_type": "code",
   "execution_count": 17,
   "metadata": {},
   "outputs": [
    {
     "data": {
      "text/html": [
       "<div>\n",
       "<style scoped>\n",
       "    .dataframe tbody tr th:only-of-type {\n",
       "        vertical-align: middle;\n",
       "    }\n",
       "\n",
       "    .dataframe tbody tr th {\n",
       "        vertical-align: top;\n",
       "    }\n",
       "\n",
       "    .dataframe thead th {\n",
       "        text-align: right;\n",
       "    }\n",
       "</style>\n",
       "<table border=\"1\" class=\"dataframe\">\n",
       "  <thead>\n",
       "    <tr style=\"text-align: right;\">\n",
       "      <th></th>\n",
       "      <th>UserID</th>\n",
       "      <th>MovieID</th>\n",
       "      <th>userRating</th>\n",
       "      <th>Title</th>\n",
       "      <th>Genres</th>\n",
       "      <th>meanRating</th>\n",
       "    </tr>\n",
       "  </thead>\n",
       "  <tbody>\n",
       "    <tr>\n",
       "      <th>0</th>\n",
       "      <td>1</td>\n",
       "      <td>1</td>\n",
       "      <td>4.0</td>\n",
       "      <td>Toy Story (1995)</td>\n",
       "      <td>Adventure|Animation|Children|Comedy|Fantasy</td>\n",
       "      <td>3.92</td>\n",
       "    </tr>\n",
       "    <tr>\n",
       "      <th>1</th>\n",
       "      <td>5</td>\n",
       "      <td>1</td>\n",
       "      <td>4.0</td>\n",
       "      <td>Toy Story (1995)</td>\n",
       "      <td>Adventure|Animation|Children|Comedy|Fantasy</td>\n",
       "      <td>3.92</td>\n",
       "    </tr>\n",
       "    <tr>\n",
       "      <th>2</th>\n",
       "      <td>7</td>\n",
       "      <td>1</td>\n",
       "      <td>4.5</td>\n",
       "      <td>Toy Story (1995)</td>\n",
       "      <td>Adventure|Animation|Children|Comedy|Fantasy</td>\n",
       "      <td>3.92</td>\n",
       "    </tr>\n",
       "    <tr>\n",
       "      <th>3</th>\n",
       "      <td>15</td>\n",
       "      <td>1</td>\n",
       "      <td>2.5</td>\n",
       "      <td>Toy Story (1995)</td>\n",
       "      <td>Adventure|Animation|Children|Comedy|Fantasy</td>\n",
       "      <td>3.92</td>\n",
       "    </tr>\n",
       "    <tr>\n",
       "      <th>4</th>\n",
       "      <td>17</td>\n",
       "      <td>1</td>\n",
       "      <td>4.5</td>\n",
       "      <td>Toy Story (1995)</td>\n",
       "      <td>Adventure|Animation|Children|Comedy|Fantasy</td>\n",
       "      <td>3.92</td>\n",
       "    </tr>\n",
       "  </tbody>\n",
       "</table>\n",
       "</div>"
      ],
      "text/plain": [
       "   UserID  MovieID  userRating             Title  \\\n",
       "0       1        1         4.0  Toy Story (1995)   \n",
       "1       5        1         4.0  Toy Story (1995)   \n",
       "2       7        1         4.5  Toy Story (1995)   \n",
       "3      15        1         2.5  Toy Story (1995)   \n",
       "4      17        1         4.5  Toy Story (1995)   \n",
       "\n",
       "                                        Genres  meanRating  \n",
       "0  Adventure|Animation|Children|Comedy|Fantasy        3.92  \n",
       "1  Adventure|Animation|Children|Comedy|Fantasy        3.92  \n",
       "2  Adventure|Animation|Children|Comedy|Fantasy        3.92  \n",
       "3  Adventure|Animation|Children|Comedy|Fantasy        3.92  \n",
       "4  Adventure|Animation|Children|Comedy|Fantasy        3.92  "
      ]
     },
     "execution_count": 17,
     "metadata": {},
     "output_type": "execute_result"
    }
   ],
   "source": [
    "df_ratings.head(5)"
   ]
  },
  {
   "cell_type": "code",
   "execution_count": 4,
   "metadata": {},
   "outputs": [],
   "source": [
    "from surprise import Dataset, Reader\n",
    "from surprise.model_selection import cross_validate\n",
    "from surprise import SVD, KNNWithMeans, KNNBasic, KNNWithZScore\n",
    "\n",
    "options_KNNwithMeans = {\n",
    "    'bsl_options': {'learning_rate': 0.0005, 'method': 'sgd'},\n",
    "    'sim_options': {'name': 'cosine', 'user_based': True}\n",
    "}\n",
    "\n",
    "option_SVD = {\n",
    "    'n_epochs': 10, 'lr_all': 0.005, 'reg_all': 0.4\n",
    "}\n",
    "\n",
    "option_KNNBasic = {\n",
    "    'k': 40,\n",
    "    'sim_options': {'name': 'pearson', 'user_based': False},\n",
    "    'bsl_options': {'method': 'sgd', 'learning_rate': 0.0005}\n",
    "}\n",
    "\n",
    "option_KNNWithZScore = {\n",
    "    'k': 40,\n",
    "    'sim_options': {'name': 'pearson', 'user_based': True},\n",
    "    'bsl_options': {'method': 'sgd', 'learning_rate': 0.0005}\n",
    "}\n",
    "\n",
    "# Define the metrics you want to use for evaluation\n",
    "metrics = ['rmse', 'mae']\n",
    "fold = 5"
   ]
  },
  {
   "cell_type": "code",
   "execution_count": 5,
   "metadata": {},
   "outputs": [],
   "source": [
    "# Create a Reader object\n",
    "reader = Reader(rating_scale=(1, 5))\n",
    "\n",
    "# Load the dataset using the Reader\n",
    "data = Dataset.load_from_df(df_ratings[['UserID', 'MovieID', 'userRating']], reader)"
   ]
  },
  {
   "cell_type": "code",
   "execution_count": 6,
   "metadata": {},
   "outputs": [],
   "source": [
    "# Define the models\n",
    "model_SVD = SVD(\n",
    "    n_epochs=option_SVD['n_epochs'], lr_all=option_SVD['lr_all'], reg_all=option_SVD['reg_all'],\n",
    ")\n",
    "\n",
    "model_KNNwithMeans = KNNWithMeans( k=40, \n",
    "    sim_options=options_KNNwithMeans['sim_options'], bsl_options=options_KNNwithMeans['bsl_options']\n",
    ")\n",
    "\n",
    "model_KNNBasic = KNNBasic(k=40, \n",
    "    sim_options=option_KNNBasic['sim_options'], bsl_options=option_KNNBasic['bsl_options'],\n",
    ")\n",
    "\n",
    "model_KNNWithZScore = KNNWithZScore(k=40, \n",
    "    sim_options=option_KNNWithZScore['sim_options'], bsl_options=option_KNNWithZScore['bsl_options'],\n",
    ")\n",
    "\n"
   ]
  },
  {
   "cell_type": "code",
   "execution_count": 7,
   "metadata": {},
   "outputs": [
    {
     "name": "stdout",
     "output_type": "stream",
     "text": [
      "Evaluating RMSE, MAE of algorithm SVD on 5 split(s).\n",
      "\n",
      "                  Fold 1  Fold 2  Fold 3  Fold 4  Fold 5  Mean    Std     \n",
      "RMSE (testset)    0.8879  0.8889  0.8913  0.8939  0.8904  0.8905  0.0021  \n",
      "MAE (testset)     0.6882  0.6913  0.6909  0.6880  0.6867  0.6890  0.0018  \n",
      "Fit time          0.75    0.79    0.71    0.68    0.68    0.72    0.04    \n",
      "Test time         0.17    0.15    0.19    0.20    0.14    0.17    0.02    \n"
     ]
    }
   ],
   "source": [
    "# Perform cross-validation for SVD\n",
    "results_SVD = cross_validate(model_SVD, data, measures=metrics, cv=fold, verbose=True)"
   ]
  },
  {
   "cell_type": "code",
   "execution_count": 8,
   "metadata": {},
   "outputs": [
    {
     "name": "stdout",
     "output_type": "stream",
     "text": [
      "Computing the cosine similarity matrix...\n",
      "Done computing similarity matrix.\n",
      "Computing the cosine similarity matrix...\n",
      "Done computing similarity matrix.\n",
      "Computing the cosine similarity matrix...\n",
      "Done computing similarity matrix.\n",
      "Computing the cosine similarity matrix...\n",
      "Done computing similarity matrix.\n",
      "Computing the cosine similarity matrix...\n",
      "Done computing similarity matrix.\n",
      "Evaluating RMSE, MAE of algorithm KNNWithMeans on 5 split(s).\n",
      "\n",
      "                  Fold 1  Fold 2  Fold 3  Fold 4  Fold 5  Mean    Std     \n",
      "RMSE (testset)    0.9002  0.9029  0.9017  0.8976  0.8984  0.9002  0.0020  \n",
      "MAE (testset)     0.6877  0.6905  0.6875  0.6878  0.6877  0.6882  0.0012  \n",
      "Fit time          0.61    0.56    0.60    0.60    0.64    0.60    0.02    \n",
      "Test time         1.47    1.42    1.45    1.53    1.47    1.47    0.03    \n"
     ]
    }
   ],
   "source": [
    "# Perform cross-validation for KNN with Means\n",
    "results_KNNwithMeans = cross_validate(model_KNNwithMeans, data, measures=metrics, cv=fold, verbose=True)"
   ]
  },
  {
   "cell_type": "code",
   "execution_count": 9,
   "metadata": {},
   "outputs": [
    {
     "name": "stdout",
     "output_type": "stream",
     "text": [
      "Computing the pearson similarity matrix...\n",
      "Done computing similarity matrix.\n",
      "Computing the pearson similarity matrix...\n",
      "Done computing similarity matrix.\n",
      "Computing the pearson similarity matrix...\n",
      "Done computing similarity matrix.\n",
      "Computing the pearson similarity matrix...\n",
      "Done computing similarity matrix.\n",
      "Computing the pearson similarity matrix...\n",
      "Done computing similarity matrix.\n",
      "Evaluating RMSE, MAE of algorithm KNNBasic on 5 split(s).\n",
      "\n",
      "                  Fold 1  Fold 2  Fold 3  Fold 4  Fold 5  Mean    Std     \n",
      "RMSE (testset)    0.9692  0.9691  0.9668  0.9717  0.9733  0.9700  0.0023  \n",
      "MAE (testset)     0.7528  0.7508  0.7535  0.7557  0.7565  0.7538  0.0021  \n",
      "Fit time          11.28   13.30   11.03   11.14   10.65   11.48   0.93    \n",
      "Test time         8.30    8.16    8.21    8.09    8.01    8.16    0.10    \n"
     ]
    }
   ],
   "source": [
    "results_KNNBasic = cross_validate(model_KNNBasic, data, measures=metrics, cv=fold, verbose=True)"
   ]
  },
  {
   "cell_type": "code",
   "execution_count": 10,
   "metadata": {},
   "outputs": [
    {
     "name": "stdout",
     "output_type": "stream",
     "text": [
      "Computing the pearson similarity matrix...\n",
      "Done computing similarity matrix.\n",
      "Computing the pearson similarity matrix...\n",
      "Done computing similarity matrix.\n",
      "Computing the pearson similarity matrix...\n",
      "Done computing similarity matrix.\n",
      "Computing the pearson similarity matrix...\n",
      "Done computing similarity matrix.\n",
      "Computing the pearson similarity matrix...\n",
      "Done computing similarity matrix.\n",
      "Evaluating RMSE, MAE of algorithm KNNWithZScore on 5 split(s).\n",
      "\n",
      "                  Fold 1  Fold 2  Fold 3  Fold 4  Fold 5  Mean    Std     \n",
      "RMSE (testset)    0.8932  0.8926  0.8972  0.8963  0.8812  0.8921  0.0057  \n",
      "MAE (testset)     0.6749  0.6742  0.6791  0.6785  0.6665  0.6746  0.0045  \n",
      "Fit time          0.73    0.77    0.79    0.90    0.83    0.80    0.06    \n",
      "Test time         1.55    1.45    1.58    1.43    1.55    1.51    0.06    \n"
     ]
    }
   ],
   "source": [
    "results_KNNWithZScore = cross_validate(model_KNNWithZScore, data, measures=metrics, cv=fold, verbose=True)"
   ]
  },
  {
   "cell_type": "code",
   "execution_count": 11,
   "metadata": {},
   "outputs": [],
   "source": [
    "def displatFold(results, name):\n",
    "    print(name+':')\n",
    "    print(\"\\tRMSE (testset)\\tMAE (testset)\\tFit time\\tTest time\")\n",
    "    for fold_idx, (rmse, mae, fit_time, test_time) in enumerate(zip(results['test_rmse'], results['test_mae'], results['fit_time'], results['test_time']), start=1):\n",
    "        print(\"Fold %d: %.4f\\t\\t%.4f\\t\\t%.4f\\t\\t%.4f\"%(fold_idx, rmse, mae, fit_time, test_time))"
   ]
  },
  {
   "cell_type": "code",
   "execution_count": 12,
   "metadata": {},
   "outputs": [
    {
     "name": "stdout",
     "output_type": "stream",
     "text": [
      "KNNwithMeans Results:\n",
      "\tRMSE (testset)\tMAE (testset)\tFit time\tTest time\n",
      "Fold 1: 0.9002\t\t0.6877\t\t0.6100\t\t1.4681\n",
      "Fold 2: 0.9029\t\t0.6905\t\t0.5640\t\t1.4231\n",
      "Fold 3: 0.9017\t\t0.6875\t\t0.5980\t\t1.4501\n",
      "Fold 4: 0.8976\t\t0.6878\t\t0.6012\t\t1.5291\n",
      "Fold 5: 0.8984\t\t0.6877\t\t0.6355\t\t1.4741\n"
     ]
    }
   ],
   "source": [
    "displatFold(results_KNNwithMeans, 'KNNwithMeans Results')"
   ]
  },
  {
   "cell_type": "code",
   "execution_count": 13,
   "metadata": {},
   "outputs": [
    {
     "name": "stdout",
     "output_type": "stream",
     "text": [
      "SVD Results:\n",
      "\tRMSE (testset)\tMAE (testset)\tFit time\tTest time\n",
      "Fold 1: 0.8879\t\t0.6882\t\t0.7501\t\t0.1700\n",
      "Fold 2: 0.8889\t\t0.6913\t\t0.7921\t\t0.1490\n",
      "Fold 3: 0.8913\t\t0.6909\t\t0.7101\t\t0.1940\n",
      "Fold 4: 0.8939\t\t0.6880\t\t0.6841\t\t0.2000\n",
      "Fold 5: 0.8904\t\t0.6867\t\t0.6840\t\t0.1370\n"
     ]
    }
   ],
   "source": [
    "displatFold(results_SVD, 'SVD Results')"
   ]
  },
  {
   "cell_type": "code",
   "execution_count": 14,
   "metadata": {},
   "outputs": [
    {
     "name": "stdout",
     "output_type": "stream",
     "text": [
      "KNNBasic Results:\n",
      "\tRMSE (testset)\tMAE (testset)\tFit time\tTest time\n",
      "Fold 1: 0.9692\t\t0.7528\t\t11.2788\t\t8.2966\n",
      "Fold 2: 0.9691\t\t0.7508\t\t13.2970\t\t8.1611\n",
      "Fold 3: 0.9668\t\t0.7535\t\t11.0348\t\t8.2136\n",
      "Fold 4: 0.9717\t\t0.7557\t\t11.1408\t\t8.0938\n",
      "Fold 5: 0.9733\t\t0.7565\t\t10.6458\t\t8.0126\n"
     ]
    }
   ],
   "source": [
    "displatFold(results_KNNBasic, 'KNNBasic Results')"
   ]
  },
  {
   "cell_type": "code",
   "execution_count": 15,
   "metadata": {},
   "outputs": [
    {
     "name": "stdout",
     "output_type": "stream",
     "text": [
      "KNNWithZScore Results:\n",
      "\tRMSE (testset)\tMAE (testset)\tFit time\tTest time\n",
      "Fold 1: 0.8932\t\t0.6749\t\t0.7271\t\t1.5521\n",
      "Fold 2: 0.8926\t\t0.6742\t\t0.7701\t\t1.4521\n",
      "Fold 3: 0.8972\t\t0.6791\t\t0.7851\t\t1.5811\n",
      "Fold 4: 0.8963\t\t0.6785\t\t0.9011\t\t1.4331\n",
      "Fold 5: 0.8812\t\t0.6665\t\t0.8271\t\t1.5491\n"
     ]
    }
   ],
   "source": [
    "displatFold(results_KNNWithZScore, 'KNNWithZScore Results')"
   ]
  }
 ],
 "metadata": {
  "kernelspec": {
   "display_name": "Python 3",
   "language": "python",
   "name": "python3"
  },
  "language_info": {
   "codemirror_mode": {
    "name": "ipython",
    "version": 3
   },
   "file_extension": ".py",
   "mimetype": "text/x-python",
   "name": "python",
   "nbconvert_exporter": "python",
   "pygments_lexer": "ipython3",
   "version": "3.10.4"
  },
  "orig_nbformat": 4
 },
 "nbformat": 4,
 "nbformat_minor": 2
}
