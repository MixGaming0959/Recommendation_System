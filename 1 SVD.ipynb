{
 "cells": [
  {
   "cell_type": "code",
   "execution_count": 7,
   "metadata": {},
   "outputs": [],
   "source": [
    "import pandas as pd\n",
    "import warnings\n",
    "warnings.filterwarnings('ignore')\n",
    "\n",
    "from Modules.dataEngineering import dataEngineering\n",
    "dataEngineering = dataEngineering()"
   ]
  },
  {
   "cell_type": "code",
   "execution_count": 8,
   "metadata": {},
   "outputs": [
    {
     "data": {
      "text/plain": [
       "2247560"
      ]
     },
     "execution_count": 8,
     "metadata": {},
     "output_type": "execute_result"
    }
   ],
   "source": [
    "df_ratings        = dataEngineering.loadRatings()['data']\n",
    "df_ratings.shape[0]"
   ]
  },
  {
   "cell_type": "code",
   "execution_count": 11,
   "metadata": {},
   "outputs": [],
   "source": [
    "from surprise import Dataset, SVD, Reader\n",
    "from surprise.model_selection import GridSearchCV\n",
    "\n",
    "# Use movielens-100K\n",
    "reader = Reader(rating_scale=(1, 5))\n",
    "data = Dataset.load_from_df(df_ratings[['UserID', 'MovieID', 'userRating']], reader)\n",
    "\n",
    "param_grid = {\n",
    "    \"n_epochs\": [10, 30], \n",
    "    \"lr_all\": [0.0005, 0.005], \n",
    "    \"reg_all\": [0.4, 0.6]\n",
    "}\n",
    "\n",
    "# สร้างตัว GridSearchCV สำหรับการค้นหาพารามิเตอร์\n",
    "gs = GridSearchCV(SVD, param_grid, measures=[\"rmse\", \"mae\"], cv=5)\n",
    "gs.fit(data)"
   ]
  },
  {
   "cell_type": "markdown",
   "metadata": {},
   "source": [
    "เวลาที่ใช้ในการหาค่า Parameter: 30m"
   ]
  },
  {
   "cell_type": "code",
   "execution_count": 11,
   "metadata": {},
   "outputs": [
    {
     "data": {
      "text/plain": [
       "{'rmse': 0.8311952204703804, 'mae': 0.6283979309761831}"
      ]
     },
     "metadata": {},
     "output_type": "display_data"
    },
    {
     "data": {
      "text/plain": [
       "{'rmse': {'n_epochs': 10, 'lr_all': 0.005, 'reg_all': 0.4},\n",
       " 'mae': {'n_epochs': 10, 'lr_all': 0.005, 'reg_all': 0.4}}"
      ]
     },
     "metadata": {},
     "output_type": "display_data"
    }
   ],
   "source": [
    "display(gs.best_score, gs.best_params)"
   ]
  },
  {
   "cell_type": "code",
   "execution_count": 1,
   "metadata": {},
   "outputs": [],
   "source": [
    "option_SVD = gs.best_params['rmse']\n",
    "option_SVD"
   ]
  },
  {
   "cell_type": "code",
   "execution_count": 12,
   "metadata": {},
   "outputs": [],
   "source": [
    "from surprise.model_selection import train_test_split\n",
    "from surprise import accuracy"
   ]
  },
  {
   "cell_type": "code",
   "execution_count": 13,
   "metadata": {},
   "outputs": [
    {
     "name": "stdout",
     "output_type": "stream",
     "text": [
      "RMSE: 0.8310\n",
      "MAE:  0.6280\n"
     ]
    }
   ],
   "source": [
    "train_set, test_set = train_test_split(data, test_size=0.2, random_state=42)\n",
    "\n",
    "model_SVD = SVD(n_epochs=option_SVD['n_epochs'], lr_all=option_SVD['lr_all'], reg_all=option_SVD['reg_all'],)\n",
    "\n",
    "model_SVD.fit(train_set)\n",
    "\n",
    "predictions = model_SVD.test(test_set)\n",
    "rmse = accuracy.rmse(predictions)\n",
    "mae = accuracy.mae(predictions)"
   ]
  },
  {
   "cell_type": "code",
   "execution_count": 14,
   "metadata": {},
   "outputs": [],
   "source": [
    "def predict_model(pivot):\n",
    "    matrix = pivot.copy()\n",
    "    u_col = 0\n",
    "    ratings = []\n",
    "    for u_id, row in matrix.iterrows():\n",
    "        for m_col, item in enumerate(row):\n",
    "            m_id = matrix.columns[m_col]\n",
    "            if pd.isnull(item):\n",
    "                prep_rating = round(model_SVD.predict(u_id, m_id).est, 4)\n",
    "                ratings.append([u_id, m_id, prep_rating])\n",
    "                matrix.iloc[u_col][m_id] = prep_rating\n",
    "        u_col += 1\n",
    "    \n",
    "    recomment_unwatched = pd.DataFrame(ratings, columns=['UserID', 'MovieID', 'prep_Rating'])\n",
    "    return matrix, recomment_unwatched.sort_values(by=['prep_Rating'], ascending=False)"
   ]
  },
  {
   "cell_type": "code",
   "execution_count": 15,
   "metadata": {},
   "outputs": [],
   "source": [
    "df_pivot = df_ratings.pivot(index='UserID', columns='MovieID' , values='userRating')"
   ]
  },
  {
   "cell_type": "code",
   "execution_count": 16,
   "metadata": {},
   "outputs": [],
   "source": [
    "mat, prep = predict_model(df_pivot.iloc[1:2])"
   ]
  },
  {
   "cell_type": "code",
   "execution_count": 17,
   "metadata": {},
   "outputs": [
    {
     "data": {
      "text/html": [
       "<div>\n",
       "<style scoped>\n",
       "    .dataframe tbody tr th:only-of-type {\n",
       "        vertical-align: middle;\n",
       "    }\n",
       "\n",
       "    .dataframe tbody tr th {\n",
       "        vertical-align: top;\n",
       "    }\n",
       "\n",
       "    .dataframe thead th {\n",
       "        text-align: right;\n",
       "    }\n",
       "</style>\n",
       "<table border=\"1\" class=\"dataframe\">\n",
       "  <thead>\n",
       "    <tr style=\"text-align: right;\">\n",
       "      <th>MovieID</th>\n",
       "      <th>1</th>\n",
       "      <th>2</th>\n",
       "      <th>3</th>\n",
       "      <th>4</th>\n",
       "      <th>5</th>\n",
       "      <th>6</th>\n",
       "      <th>7</th>\n",
       "      <th>8</th>\n",
       "      <th>9</th>\n",
       "      <th>10</th>\n",
       "      <th>...</th>\n",
       "      <th>188301</th>\n",
       "      <th>189203</th>\n",
       "      <th>189333</th>\n",
       "      <th>189713</th>\n",
       "      <th>192385</th>\n",
       "      <th>192389</th>\n",
       "      <th>192803</th>\n",
       "      <th>194448</th>\n",
       "      <th>195159</th>\n",
       "      <th>201773</th>\n",
       "    </tr>\n",
       "    <tr>\n",
       "      <th>UserID</th>\n",
       "      <th></th>\n",
       "      <th></th>\n",
       "      <th></th>\n",
       "      <th></th>\n",
       "      <th></th>\n",
       "      <th></th>\n",
       "      <th></th>\n",
       "      <th></th>\n",
       "      <th></th>\n",
       "      <th></th>\n",
       "      <th></th>\n",
       "      <th></th>\n",
       "      <th></th>\n",
       "      <th></th>\n",
       "      <th></th>\n",
       "      <th></th>\n",
       "      <th></th>\n",
       "      <th></th>\n",
       "      <th></th>\n",
       "      <th></th>\n",
       "      <th></th>\n",
       "    </tr>\n",
       "  </thead>\n",
       "  <tbody>\n",
       "    <tr>\n",
       "      <th>4</th>\n",
       "      <td>3.0</td>\n",
       "      <td>3.3341</td>\n",
       "      <td>3.1331</td>\n",
       "      <td>2.813</td>\n",
       "      <td>3.0471</td>\n",
       "      <td>3.7369</td>\n",
       "      <td>3.3041</td>\n",
       "      <td>3.1503</td>\n",
       "      <td>2.9131</td>\n",
       "      <td>3.3166</td>\n",
       "      <td>...</td>\n",
       "      <td>3.4204</td>\n",
       "      <td>3.5288</td>\n",
       "      <td>4.0</td>\n",
       "      <td>3.4761</td>\n",
       "      <td>3.4571</td>\n",
       "      <td>3.2049</td>\n",
       "      <td>3.4732</td>\n",
       "      <td>3.5652</td>\n",
       "      <td>5.0</td>\n",
       "      <td>3.4423</td>\n",
       "    </tr>\n",
       "  </tbody>\n",
       "</table>\n",
       "<p>1 rows × 3794 columns</p>\n",
       "</div>"
      ],
      "text/plain": [
       "MovieID  1       2       3       4       5       6       7       8       \\\n",
       "UserID                                                                    \n",
       "4           3.0  3.3341  3.1331   2.813  3.0471  3.7369  3.3041  3.1503   \n",
       "\n",
       "MovieID  9       10      ...  188301  189203  189333  189713  192385  192389  \\\n",
       "UserID                   ...                                                   \n",
       "4        2.9131  3.3166  ...  3.4204  3.5288     4.0  3.4761  3.4571  3.2049   \n",
       "\n",
       "MovieID  192803  194448  195159  201773  \n",
       "UserID                                   \n",
       "4        3.4732  3.5652     5.0  3.4423  \n",
       "\n",
       "[1 rows x 3794 columns]"
      ]
     },
     "execution_count": 17,
     "metadata": {},
     "output_type": "execute_result"
    }
   ],
   "source": [
    "mat"
   ]
  },
  {
   "cell_type": "code",
   "execution_count": 18,
   "metadata": {},
   "outputs": [
    {
     "data": {
      "text/html": [
       "<div>\n",
       "<style scoped>\n",
       "    .dataframe tbody tr th:only-of-type {\n",
       "        vertical-align: middle;\n",
       "    }\n",
       "\n",
       "    .dataframe tbody tr th {\n",
       "        vertical-align: top;\n",
       "    }\n",
       "\n",
       "    .dataframe thead th {\n",
       "        text-align: right;\n",
       "    }\n",
       "</style>\n",
       "<table border=\"1\" class=\"dataframe\">\n",
       "  <thead>\n",
       "    <tr style=\"text-align: right;\">\n",
       "      <th></th>\n",
       "      <th>UserID</th>\n",
       "      <th>MovieID</th>\n",
       "      <th>prep_Rating</th>\n",
       "    </tr>\n",
       "  </thead>\n",
       "  <tbody>\n",
       "    <tr>\n",
       "      <th>3533</th>\n",
       "      <td>4</td>\n",
       "      <td>170705</td>\n",
       "      <td>4.0555</td>\n",
       "    </tr>\n",
       "    <tr>\n",
       "      <th>1496</th>\n",
       "      <td>4</td>\n",
       "      <td>2920</td>\n",
       "      <td>3.9139</td>\n",
       "    </tr>\n",
       "    <tr>\n",
       "      <th>1466</th>\n",
       "      <td>4</td>\n",
       "      <td>2859</td>\n",
       "      <td>3.9131</td>\n",
       "    </tr>\n",
       "    <tr>\n",
       "      <th>1532</th>\n",
       "      <td>4</td>\n",
       "      <td>3000</td>\n",
       "      <td>3.9116</td>\n",
       "    </tr>\n",
       "    <tr>\n",
       "      <th>650</th>\n",
       "      <td>4</td>\n",
       "      <td>1203</td>\n",
       "      <td>3.9102</td>\n",
       "    </tr>\n",
       "    <tr>\n",
       "      <th>1966</th>\n",
       "      <td>4</td>\n",
       "      <td>4144</td>\n",
       "      <td>3.9090</td>\n",
       "    </tr>\n",
       "    <tr>\n",
       "      <th>208</th>\n",
       "      <td>4</td>\n",
       "      <td>318</td>\n",
       "      <td>3.9036</td>\n",
       "    </tr>\n",
       "    <tr>\n",
       "      <th>2768</th>\n",
       "      <td>4</td>\n",
       "      <td>44555</td>\n",
       "      <td>3.8996</td>\n",
       "    </tr>\n",
       "    <tr>\n",
       "      <th>691</th>\n",
       "      <td>4</td>\n",
       "      <td>1251</td>\n",
       "      <td>3.8967</td>\n",
       "    </tr>\n",
       "    <tr>\n",
       "      <th>635</th>\n",
       "      <td>4</td>\n",
       "      <td>1178</td>\n",
       "      <td>3.8949</td>\n",
       "    </tr>\n",
       "  </tbody>\n",
       "</table>\n",
       "</div>"
      ],
      "text/plain": [
       "      UserID  MovieID  prep_Rating\n",
       "3533       4   170705       4.0555\n",
       "1496       4     2920       3.9139\n",
       "1466       4     2859       3.9131\n",
       "1532       4     3000       3.9116\n",
       "650        4     1203       3.9102\n",
       "1966       4     4144       3.9090\n",
       "208        4      318       3.9036\n",
       "2768       4    44555       3.8996\n",
       "691        4     1251       3.8967\n",
       "635        4     1178       3.8949"
      ]
     },
     "execution_count": 18,
     "metadata": {},
     "output_type": "execute_result"
    }
   ],
   "source": [
    "prep[prep[\"UserID\"] == 4].head(10)"
   ]
  },
  {
   "cell_type": "markdown",
   "metadata": {},
   "source": [
    "Save Model"
   ]
  },
  {
   "cell_type": "code",
   "execution_count": 19,
   "metadata": {},
   "outputs": [
    {
     "data": {
      "text/plain": [
       "['models/model_SVD.pkl']"
      ]
     },
     "execution_count": 19,
     "metadata": {},
     "output_type": "execute_result"
    }
   ],
   "source": [
    "import joblib\n",
    "\n",
    "joblib.dump(model_SVD, 'models/model_SVD.pkl')"
   ]
  },
  {
   "cell_type": "markdown",
   "metadata": {},
   "source": [
    "Save Parameter"
   ]
  },
  {
   "cell_type": "code",
   "execution_count": 20,
   "metadata": {},
   "outputs": [],
   "source": [
    "def human_format(num):\n",
    "    num = float('{:.3g}'.format(num))\n",
    "    magnitude = 0\n",
    "    while abs(num) >= 1000:\n",
    "        magnitude += 1\n",
    "        num /= 1000.0\n",
    "    return '{}{}'.format('{:f}'.format(num).rstrip('0').rstrip('.'), ['', 'K', 'M', 'B', 'T'][magnitude])"
   ]
  },
  {
   "cell_type": "code",
   "execution_count": null,
   "metadata": {},
   "outputs": [],
   "source": [
    "import json\n",
    "import os\n",
    "\n",
    "folder = {human_format(df_ratings.shape[0])}\n",
    "\n",
    "# Create directory if directory exists.\n",
    "os.makedirs(f'./Parameter/{folder}/', exist_ok=True) \n",
    "\n",
    "with open(f'./Parameter/option_SVD.json', 'w') as f:\n",
    "    json.dump(option_KNNBasic, f, indent = 6)\n",
    "\n",
    "with open(f'./Parameter/{folder}/option_SVD.json', 'w') as f:\n",
    "    json.dump(option_KNNBasic, f, indent = 6)"
   ]
  }
 ],
 "metadata": {
  "kernelspec": {
   "display_name": "Python 3",
   "language": "python",
   "name": "python3"
  },
  "language_info": {
   "codemirror_mode": {
    "name": "ipython",
    "version": 3
   },
   "file_extension": ".py",
   "mimetype": "text/x-python",
   "name": "python",
   "nbconvert_exporter": "python",
   "pygments_lexer": "ipython3",
   "version": "3.10.4"
  },
  "orig_nbformat": 4
 },
 "nbformat": 4,
 "nbformat_minor": 2
}
