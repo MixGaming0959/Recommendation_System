{
 "cells": [
  {
   "cell_type": "code",
   "execution_count": 1,
   "metadata": {},
   "outputs": [],
   "source": [
    "import numpy as np\n",
    "import pandas as pd\n",
    "import matplotlib.pyplot as plt\n",
    "\n",
    "import warnings\n",
    "warnings.filterwarnings('ignore')\n",
    "from sys import exc_info\n",
    "\n",
    "import sqlite3"
   ]
  },
  {
   "cell_type": "code",
   "execution_count": 2,
   "metadata": {},
   "outputs": [],
   "source": [
    "from Modules.dataEngineering import dataEngineering\n",
    "dataEngineering = dataEngineering()"
   ]
  },
  {
   "cell_type": "code",
   "execution_count": 3,
   "metadata": {},
   "outputs": [],
   "source": [
    "movies = dataEngineering.loadMovies()['data']\n",
    "users = dataEngineering.loadUsers()['data']\n",
    "ratings = dataEngineering.loadRatings()['data']"
   ]
  },
  {
   "cell_type": "code",
   "execution_count": 4,
   "metadata": {},
   "outputs": [
    {
     "name": "stdout",
     "output_type": "stream",
     "text": [
      "Change complete\n"
     ]
    }
   ],
   "source": [
    "if type(movies['Genres'][0]) is not list:\n",
    "    movies['Genres'] = movies['Genres'].str.split('|')\n",
    "    print(\"Change complete\")"
   ]
  },
  {
   "cell_type": "code",
   "execution_count": 5,
   "metadata": {},
   "outputs": [],
   "source": [
    "genre_dict = {\n",
    "    'Adventure': 0,\n",
    "    'Animation': 1,\n",
    "    'Children': 2,\n",
    "    'Comedy': 3,\n",
    "    'Fantasy': 4,\n",
    "    'Romance': 5,\n",
    "    'Drama': 6,\n",
    "    'Action': 7,\n",
    "    'Crime': 8,\n",
    "    'Thriller': 9,\n",
    "    'Horror': 10,\n",
    "    'Mystery': 11,\n",
    "    'Sci-Fi': 12,\n",
    "    'War': 13,\n",
    "    'Musical': 14,\n",
    "    'Documentary': 15,\n",
    "    'IMAX': 16,\n",
    "    'Western': 17,\n",
    "    'Film-Noir': 18,\n",
    "    '(no genres listed)': 19\n",
    "}"
   ]
  },
  {
   "cell_type": "code",
   "execution_count": 10,
   "metadata": {},
   "outputs": [
    {
     "data": {
      "text/html": [
       "<div>\n",
       "<style scoped>\n",
       "    .dataframe tbody tr th:only-of-type {\n",
       "        vertical-align: middle;\n",
       "    }\n",
       "\n",
       "    .dataframe tbody tr th {\n",
       "        vertical-align: top;\n",
       "    }\n",
       "\n",
       "    .dataframe thead th {\n",
       "        text-align: right;\n",
       "    }\n",
       "</style>\n",
       "<table border=\"1\" class=\"dataframe\">\n",
       "  <thead>\n",
       "    <tr style=\"text-align: right;\">\n",
       "      <th></th>\n",
       "      <th>MovieID</th>\n",
       "      <th>Movie_Vector</th>\n",
       "    </tr>\n",
       "  </thead>\n",
       "  <tbody>\n",
       "    <tr>\n",
       "      <th>0</th>\n",
       "      <td>1</td>\n",
       "      <td>[1, 1, 1, 1, 1, 0, 0, 0, 0, 0, 0, 0, 0, 0, 0, ...</td>\n",
       "    </tr>\n",
       "    <tr>\n",
       "      <th>1</th>\n",
       "      <td>2</td>\n",
       "      <td>[1, 0, 1, 0, 1, 0, 0, 0, 0, 0, 0, 0, 0, 0, 0, ...</td>\n",
       "    </tr>\n",
       "  </tbody>\n",
       "</table>\n",
       "</div>"
      ],
      "text/plain": [
       "   MovieID                                       Movie_Vector\n",
       "0        1  [1, 1, 1, 1, 1, 0, 0, 0, 0, 0, 0, 0, 0, 0, 0, ...\n",
       "1        2  [1, 0, 1, 0, 1, 0, 0, 0, 0, 0, 0, 0, 0, 0, 0, ..."
      ]
     },
     "execution_count": 10,
     "metadata": {},
     "output_type": "execute_result"
    }
   ],
   "source": [
    "genres_Movies = movies[[\"MovieID\", \"Genres\"]].reset_index()\n",
    "\n",
    "for index, genres_list in genres_Movies[[\"index\", \"Genres\"]].values:\n",
    "    vector = list()\n",
    "    for g in genre_dict:\n",
    "        if g in genres_list:\n",
    "            vector.append(1)\n",
    "        else:\n",
    "            vector.append(0)\n",
    "        genres_Movies.at[index, \"Genres\"] = np.array(vector)\n",
    "\n",
    "genres_Movies.drop(columns=['index'], inplace=True)\n",
    "genres_Movies.rename(columns={'Genres':'Movie_Vector'}, inplace=True)\n",
    "\n",
    "genres_Movies.head(2)"
   ]
  },
  {
   "cell_type": "code",
   "execution_count": 12,
   "metadata": {},
   "outputs": [
    {
     "data": {
      "text/html": [
       "<div>\n",
       "<style scoped>\n",
       "    .dataframe tbody tr th:only-of-type {\n",
       "        vertical-align: middle;\n",
       "    }\n",
       "\n",
       "    .dataframe tbody tr th {\n",
       "        vertical-align: top;\n",
       "    }\n",
       "\n",
       "    .dataframe thead th {\n",
       "        text-align: right;\n",
       "    }\n",
       "</style>\n",
       "<table border=\"1\" class=\"dataframe\">\n",
       "  <thead>\n",
       "    <tr style=\"text-align: right;\">\n",
       "      <th></th>\n",
       "      <th>MovieID</th>\n",
       "      <th>Title</th>\n",
       "      <th>Movie_Vector</th>\n",
       "    </tr>\n",
       "  </thead>\n",
       "  <tbody>\n",
       "    <tr>\n",
       "      <th>0</th>\n",
       "      <td>1</td>\n",
       "      <td>Toy Story</td>\n",
       "      <td>[1, 1, 1, 1, 1, 0, 0, 0, 0, 0, 0, 0, 0, 0, 0, ...</td>\n",
       "    </tr>\n",
       "    <tr>\n",
       "      <th>1</th>\n",
       "      <td>2</td>\n",
       "      <td>Jumanji</td>\n",
       "      <td>[1, 0, 1, 0, 1, 0, 0, 0, 0, 0, 0, 0, 0, 0, 0, ...</td>\n",
       "    </tr>\n",
       "    <tr>\n",
       "      <th>2</th>\n",
       "      <td>3</td>\n",
       "      <td>Grumpier Old Men</td>\n",
       "      <td>[0, 0, 0, 1, 0, 1, 0, 0, 0, 0, 0, 0, 0, 0, 0, ...</td>\n",
       "    </tr>\n",
       "    <tr>\n",
       "      <th>3</th>\n",
       "      <td>4</td>\n",
       "      <td>Waiting to Exhale</td>\n",
       "      <td>[0, 0, 0, 1, 0, 1, 1, 0, 0, 0, 0, 0, 0, 0, 0, ...</td>\n",
       "    </tr>\n",
       "    <tr>\n",
       "      <th>4</th>\n",
       "      <td>5</td>\n",
       "      <td>Father of the Bride Part II</td>\n",
       "      <td>[0, 0, 0, 1, 0, 0, 0, 0, 0, 0, 0, 0, 0, 0, 0, ...</td>\n",
       "    </tr>\n",
       "  </tbody>\n",
       "</table>\n",
       "</div>"
      ],
      "text/plain": [
       "   MovieID                        Title  \\\n",
       "0        1                    Toy Story   \n",
       "1        2                      Jumanji   \n",
       "2        3             Grumpier Old Men   \n",
       "3        4            Waiting to Exhale   \n",
       "4        5  Father of the Bride Part II   \n",
       "\n",
       "                                        Movie_Vector  \n",
       "0  [1, 1, 1, 1, 1, 0, 0, 0, 0, 0, 0, 0, 0, 0, 0, ...  \n",
       "1  [1, 0, 1, 0, 1, 0, 0, 0, 0, 0, 0, 0, 0, 0, 0, ...  \n",
       "2  [0, 0, 0, 1, 0, 1, 0, 0, 0, 0, 0, 0, 0, 0, 0, ...  \n",
       "3  [0, 0, 0, 1, 0, 1, 1, 0, 0, 0, 0, 0, 0, 0, 0, ...  \n",
       "4  [0, 0, 0, 1, 0, 0, 0, 0, 0, 0, 0, 0, 0, 0, 0, ...  "
      ]
     },
     "execution_count": 12,
     "metadata": {},
     "output_type": "execute_result"
    }
   ],
   "source": [
    "vector_movies = pd.merge(movies, genres_Movies, on='MovieID').sort_values(['MovieID'], ascending = [True]).reset_index()\n",
    "vector_movies.drop(columns=['index', 'Genres', 'Years'], inplace=True)\n",
    "# vector_movies.drop(columns=['index'], inplace=True)\n",
    "vector_movies.head(5)"
   ]
  },
  {
   "cell_type": "code",
   "execution_count": 13,
   "metadata": {},
   "outputs": [
    {
     "data": {
      "text/plain": [
       "array([1, 0, 1, 0, 1, 0, 0, 0, 0, 0, 0, 0, 0, 0, 0, 0, 0, 0, 0, 0])"
      ]
     },
     "execution_count": 13,
     "metadata": {},
     "output_type": "execute_result"
    }
   ],
   "source": [
    "vector_movies[vector_movies['MovieID'] == 2]['Movie_Vector'][1]"
   ]
  },
  {
   "cell_type": "code",
   "execution_count": 14,
   "metadata": {},
   "outputs": [
    {
     "data": {
      "text/html": [
       "<div>\n",
       "<style scoped>\n",
       "    .dataframe tbody tr th:only-of-type {\n",
       "        vertical-align: middle;\n",
       "    }\n",
       "\n",
       "    .dataframe tbody tr th {\n",
       "        vertical-align: top;\n",
       "    }\n",
       "\n",
       "    .dataframe thead th {\n",
       "        text-align: right;\n",
       "    }\n",
       "</style>\n",
       "<table border=\"1\" class=\"dataframe\">\n",
       "  <thead>\n",
       "    <tr style=\"text-align: right;\">\n",
       "      <th></th>\n",
       "      <th>UserID</th>\n",
       "      <th>MovieID</th>\n",
       "      <th>userRating</th>\n",
       "      <th>Years</th>\n",
       "      <th>Movie_Vector</th>\n",
       "    </tr>\n",
       "  </thead>\n",
       "  <tbody>\n",
       "    <tr>\n",
       "      <th>0</th>\n",
       "      <td>3</td>\n",
       "      <td>1</td>\n",
       "      <td>4.0</td>\n",
       "      <td>2015</td>\n",
       "      <td>[1, 1, 1, 1, 1, 0, 0, 0, 0, 0, 0, 0, 0, 0, 0, ...</td>\n",
       "    </tr>\n",
       "    <tr>\n",
       "      <th>1</th>\n",
       "      <td>3</td>\n",
       "      <td>29</td>\n",
       "      <td>4.5</td>\n",
       "      <td>2017</td>\n",
       "      <td>[1, 0, 0, 0, 1, 0, 1, 0, 0, 0, 0, 1, 1, 0, 0, ...</td>\n",
       "    </tr>\n",
       "    <tr>\n",
       "      <th>2</th>\n",
       "      <td>3</td>\n",
       "      <td>32</td>\n",
       "      <td>4.5</td>\n",
       "      <td>2015</td>\n",
       "      <td>[0, 0, 0, 0, 0, 0, 0, 0, 0, 1, 0, 1, 1, 0, 0, ...</td>\n",
       "    </tr>\n",
       "    <tr>\n",
       "      <th>3</th>\n",
       "      <td>3</td>\n",
       "      <td>50</td>\n",
       "      <td>5.0</td>\n",
       "      <td>2015</td>\n",
       "      <td>[0, 0, 0, 0, 0, 0, 0, 0, 1, 1, 0, 1, 0, 0, 0, ...</td>\n",
       "    </tr>\n",
       "    <tr>\n",
       "      <th>4</th>\n",
       "      <td>3</td>\n",
       "      <td>111</td>\n",
       "      <td>4.0</td>\n",
       "      <td>2017</td>\n",
       "      <td>[0, 0, 0, 0, 0, 0, 1, 0, 1, 1, 0, 0, 0, 0, 0, ...</td>\n",
       "    </tr>\n",
       "  </tbody>\n",
       "</table>\n",
       "</div>"
      ],
      "text/plain": [
       "   UserID  MovieID  userRating  Years  \\\n",
       "0       3        1         4.0   2015   \n",
       "1       3       29         4.5   2017   \n",
       "2       3       32         4.5   2015   \n",
       "3       3       50         5.0   2015   \n",
       "4       3      111         4.0   2017   \n",
       "\n",
       "                                        Movie_Vector  \n",
       "0  [1, 1, 1, 1, 1, 0, 0, 0, 0, 0, 0, 0, 0, 0, 0, ...  \n",
       "1  [1, 0, 0, 0, 1, 0, 1, 0, 0, 0, 0, 1, 1, 0, 0, ...  \n",
       "2  [0, 0, 0, 0, 0, 0, 0, 0, 0, 1, 0, 1, 1, 0, 0, ...  \n",
       "3  [0, 0, 0, 0, 0, 0, 0, 0, 1, 1, 0, 1, 0, 0, 0, ...  \n",
       "4  [0, 0, 0, 0, 0, 0, 1, 0, 1, 1, 0, 0, 0, 0, 0, ...  "
      ]
     },
     "execution_count": 14,
     "metadata": {},
     "output_type": "execute_result"
    }
   ],
   "source": [
    "vector_ratings = pd.merge(ratings, genres_Movies, on='MovieID').sort_values(['UserID', 'MovieID'], ascending = [True, True]).reset_index()\n",
    "vector_ratings.drop(columns=['index'], inplace=True)\n",
    "vector_ratings.head(5)"
   ]
  },
  {
   "cell_type": "code",
   "execution_count": 15,
   "metadata": {},
   "outputs": [
    {
     "data": {
      "text/plain": [
       "array([1, 1, 1, 1, 1, 0, 0, 0, 0, 0, 0, 0, 0, 0, 0, 0, 0, 0, 0, 0])"
      ]
     },
     "execution_count": 15,
     "metadata": {},
     "output_type": "execute_result"
    }
   ],
   "source": [
    "vector_ratings['Movie_Vector'][0]"
   ]
  },
  {
   "cell_type": "code",
   "execution_count": 40,
   "metadata": {},
   "outputs": [],
   "source": [
    "import numpy as np\n",
    "\n",
    "def user_vector():\n",
    "    user_ids = vector_ratings['UserID'].sort_values(ascending=True).unique()[:50]\n",
    "\n",
    "    df_users_3 = pd.DataFrame(columns=['UserID', \"User_Vector\", \"Count_Movies\"])\n",
    "\n",
    "    for uid in user_ids:\n",
    "        user_ratings = vector_ratings[vector_ratings['UserID'] == uid]\n",
    "\n",
    "        user_vector = np.zeros(len(genre_dict))\n",
    "        count_vector = np.zeros(len(genre_dict))\n",
    "\n",
    "        count_Movies = 0\n",
    "\n",
    "        for _, row in user_ratings.iterrows():\n",
    "            count_Movies += 1\n",
    "            count_vector += row.Movie_Vector\n",
    "            user_vector += row.Movie_Vector * row.userRating\n",
    "\n",
    "        count_vector = np.where(count_vector==0, 1, count_vector)\n",
    "        user_vector = np.divide(user_vector, count_vector)\n",
    "\n",
    "        user_vector /= 5\n",
    "\n",
    "        user_vector = np.round(user_vector, 4)\n",
    "\n",
    "        row_df = pd.DataFrame([[uid, user_vector, count_Movies]], \n",
    "                            columns=['UserID', 'User_Vector', \"Count_Movies\"])\n",
    "\n",
    "        df_users_3 = pd.concat([df_users_3, row_df], ignore_index=True)\n",
    "\n",
    "    return df_users_3\n"
   ]
  },
  {
   "cell_type": "code",
   "execution_count": 42,
   "metadata": {},
   "outputs": [
    {
     "data": {
      "text/html": [
       "<div>\n",
       "<style scoped>\n",
       "    .dataframe tbody tr th:only-of-type {\n",
       "        vertical-align: middle;\n",
       "    }\n",
       "\n",
       "    .dataframe tbody tr th {\n",
       "        vertical-align: top;\n",
       "    }\n",
       "\n",
       "    .dataframe thead th {\n",
       "        text-align: right;\n",
       "    }\n",
       "</style>\n",
       "<table border=\"1\" class=\"dataframe\">\n",
       "  <thead>\n",
       "    <tr style=\"text-align: right;\">\n",
       "      <th></th>\n",
       "      <th>UserID</th>\n",
       "      <th>User_Vector</th>\n",
       "      <th>Count_Movies</th>\n",
       "    </tr>\n",
       "  </thead>\n",
       "  <tbody>\n",
       "    <tr>\n",
       "      <th>0</th>\n",
       "      <td>3</td>\n",
       "      <td>[0.7402, 0.8045, 0.7545, 0.6906, 0.7472, 0.706...</td>\n",
       "      <td>634</td>\n",
       "    </tr>\n",
       "    <tr>\n",
       "      <th>1</th>\n",
       "      <td>4</td>\n",
       "      <td>[0.6149, 0.6967, 0.6444, 0.7263, 0.5703, 0.69,...</td>\n",
       "      <td>233</td>\n",
       "    </tr>\n",
       "    <tr>\n",
       "      <th>2</th>\n",
       "      <td>33</td>\n",
       "      <td>[0.7, 0.6, 0.6, 0.8, 0.7, 0.8, 0.8412, 0.8, 0....</td>\n",
       "      <td>23</td>\n",
       "    </tr>\n",
       "    <tr>\n",
       "      <th>3</th>\n",
       "      <td>63</td>\n",
       "      <td>[0.95, 0.94, 0.8444, 0.7967, 0.76, 0.7529, 0.7...</td>\n",
       "      <td>40</td>\n",
       "    </tr>\n",
       "    <tr>\n",
       "      <th>4</th>\n",
       "      <td>76</td>\n",
       "      <td>[0.8, 0.0, 0.0, 0.0, 0.0, 0.0, 0.8, 0.8, 0.8, ...</td>\n",
       "      <td>2</td>\n",
       "    </tr>\n",
       "  </tbody>\n",
       "</table>\n",
       "</div>"
      ],
      "text/plain": [
       "  UserID                                        User_Vector Count_Movies\n",
       "0      3  [0.7402, 0.8045, 0.7545, 0.6906, 0.7472, 0.706...          634\n",
       "1      4  [0.6149, 0.6967, 0.6444, 0.7263, 0.5703, 0.69,...          233\n",
       "2     33  [0.7, 0.6, 0.6, 0.8, 0.7, 0.8, 0.8412, 0.8, 0....           23\n",
       "3     63  [0.95, 0.94, 0.8444, 0.7967, 0.76, 0.7529, 0.7...           40\n",
       "4     76  [0.8, 0.0, 0.0, 0.0, 0.0, 0.0, 0.8, 0.8, 0.8, ...            2"
      ]
     },
     "execution_count": 42,
     "metadata": {},
     "output_type": "execute_result"
    }
   ],
   "source": [
    "df_users_3 = user_vector()\n",
    "df_users_3.head(5)"
   ]
  },
  {
   "cell_type": "markdown",
   "metadata": {},
   "source": [
    "หาความคล้ายคลี่ง ระหว่าง User กับ Movie โดยใช้ Genres เป็นตัวเปรียบเทียบ"
   ]
  },
  {
   "cell_type": "code",
   "execution_count": 43,
   "metadata": {},
   "outputs": [],
   "source": [
    "import numpy as np\n",
    "from sklearn.metrics.pairwise import cosine_similarity"
   ]
  },
  {
   "cell_type": "code",
   "execution_count": 44,
   "metadata": {},
   "outputs": [],
   "source": [
    "def cosine(df_users):\n",
    "    M = vector_movies['Movie_Vector'].to_numpy()\n",
    "    U = df_users['User_Vector'].to_numpy()\n",
    "\n",
    "    M = np.vstack(M)\n",
    "    U = np.vstack(U)\n",
    "\n",
    "    # คำนวณ cosine similarity ระหว่างหนังและผู้ใช้\n",
    "    similarity_matrix = cosine_similarity(M, U)\n",
    "    return similarity_matrix\n",
    "\n",
    "similarity_matrix = cosine(df_users_3)"
   ]
  },
  {
   "cell_type": "markdown",
   "metadata": {},
   "source": [
    "Save Model"
   ]
  },
  {
   "cell_type": "code",
   "execution_count": 45,
   "metadata": {},
   "outputs": [
    {
     "data": {
      "text/plain": [
       "['models/model_Content-Base.pkl']"
      ]
     },
     "execution_count": 45,
     "metadata": {},
     "output_type": "execute_result"
    }
   ],
   "source": [
    "import joblib\n",
    "\n",
    "joblib.dump(similarity_matrix, 'models/model_Content-Base.pkl')"
   ]
  },
  {
   "cell_type": "code",
   "execution_count": 46,
   "metadata": {},
   "outputs": [],
   "source": [
    "model = joblib.load('models/model_Content-Base.pkl')"
   ]
  },
  {
   "cell_type": "code",
   "execution_count": 68,
   "metadata": {},
   "outputs": [],
   "source": [
    "def get_recommendations(userID, df_users, cosine_sim=model):\n",
    "\n",
    "    try:\n",
    "        user_Index = df_users[df_users[\"UserID\"] == userID].UserID.values[0]\n",
    "    except(KeyError):\n",
    "        return (\"You don't have movie viewing history.\")\n",
    "\n",
    "    # Get the pairwsie similarity scores of all movies with that movie\n",
    "    sim_scores = list(enumerate(cosine_sim[:, user_Index]))\n",
    "\n",
    "    # Sort the movies based on the similarity scores\n",
    "    sim_scores = sorted(sim_scores, key=lambda x: x[1], reverse=True)\n",
    "\n",
    "    # Get the scores of the 10 most similar movies\n",
    "    sim_scores = sim_scores[:10]\n",
    "\n",
    "    # Return the top 10 most similar movies\n",
    "    index_movies = vector_movies.copy().reset_index()\n",
    "\n",
    "    top_movies_4u = []\n",
    "    # top_movies_4u = [index_movies[index_movies[\"index\"] == index].Title.values[0] for index in movie_indices]\n",
    "    for m_index, score in sim_scores:\n",
    "        m_id = index_movies[index_movies[\"index\"] == m_index].Title.values[0]\n",
    "        top_movies_4u.append([m_id, round(score, 4)])\n",
    "    \n",
    "    return top_movies_4u"
   ]
  },
  {
   "cell_type": "code",
   "execution_count": 69,
   "metadata": {},
   "outputs": [
    {
     "data": {
      "text/plain": [
       "[['Inception', 0.6936],\n",
       " ['Who Framed Roger Rabbit?', 0.6634],\n",
       " ['Tangled', 0.6626],\n",
       " ['Robots', 0.6615],\n",
       " ['Mulan', 0.6582],\n",
       " ['Interstate 60', 0.657],\n",
       " ['Osmosis Jones', 0.6529],\n",
       " ['Lion King, The', 0.6477],\n",
       " ['Enchanted', 0.6455],\n",
       " ['Harry Potter and the Deathly Hallows: Part 2', 0.6447]]"
      ]
     },
     "execution_count": 69,
     "metadata": {},
     "output_type": "execute_result"
    }
   ],
   "source": [
    "my_movie = (get_recommendations(33, df_users_3))\n",
    "my_movie"
   ]
  },
  {
   "cell_type": "code",
   "execution_count": null,
   "metadata": {},
   "outputs": [
    {
     "data": {
      "text/plain": [
       "[['Mulan ', 0.7808],\n",
       " ['Enchanted ', 0.7783],\n",
       " ['Who Framed Roger Rabbit? ', 0.7569],\n",
       " ['The Lego Movie ', 0.7366],\n",
       " ['Ice Age: Dawn of the Dinosaurs ', 0.7355],\n",
       " ['Inside Out ', 0.7335],\n",
       " ['Shrek 2 ', 0.7307],\n",
       " ['Shrek ', 0.7298],\n",
       " ['All Dogs Go to Heaven 2 ', 0.7254],\n",
       " ['Tangled ', 0.7247]]"
      ]
     },
     "execution_count": 18,
     "metadata": {},
     "output_type": "execute_result"
    }
   ],
   "source": [
    "my_movie = (get_recommendations(3, df_users_3))\n",
    "my_movie"
   ]
  }
 ],
 "metadata": {
  "kernelspec": {
   "display_name": "Python 3",
   "language": "python",
   "name": "python3"
  },
  "language_info": {
   "codemirror_mode": {
    "name": "ipython",
    "version": 3
   },
   "file_extension": ".py",
   "mimetype": "text/x-python",
   "name": "python",
   "nbconvert_exporter": "python",
   "pygments_lexer": "ipython3",
   "version": "3.10.4"
  },
  "orig_nbformat": 4
 },
 "nbformat": 4,
 "nbformat_minor": 2
}
