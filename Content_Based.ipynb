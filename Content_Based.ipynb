{
 "cells": [
  {
   "cell_type": "code",
   "execution_count": 1,
   "metadata": {},
   "outputs": [],
   "source": [
    "import numpy as np\n",
    "import pandas as pd\n",
    "import matplotlib.pyplot as plt\n",
    "\n",
    "import warnings\n",
    "warnings.filterwarnings('ignore')\n",
    "from sys import exc_info\n",
    "\n",
    "import sqlite3\n",
    "\n",
    "class InvalidInputError(Exception):\n",
    "    pass\n",
    "\n",
    "path = \"D:\\\\Coding\\Machine_Learning\\Recommendation_System\\\\\""
   ]
  },
  {
   "cell_type": "code",
   "execution_count": 2,
   "metadata": {},
   "outputs": [],
   "source": [
    "def loadDatabase_dataFrame(table_name, from_loc = path+\"\\\\input\", limit=None):\n",
    "    from_loc += \"\\\\\" + table_name + \".db\"\n",
    "    \n",
    "    try:\n",
    "        if (limit is not None and limit < 0):\n",
    "            raise InvalidInputError(\"Limit must be greater than 0\")\n",
    "\n",
    "        conn = sqlite3.connect(from_loc)\n",
    "        query = None\n",
    "        query = f'SELECT * FROM {table_name}'\n",
    "        if limit is not None:\n",
    "            query += f' LIMIT {limit}'\n",
    "        df = pd.read_sql(query, conn)\n",
    "\n",
    "        df = pd.DataFrame(df)\n",
    "    except:\n",
    "        err = 'Error: {0}, {1}'.format(exc_info()[0], exc_info()[1])\n",
    "        print('LoadDatabase -> Load: ', err)\n",
    "        return [False, err]\n",
    "    else:\n",
    "        conn.close()\n",
    "        return [True, df]"
   ]
  },
  {
   "cell_type": "code",
   "execution_count": 3,
   "metadata": {},
   "outputs": [],
   "source": [
    "movies = loadDatabase_dataFrame(\"movies\")[1]\n",
    "users = loadDatabase_dataFrame(\"users\")[1]\n",
    "ratings = loadDatabase_dataFrame(\"ratings\")[1]"
   ]
  },
  {
   "cell_type": "code",
   "execution_count": 4,
   "metadata": {},
   "outputs": [
    {
     "name": "stdout",
     "output_type": "stream",
     "text": [
      "Change complete\n"
     ]
    }
   ],
   "source": [
    "if type(movies['Genres'][0]) is not list:\n",
    "    movies['Genres'] = movies['Genres'].str.split('|')\n",
    "    print(\"Change complete\")"
   ]
  },
  {
   "cell_type": "code",
   "execution_count": 5,
   "metadata": {},
   "outputs": [],
   "source": [
    "genre_dict = {\n",
    "    'Adventure': 0,\n",
    "    'Animation': 1,\n",
    "    'Children': 2,\n",
    "    'Comedy': 3,\n",
    "    'Fantasy': 4,\n",
    "    'Romance': 5,\n",
    "    'Drama': 6,\n",
    "    'Action': 7,\n",
    "    'Crime': 8,\n",
    "    'Thriller': 9,\n",
    "    'Horror': 10,\n",
    "    'Mystery': 11,\n",
    "    'Sci-Fi': 12,\n",
    "    'War': 13,\n",
    "    'Musical': 14,\n",
    "    'Documentary': 15,\n",
    "    'IMAX': 16,\n",
    "    'Western': 17,\n",
    "    'Film-Noir': 18,\n",
    "    '(no genres listed)': 19\n",
    "}"
   ]
  },
  {
   "cell_type": "code",
   "execution_count": 6,
   "metadata": {},
   "outputs": [
    {
     "data": {
      "text/html": [
       "<div>\n",
       "<style scoped>\n",
       "    .dataframe tbody tr th:only-of-type {\n",
       "        vertical-align: middle;\n",
       "    }\n",
       "\n",
       "    .dataframe tbody tr th {\n",
       "        vertical-align: top;\n",
       "    }\n",
       "\n",
       "    .dataframe thead th {\n",
       "        text-align: right;\n",
       "    }\n",
       "</style>\n",
       "<table border=\"1\" class=\"dataframe\">\n",
       "  <thead>\n",
       "    <tr style=\"text-align: right;\">\n",
       "      <th></th>\n",
       "      <th>MovieID</th>\n",
       "      <th>Movie_Vector</th>\n",
       "    </tr>\n",
       "  </thead>\n",
       "  <tbody>\n",
       "    <tr>\n",
       "      <th>0</th>\n",
       "      <td>1</td>\n",
       "      <td>[1, 1, 1, 1, 1, 0, 0, 0, 0, 0, 0, 0, 0, 0, 0, ...</td>\n",
       "    </tr>\n",
       "    <tr>\n",
       "      <th>1</th>\n",
       "      <td>2</td>\n",
       "      <td>[1, 0, 1, 0, 1, 0, 0, 0, 0, 0, 0, 0, 0, 0, 0, ...</td>\n",
       "    </tr>\n",
       "  </tbody>\n",
       "</table>\n",
       "</div>"
      ],
      "text/plain": [
       "   MovieID                                       Movie_Vector\n",
       "0        1  [1, 1, 1, 1, 1, 0, 0, 0, 0, 0, 0, 0, 0, 0, 0, ...\n",
       "1        2  [1, 0, 1, 0, 1, 0, 0, 0, 0, 0, 0, 0, 0, 0, 0, ..."
      ]
     },
     "execution_count": 6,
     "metadata": {},
     "output_type": "execute_result"
    }
   ],
   "source": [
    "genres_Movies = movies[[\"MovieID\", \"Genres\"]].reset_index()\n",
    "\n",
    "for index, genres_list in genres_Movies[[\"index\", \"Genres\"]].values:\n",
    "    vector = list()\n",
    "    for g in genre_dict:\n",
    "        if g in genres_list:\n",
    "            vector.append(1)\n",
    "        else:\n",
    "            vector.append(0)\n",
    "        genres_Movies.at[index, \"Genres\"] = np.array(vector)\n",
    "\n",
    "genres_Movies.drop(columns=['index'], inplace=True)\n",
    "genres_Movies.rename(columns={'Genres':'Movie_Vector'}, inplace=True)\n",
    "\n",
    "genres_Movies.head(2)"
   ]
  },
  {
   "cell_type": "code",
   "execution_count": 7,
   "metadata": {},
   "outputs": [
    {
     "data": {
      "text/html": [
       "<div>\n",
       "<style scoped>\n",
       "    .dataframe tbody tr th:only-of-type {\n",
       "        vertical-align: middle;\n",
       "    }\n",
       "\n",
       "    .dataframe tbody tr th {\n",
       "        vertical-align: top;\n",
       "    }\n",
       "\n",
       "    .dataframe thead th {\n",
       "        text-align: right;\n",
       "    }\n",
       "</style>\n",
       "<table border=\"1\" class=\"dataframe\">\n",
       "  <thead>\n",
       "    <tr style=\"text-align: right;\">\n",
       "      <th></th>\n",
       "      <th>MovieID</th>\n",
       "      <th>Title</th>\n",
       "      <th>Movie_Vector</th>\n",
       "    </tr>\n",
       "  </thead>\n",
       "  <tbody>\n",
       "    <tr>\n",
       "      <th>0</th>\n",
       "      <td>1</td>\n",
       "      <td>Toy Story</td>\n",
       "      <td>[1, 1, 1, 1, 1, 0, 0, 0, 0, 0, 0, 0, 0, 0, 0, ...</td>\n",
       "    </tr>\n",
       "    <tr>\n",
       "      <th>1</th>\n",
       "      <td>2</td>\n",
       "      <td>Jumanji</td>\n",
       "      <td>[1, 0, 1, 0, 1, 0, 0, 0, 0, 0, 0, 0, 0, 0, 0, ...</td>\n",
       "    </tr>\n",
       "    <tr>\n",
       "      <th>2</th>\n",
       "      <td>3</td>\n",
       "      <td>Grumpier Old Men</td>\n",
       "      <td>[0, 0, 0, 1, 0, 1, 0, 0, 0, 0, 0, 0, 0, 0, 0, ...</td>\n",
       "    </tr>\n",
       "    <tr>\n",
       "      <th>3</th>\n",
       "      <td>4</td>\n",
       "      <td>Waiting to Exhale</td>\n",
       "      <td>[0, 0, 0, 1, 0, 1, 1, 0, 0, 0, 0, 0, 0, 0, 0, ...</td>\n",
       "    </tr>\n",
       "    <tr>\n",
       "      <th>4</th>\n",
       "      <td>5</td>\n",
       "      <td>Father of the Bride Part II</td>\n",
       "      <td>[0, 0, 0, 1, 0, 0, 0, 0, 0, 0, 0, 0, 0, 0, 0, ...</td>\n",
       "    </tr>\n",
       "  </tbody>\n",
       "</table>\n",
       "</div>"
      ],
      "text/plain": [
       "   MovieID                         Title  \\\n",
       "0        1                    Toy Story    \n",
       "1        2                      Jumanji    \n",
       "2        3             Grumpier Old Men    \n",
       "3        4            Waiting to Exhale    \n",
       "4        5  Father of the Bride Part II    \n",
       "\n",
       "                                        Movie_Vector  \n",
       "0  [1, 1, 1, 1, 1, 0, 0, 0, 0, 0, 0, 0, 0, 0, 0, ...  \n",
       "1  [1, 0, 1, 0, 1, 0, 0, 0, 0, 0, 0, 0, 0, 0, 0, ...  \n",
       "2  [0, 0, 0, 1, 0, 1, 0, 0, 0, 0, 0, 0, 0, 0, 0, ...  \n",
       "3  [0, 0, 0, 1, 0, 1, 1, 0, 0, 0, 0, 0, 0, 0, 0, ...  \n",
       "4  [0, 0, 0, 1, 0, 0, 0, 0, 0, 0, 0, 0, 0, 0, 0, ...  "
      ]
     },
     "execution_count": 7,
     "metadata": {},
     "output_type": "execute_result"
    }
   ],
   "source": [
    "vector_movies = pd.merge(movies, genres_Movies, on='MovieID').sort_values(['MovieID'], ascending = [True]).reset_index()\n",
    "vector_movies.drop(columns=['index', 'Genres', 'Years'], inplace=True)\n",
    "# vector_movies.drop(columns=['index'], inplace=True)\n",
    "vector_movies.head(5)"
   ]
  },
  {
   "cell_type": "code",
   "execution_count": 8,
   "metadata": {},
   "outputs": [
    {
     "data": {
      "text/plain": [
       "array([1, 0, 1, 0, 1, 0, 0, 0, 0, 0, 0, 0, 0, 0, 0, 0, 0, 0, 0, 0])"
      ]
     },
     "execution_count": 8,
     "metadata": {},
     "output_type": "execute_result"
    }
   ],
   "source": [
    "vector_movies[vector_movies['MovieID'] == 2]['Movie_Vector'][1]"
   ]
  },
  {
   "cell_type": "code",
   "execution_count": 21,
   "metadata": {},
   "outputs": [
    {
     "data": {
      "text/html": [
       "<div>\n",
       "<style scoped>\n",
       "    .dataframe tbody tr th:only-of-type {\n",
       "        vertical-align: middle;\n",
       "    }\n",
       "\n",
       "    .dataframe tbody tr th {\n",
       "        vertical-align: top;\n",
       "    }\n",
       "\n",
       "    .dataframe thead th {\n",
       "        text-align: right;\n",
       "    }\n",
       "</style>\n",
       "<table border=\"1\" class=\"dataframe\">\n",
       "  <thead>\n",
       "    <tr style=\"text-align: right;\">\n",
       "      <th></th>\n",
       "      <th>UserID</th>\n",
       "      <th>MovieID</th>\n",
       "      <th>userRating</th>\n",
       "      <th>Movie_Vector</th>\n",
       "    </tr>\n",
       "  </thead>\n",
       "  <tbody>\n",
       "    <tr>\n",
       "      <th>0</th>\n",
       "      <td>3</td>\n",
       "      <td>1</td>\n",
       "      <td>4.0</td>\n",
       "      <td>[1, 1, 1, 1, 1, 0, 0, 0, 0, 0, 0, 0, 0, 0, 0, ...</td>\n",
       "    </tr>\n",
       "    <tr>\n",
       "      <th>1</th>\n",
       "      <td>3</td>\n",
       "      <td>29</td>\n",
       "      <td>4.5</td>\n",
       "      <td>[1, 0, 0, 0, 1, 0, 1, 0, 0, 0, 0, 1, 1, 0, 0, ...</td>\n",
       "    </tr>\n",
       "    <tr>\n",
       "      <th>2</th>\n",
       "      <td>3</td>\n",
       "      <td>32</td>\n",
       "      <td>4.5</td>\n",
       "      <td>[0, 0, 0, 0, 0, 0, 0, 0, 0, 1, 0, 1, 1, 0, 0, ...</td>\n",
       "    </tr>\n",
       "    <tr>\n",
       "      <th>3</th>\n",
       "      <td>3</td>\n",
       "      <td>50</td>\n",
       "      <td>5.0</td>\n",
       "      <td>[0, 0, 0, 0, 0, 0, 0, 0, 1, 1, 0, 1, 0, 0, 0, ...</td>\n",
       "    </tr>\n",
       "    <tr>\n",
       "      <th>4</th>\n",
       "      <td>3</td>\n",
       "      <td>111</td>\n",
       "      <td>4.0</td>\n",
       "      <td>[0, 0, 0, 0, 0, 0, 1, 0, 1, 1, 0, 0, 0, 0, 0, ...</td>\n",
       "    </tr>\n",
       "  </tbody>\n",
       "</table>\n",
       "</div>"
      ],
      "text/plain": [
       "   UserID  MovieID  userRating  \\\n",
       "0       3        1         4.0   \n",
       "1       3       29         4.5   \n",
       "2       3       32         4.5   \n",
       "3       3       50         5.0   \n",
       "4       3      111         4.0   \n",
       "\n",
       "                                        Movie_Vector  \n",
       "0  [1, 1, 1, 1, 1, 0, 0, 0, 0, 0, 0, 0, 0, 0, 0, ...  \n",
       "1  [1, 0, 0, 0, 1, 0, 1, 0, 0, 0, 0, 1, 1, 0, 0, ...  \n",
       "2  [0, 0, 0, 0, 0, 0, 0, 0, 0, 1, 0, 1, 1, 0, 0, ...  \n",
       "3  [0, 0, 0, 0, 0, 0, 0, 0, 1, 1, 0, 1, 0, 0, 0, ...  \n",
       "4  [0, 0, 0, 0, 0, 0, 1, 0, 1, 1, 0, 0, 0, 0, 0, ...  "
      ]
     },
     "execution_count": 21,
     "metadata": {},
     "output_type": "execute_result"
    }
   ],
   "source": [
    "vector_ratings = pd.merge(ratings, genres_Movies, on='MovieID').sort_values(['UserID', 'MovieID'], ascending = [True, True]).reset_index()\n",
    "vector_ratings.drop(columns=['index'], inplace=True)\n",
    "vector_ratings.head(5)"
   ]
  },
  {
   "cell_type": "code",
   "execution_count": 10,
   "metadata": {},
   "outputs": [
    {
     "data": {
      "text/plain": [
       "array([1, 1, 1, 1, 1, 0, 0, 0, 0, 0, 0, 0, 0, 0, 0, 0, 0, 0, 0, 0])"
      ]
     },
     "execution_count": 10,
     "metadata": {},
     "output_type": "execute_result"
    }
   ],
   "source": [
    "vector_ratings['Movie_Vector'][0]"
   ]
  },
  {
   "cell_type": "code",
   "execution_count": 68,
   "metadata": {},
   "outputs": [],
   "source": [
    "import numpy as np\n",
    "\n",
    "def user_vector():\n",
    "    user_ids = vector_ratings['UserID'].sort_values(ascending=True).unique()\n",
    "\n",
    "    df_users_3 = pd.DataFrame(columns=['UserID', \"User_Vector\", \"Count_Movies\"])\n",
    "\n",
    "    for uid in user_ids:\n",
    "        user_ratings = vector_ratings[vector_ratings['UserID'] == uid]\n",
    "\n",
    "        user_vector = np.zeros(len(genre_dict))\n",
    "        count_vector = np.zeros(len(genre_dict))\n",
    "\n",
    "        count_Movies = 0\n",
    "\n",
    "        for _, row in user_ratings.iterrows():\n",
    "            count_Movies += 1\n",
    "            count_vector += (row.Movie_Vector)\n",
    "            user_vector += (row.Movie_Vector) * row.userRating\n",
    "\n",
    "        count_vector = np.where(count_vector==0, 1, count_vector)\n",
    "        user_vector = np.divide(user_vector, count_vector)\n",
    "\n",
    "        user_vector /= 5\n",
    "\n",
    "        row_df = pd.DataFrame([[uid, user_vector, count_Movies]], \n",
    "                            columns=['UserID', 'User_Vector', \"Count_Movies\"])\n",
    "\n",
    "        df_users_3 = pd.concat([df_users_3, row_df], ignore_index=True)\n",
    "\n",
    "    return df_users_3\n"
   ]
  },
  {
   "cell_type": "code",
   "execution_count": 69,
   "metadata": {},
   "outputs": [],
   "source": [
    "df_users_3 = user_vector()"
   ]
  },
  {
   "cell_type": "code",
   "execution_count": 70,
   "metadata": {},
   "outputs": [
    {
     "data": {
      "text/html": [
       "<div>\n",
       "<style scoped>\n",
       "    .dataframe tbody tr th:only-of-type {\n",
       "        vertical-align: middle;\n",
       "    }\n",
       "\n",
       "    .dataframe tbody tr th {\n",
       "        vertical-align: top;\n",
       "    }\n",
       "\n",
       "    .dataframe thead th {\n",
       "        text-align: right;\n",
       "    }\n",
       "</style>\n",
       "<table border=\"1\" class=\"dataframe\">\n",
       "  <thead>\n",
       "    <tr style=\"text-align: right;\">\n",
       "      <th></th>\n",
       "      <th>UserID</th>\n",
       "      <th>User_Vector</th>\n",
       "      <th>Count_Movies</th>\n",
       "    </tr>\n",
       "  </thead>\n",
       "  <tbody>\n",
       "    <tr>\n",
       "      <th>0</th>\n",
       "      <td>3</td>\n",
       "      <td>[0.7402061855670103, 0.8045454545454545, 0.754...</td>\n",
       "      <td>634</td>\n",
       "    </tr>\n",
       "    <tr>\n",
       "      <th>1</th>\n",
       "      <td>4</td>\n",
       "      <td>[0.6149122807017544, 0.6966666666666667, 0.644...</td>\n",
       "      <td>233</td>\n",
       "    </tr>\n",
       "    <tr>\n",
       "      <th>2</th>\n",
       "      <td>33</td>\n",
       "      <td>[0.7, 0.6, 0.6, 0.8, 0.7, 0.8, 0.8411764705882...</td>\n",
       "      <td>23</td>\n",
       "    </tr>\n",
       "    <tr>\n",
       "      <th>3</th>\n",
       "      <td>63</td>\n",
       "      <td>[0.95, 0.9400000000000001, 0.8444444444444444,...</td>\n",
       "      <td>40</td>\n",
       "    </tr>\n",
       "    <tr>\n",
       "      <th>4</th>\n",
       "      <td>76</td>\n",
       "      <td>[0.8, 0.0, 0.0, 0.0, 0.0, 0.0, 0.8, 0.8, 0.8, ...</td>\n",
       "      <td>2</td>\n",
       "    </tr>\n",
       "    <tr>\n",
       "      <th>...</th>\n",
       "      <td>...</td>\n",
       "      <td>...</td>\n",
       "      <td>...</td>\n",
       "    </tr>\n",
       "    <tr>\n",
       "      <th>10440</th>\n",
       "      <td>162457</td>\n",
       "      <td>[0.6931034482758621, 0.5375, 0.588235294117647...</td>\n",
       "      <td>343</td>\n",
       "    </tr>\n",
       "    <tr>\n",
       "      <th>10441</th>\n",
       "      <td>162482</td>\n",
       "      <td>[0.6636363636363637, 0.6833333333333333, 0.666...</td>\n",
       "      <td>254</td>\n",
       "    </tr>\n",
       "    <tr>\n",
       "      <th>10442</th>\n",
       "      <td>162516</td>\n",
       "      <td>[0.6846938775510204, 0.6833333333333333, 0.657...</td>\n",
       "      <td>355</td>\n",
       "    </tr>\n",
       "    <tr>\n",
       "      <th>10443</th>\n",
       "      <td>162521</td>\n",
       "      <td>[0.7875, 0.8375, 0.8, 0.8150000000000001, 0.77...</td>\n",
       "      <td>53</td>\n",
       "    </tr>\n",
       "    <tr>\n",
       "      <th>10444</th>\n",
       "      <td>162536</td>\n",
       "      <td>[0.6294117647058823, 0.0, 0.0, 0.8333333333333...</td>\n",
       "      <td>76</td>\n",
       "    </tr>\n",
       "  </tbody>\n",
       "</table>\n",
       "<p>10445 rows × 3 columns</p>\n",
       "</div>"
      ],
      "text/plain": [
       "       UserID                                        User_Vector Count_Movies\n",
       "0           3  [0.7402061855670103, 0.8045454545454545, 0.754...          634\n",
       "1           4  [0.6149122807017544, 0.6966666666666667, 0.644...          233\n",
       "2          33  [0.7, 0.6, 0.6, 0.8, 0.7, 0.8, 0.8411764705882...           23\n",
       "3          63  [0.95, 0.9400000000000001, 0.8444444444444444,...           40\n",
       "4          76  [0.8, 0.0, 0.0, 0.0, 0.0, 0.0, 0.8, 0.8, 0.8, ...            2\n",
       "...       ...                                                ...          ...\n",
       "10440  162457  [0.6931034482758621, 0.5375, 0.588235294117647...          343\n",
       "10441  162482  [0.6636363636363637, 0.6833333333333333, 0.666...          254\n",
       "10442  162516  [0.6846938775510204, 0.6833333333333333, 0.657...          355\n",
       "10443  162521  [0.7875, 0.8375, 0.8, 0.8150000000000001, 0.77...           53\n",
       "10444  162536  [0.6294117647058823, 0.0, 0.0, 0.8333333333333...           76\n",
       "\n",
       "[10445 rows x 3 columns]"
      ]
     },
     "execution_count": 70,
     "metadata": {},
     "output_type": "execute_result"
    }
   ],
   "source": [
    "df_users_3"
   ]
  },
  {
   "cell_type": "markdown",
   "metadata": {},
   "source": [
    "หาความคล้ายคลี่ง ระหว่าง User กับ Movie โดยใช้ Genres เป็นตัวเปรียบเทียบ"
   ]
  },
  {
   "cell_type": "code",
   "execution_count": 71,
   "metadata": {},
   "outputs": [],
   "source": [
    "import numpy as np\n",
    "from sklearn.metrics.pairwise import cosine_similarity"
   ]
  },
  {
   "cell_type": "code",
   "execution_count": 72,
   "metadata": {},
   "outputs": [],
   "source": [
    "def cosine(df_users):\n",
    "    M = vector_movies['Movie_Vector'].to_numpy()\n",
    "    U = df_users['User_Vector'].to_numpy()\n",
    "\n",
    "    M = np.vstack(M)\n",
    "    U = np.vstack(U)\n",
    "\n",
    "    # คำนวณ cosine similarity ระหว่างหนังและผู้ใช้\n",
    "    similarity_matrix = cosine_similarity(M, U)\n",
    "    return similarity_matrix\n",
    "\n",
    "similarity_matrix = cosine(df_users_3)"
   ]
  },
  {
   "cell_type": "code",
   "execution_count": 99,
   "metadata": {},
   "outputs": [],
   "source": [
    "def get_recommendations(User_index, cosine_sim=similarity_matrix):\n",
    "    # Get the pairwsie similarity scores of all movies with that movie\n",
    "    sim_scores = list(enumerate(cosine_sim[:, User_index]))\n",
    "\n",
    "    # Sort the movies based on the similarity scores\n",
    "    sim_scores = sorted(sim_scores, key=lambda x: x[1], reverse=True)\n",
    "\n",
    "    # Get the scores of the 10 most similar movies\n",
    "    sim_scores = sim_scores[:10]\n",
    "\n",
    "    # Get the movie indices\n",
    "    movie_indices = [i[0] for i in sim_scores]\n",
    "\n",
    "    # Return the top 10 most similar movies\n",
    "    index_movies = vector_movies.copy().reset_index()\n",
    "\n",
    "    top_movies_4u = []\n",
    "    # top_movies_4u = [index_movies[index_movies[\"index\"] == index].Title.values[0] for index in movie_indices]\n",
    "    for m_index, score in sim_scores:\n",
    "        m_id = index_movies[index_movies[\"index\"] == m_index].Title.values[0]\n",
    "        top_movies_4u.append([m_id, round(score, 4)])\n",
    "    \n",
    "    return top_movies_4u"
   ]
  },
  {
   "cell_type": "code",
   "execution_count": 100,
   "metadata": {},
   "outputs": [
    {
     "data": {
      "text/plain": [
       "[['Mulan ', 0.7808],\n",
       " ['Enchanted ', 0.7783],\n",
       " ['Who Framed Roger Rabbit? ', 0.7569],\n",
       " ['The Lego Movie ', 0.7366],\n",
       " ['Ice Age: Dawn of the Dinosaurs ', 0.7355],\n",
       " ['Inside Out ', 0.7335],\n",
       " ['Shrek 2 ', 0.7307],\n",
       " ['Shrek ', 0.7298],\n",
       " ['All Dogs Go to Heaven 2 ', 0.7254],\n",
       " ['Tangled ', 0.7247]]"
      ]
     },
     "execution_count": 100,
     "metadata": {},
     "output_type": "execute_result"
    }
   ],
   "source": [
    "my_movie = (get_recommendations(3))\n",
    "my_movie"
   ]
  },
  {
   "cell_type": "code",
   "execution_count": 79,
   "metadata": {},
   "outputs": [],
   "source": [
    "test_user = ratings[ratings[\"UserID\"] == 3].copy()"
   ]
  }
 ],
 "metadata": {
  "kernelspec": {
   "display_name": "Python 3",
   "language": "python",
   "name": "python3"
  },
  "language_info": {
   "codemirror_mode": {
    "name": "ipython",
    "version": 3
   },
   "file_extension": ".py",
   "mimetype": "text/x-python",
   "name": "python",
   "nbconvert_exporter": "python",
   "pygments_lexer": "ipython3",
   "version": "3.10.4"
  },
  "orig_nbformat": 4
 },
 "nbformat": 4,
 "nbformat_minor": 2
}
