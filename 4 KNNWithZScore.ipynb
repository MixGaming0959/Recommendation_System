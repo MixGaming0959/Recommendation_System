{
 "cells": [
  {
   "cell_type": "code",
   "execution_count": 7,
   "metadata": {},
   "outputs": [],
   "source": [
    "import pandas as pd\n",
    "import warnings\n",
    "warnings.filterwarnings('ignore')\n",
    "\n",
    "from Modules.dataEngineering import dataEngineering\n",
    "dataEngineering = dataEngineering()"
   ]
  },
  {
   "cell_type": "code",
   "execution_count": 8,
   "metadata": {},
   "outputs": [
    {
     "data": {
      "text/plain": [
       "(2247560, 3)"
      ]
     },
     "execution_count": 8,
     "metadata": {},
     "output_type": "execute_result"
    }
   ],
   "source": [
    "df_ratings        = dataEngineering.loadRatings()['data']\n",
    "df_ratings.shape"
   ]
  },
  {
   "cell_type": "code",
   "execution_count": 9,
   "metadata": {},
   "outputs": [],
   "source": [
    "from surprise import Dataset, KNNWithZScore, Reader\n",
    "from surprise.model_selection import GridSearchCV\n",
    "\n",
    "# Use movielens-100K\n",
    "reader = Reader(rating_scale=(1, 5))\n",
    "data = Dataset.load_from_df(df_ratings[['UserID', 'MovieID', 'userRating']], reader)"
   ]
  },
  {
   "cell_type": "code",
   "execution_count": 4,
   "metadata": {},
   "outputs": [
    {
     "name": "stdout",
     "output_type": "stream",
     "text": [
      "Computing the cosine similarity matrix...\n",
      "Done computing similarity matrix.\n",
      "Computing the cosine similarity matrix...\n",
      "Done computing similarity matrix.\n",
      "Computing the cosine similarity matrix...\n",
      "Done computing similarity matrix.\n",
      "Computing the cosine similarity matrix...\n",
      "Done computing similarity matrix.\n",
      "Computing the cosine similarity matrix...\n",
      "Done computing similarity matrix.\n",
      "Computing the cosine similarity matrix...\n",
      "Done computing similarity matrix.\n",
      "Computing the cosine similarity matrix...\n",
      "Done computing similarity matrix.\n",
      "Computing the cosine similarity matrix...\n",
      "Done computing similarity matrix.\n",
      "Computing the cosine similarity matrix...\n",
      "Done computing similarity matrix.\n",
      "Computing the cosine similarity matrix...\n",
      "Done computing similarity matrix.\n",
      "Computing the cosine similarity matrix...\n",
      "Done computing similarity matrix.\n",
      "Computing the cosine similarity matrix...\n",
      "Done computing similarity matrix.\n",
      "Computing the pearson similarity matrix...\n",
      "Done computing similarity matrix.\n",
      "Computing the pearson similarity matrix...\n",
      "Done computing similarity matrix.\n",
      "Computing the pearson similarity matrix...\n",
      "Done computing similarity matrix.\n",
      "Computing the pearson similarity matrix...\n",
      "Done computing similarity matrix.\n",
      "Computing the pearson similarity matrix...\n",
      "Done computing similarity matrix.\n",
      "Computing the pearson similarity matrix...\n",
      "Done computing similarity matrix.\n",
      "Computing the pearson similarity matrix...\n",
      "Done computing similarity matrix.\n",
      "Computing the pearson similarity matrix...\n",
      "Done computing similarity matrix.\n",
      "Computing the pearson similarity matrix...\n",
      "Done computing similarity matrix.\n",
      "Computing the pearson similarity matrix...\n",
      "Done computing similarity matrix.\n",
      "Computing the pearson similarity matrix...\n",
      "Done computing similarity matrix.\n",
      "Computing the pearson similarity matrix...\n",
      "Done computing similarity matrix.\n",
      "Computing the cosine similarity matrix...\n",
      "Done computing similarity matrix.\n",
      "Computing the cosine similarity matrix...\n",
      "Done computing similarity matrix.\n",
      "Computing the cosine similarity matrix...\n",
      "Done computing similarity matrix.\n",
      "Computing the cosine similarity matrix...\n",
      "Done computing similarity matrix.\n",
      "Computing the cosine similarity matrix...\n",
      "Done computing similarity matrix.\n",
      "Computing the cosine similarity matrix...\n",
      "Done computing similarity matrix.\n",
      "Computing the cosine similarity matrix...\n",
      "Done computing similarity matrix.\n",
      "Computing the cosine similarity matrix...\n",
      "Done computing similarity matrix.\n",
      "Computing the cosine similarity matrix...\n",
      "Done computing similarity matrix.\n",
      "Computing the cosine similarity matrix...\n",
      "Done computing similarity matrix.\n",
      "Computing the cosine similarity matrix...\n",
      "Done computing similarity matrix.\n",
      "Computing the cosine similarity matrix...\n",
      "Done computing similarity matrix.\n",
      "Computing the pearson similarity matrix...\n",
      "Done computing similarity matrix.\n",
      "Computing the pearson similarity matrix...\n",
      "Done computing similarity matrix.\n",
      "Computing the pearson similarity matrix...\n",
      "Done computing similarity matrix.\n",
      "Computing the pearson similarity matrix...\n",
      "Done computing similarity matrix.\n",
      "Computing the pearson similarity matrix...\n",
      "Done computing similarity matrix.\n",
      "Computing the pearson similarity matrix...\n",
      "Done computing similarity matrix.\n",
      "Computing the pearson similarity matrix...\n",
      "Done computing similarity matrix.\n",
      "Computing the pearson similarity matrix...\n",
      "Done computing similarity matrix.\n",
      "Computing the pearson similarity matrix...\n",
      "Done computing similarity matrix.\n",
      "Computing the pearson similarity matrix...\n",
      "Done computing similarity matrix.\n",
      "Computing the pearson similarity matrix...\n",
      "Done computing similarity matrix.\n",
      "Computing the pearson similarity matrix...\n",
      "Done computing similarity matrix.\n"
     ]
    }
   ],
   "source": [
    "sim_options = {\n",
    "    'name': ['cosine', 'pearson'],\n",
    "    'user_based': [False, True],\n",
    "}\n",
    "bsl_options = {\n",
    "    'method': ['sgd'],\n",
    "    'learning_rate': [0.0005, 0.005]\n",
    "}\n",
    "param_grid = {\n",
    "    'k' : [20, 60],\n",
    "    'sim_options': sim_options,\n",
    "    'bsl_options': bsl_options\n",
    "}\n",
    "\n",
    "# สร้างตัว GridSearchCV สำหรับการค้นหาพารามิเตอร์\n",
    "gs = GridSearchCV(KNNWithZScore, param_grid, measures=['rmse', 'mae'], cv=3)\n",
    "gs.fit(data)"
   ]
  },
  {
   "cell_type": "markdown",
   "metadata": {},
   "source": [
    "681m 19.9s"
   ]
  },
  {
   "cell_type": "code",
   "execution_count": 5,
   "metadata": {},
   "outputs": [
    {
     "data": {
      "text/plain": [
       "{'rmse': 0.7741590459509089, 'mae': 0.5728705028015949}"
      ]
     },
     "metadata": {},
     "output_type": "display_data"
    },
    {
     "data": {
      "text/plain": [
       "{'rmse': {'k': 60,\n",
       "  'sim_options': {'name': 'pearson', 'user_based': False},\n",
       "  'bsl_options': {'method': 'sgd', 'learning_rate': 0.0005}},\n",
       " 'mae': {'k': 20,\n",
       "  'sim_options': {'name': 'pearson', 'user_based': False},\n",
       "  'bsl_options': {'method': 'sgd', 'learning_rate': 0.0005}}}"
      ]
     },
     "metadata": {},
     "output_type": "display_data"
    }
   ],
   "source": [
    "display(gs.best_score, gs.best_params)"
   ]
  },
  {
   "cell_type": "code",
   "execution_count": 6,
   "metadata": {},
   "outputs": [
    {
     "data": {
      "text/plain": [
       "{'k': 60,\n",
       " 'sim_options': {'name': 'pearson', 'user_based': False},\n",
       " 'bsl_options': {'method': 'sgd', 'learning_rate': 0.0005}}"
      ]
     },
     "execution_count": 6,
     "metadata": {},
     "output_type": "execute_result"
    }
   ],
   "source": [
    "option_KNNWithZScore = gs.best_params['rmse']\n",
    "option_KNNWithZScore"
   ]
  },
  {
   "cell_type": "code",
   "execution_count": 11,
   "metadata": {},
   "outputs": [],
   "source": [
    "from surprise.model_selection import train_test_split\n",
    "from surprise import accuracy"
   ]
  },
  {
   "cell_type": "code",
   "execution_count": 12,
   "metadata": {},
   "outputs": [
    {
     "name": "stdout",
     "output_type": "stream",
     "text": [
      "Computing the pearson similarity matrix...\n",
      "Done computing similarity matrix.\n",
      "RMSE: 0.7635\n",
      "MAE:  0.5646\n"
     ]
    }
   ],
   "source": [
    "train_set, test_set = train_test_split(data, test_size=0.2, random_state=42)\n",
    "\n",
    "model_KNNWithZScore = KNNWithZScore(k=40, sim_options=option_KNNWithZScore['sim_options'], bsl_options=option_KNNWithZScore['bsl_options'],)\n",
    "\n",
    "model_KNNWithZScore.fit(train_set)\n",
    "\n",
    "predictions = model_KNNWithZScore.test(test_set)\n",
    "rmse = accuracy.rmse(predictions)\n",
    "mae = accuracy.mae(predictions)"
   ]
  },
  {
   "cell_type": "code",
   "execution_count": 13,
   "metadata": {},
   "outputs": [],
   "source": [
    "def predict_model(pivot):\n",
    "    matrix = pivot.copy()\n",
    "    u_col = 0\n",
    "    ratings = []\n",
    "    for u_id, row in matrix.iterrows():\n",
    "        for m_col, item in enumerate(row):\n",
    "            m_id = matrix.columns[m_col]\n",
    "            if pd.isnull(item):\n",
    "                prep_rating = round(model_KNNWithZScore.predict(u_id, m_id).est, 4)\n",
    "                ratings.append([u_id, m_id, prep_rating])\n",
    "                matrix.iloc[u_col][m_id] = prep_rating\n",
    "        u_col += 1\n",
    "    \n",
    "    recomment_unwatched = pd.DataFrame(ratings, columns=['UserID', 'MovieID', 'prep_Rating'])\n",
    "    return matrix, recomment_unwatched.sort_values(by=['prep_Rating'], ascending=False)"
   ]
  },
  {
   "cell_type": "code",
   "execution_count": 14,
   "metadata": {},
   "outputs": [],
   "source": [
    "df_pivot = df_ratings.pivot(index='UserID', columns='MovieID' , values='userRating')"
   ]
  },
  {
   "cell_type": "code",
   "execution_count": 15,
   "metadata": {},
   "outputs": [],
   "source": [
    "mat, prep = predict_model(df_pivot.iloc[1:2])"
   ]
  },
  {
   "cell_type": "code",
   "execution_count": 16,
   "metadata": {},
   "outputs": [
    {
     "data": {
      "text/html": [
       "<div>\n",
       "<style scoped>\n",
       "    .dataframe tbody tr th:only-of-type {\n",
       "        vertical-align: middle;\n",
       "    }\n",
       "\n",
       "    .dataframe tbody tr th {\n",
       "        vertical-align: top;\n",
       "    }\n",
       "\n",
       "    .dataframe thead th {\n",
       "        text-align: right;\n",
       "    }\n",
       "</style>\n",
       "<table border=\"1\" class=\"dataframe\">\n",
       "  <thead>\n",
       "    <tr style=\"text-align: right;\">\n",
       "      <th>MovieID</th>\n",
       "      <th>1</th>\n",
       "      <th>2</th>\n",
       "      <th>3</th>\n",
       "      <th>4</th>\n",
       "      <th>5</th>\n",
       "      <th>6</th>\n",
       "      <th>7</th>\n",
       "      <th>8</th>\n",
       "      <th>9</th>\n",
       "      <th>10</th>\n",
       "      <th>...</th>\n",
       "      <th>188301</th>\n",
       "      <th>189203</th>\n",
       "      <th>189333</th>\n",
       "      <th>189713</th>\n",
       "      <th>192385</th>\n",
       "      <th>192389</th>\n",
       "      <th>192803</th>\n",
       "      <th>194448</th>\n",
       "      <th>195159</th>\n",
       "      <th>201773</th>\n",
       "    </tr>\n",
       "    <tr>\n",
       "      <th>UserID</th>\n",
       "      <th></th>\n",
       "      <th></th>\n",
       "      <th></th>\n",
       "      <th></th>\n",
       "      <th></th>\n",
       "      <th></th>\n",
       "      <th></th>\n",
       "      <th></th>\n",
       "      <th></th>\n",
       "      <th></th>\n",
       "      <th></th>\n",
       "      <th></th>\n",
       "      <th></th>\n",
       "      <th></th>\n",
       "      <th></th>\n",
       "      <th></th>\n",
       "      <th></th>\n",
       "      <th></th>\n",
       "      <th></th>\n",
       "      <th></th>\n",
       "      <th></th>\n",
       "    </tr>\n",
       "  </thead>\n",
       "  <tbody>\n",
       "    <tr>\n",
       "      <th>4</th>\n",
       "      <td>3.0</td>\n",
       "      <td>3.1325</td>\n",
       "      <td>2.8048</td>\n",
       "      <td>2.0316</td>\n",
       "      <td>2.6317</td>\n",
       "      <td>4.0836</td>\n",
       "      <td>2.9712</td>\n",
       "      <td>2.5843</td>\n",
       "      <td>2.3478</td>\n",
       "      <td>3.0486</td>\n",
       "      <td>...</td>\n",
       "      <td>2.8745</td>\n",
       "      <td>3.7632</td>\n",
       "      <td>4.0</td>\n",
       "      <td>3.8286</td>\n",
       "      <td>3.4638</td>\n",
       "      <td>2.6322</td>\n",
       "      <td>3.0643</td>\n",
       "      <td>3.6144</td>\n",
       "      <td>5.0</td>\n",
       "      <td>3.2295</td>\n",
       "    </tr>\n",
       "  </tbody>\n",
       "</table>\n",
       "<p>1 rows × 3794 columns</p>\n",
       "</div>"
      ],
      "text/plain": [
       "MovieID  1       2       3       4       5       6       7       8       \\\n",
       "UserID                                                                    \n",
       "4           3.0  3.1325  2.8048  2.0316  2.6317  4.0836  2.9712  2.5843   \n",
       "\n",
       "MovieID  9       10      ...  188301  189203  189333  189713  192385  192389  \\\n",
       "UserID                   ...                                                   \n",
       "4        2.3478  3.0486  ...  2.8745  3.7632     4.0  3.8286  3.4638  2.6322   \n",
       "\n",
       "MovieID  192803  194448  195159  201773  \n",
       "UserID                                   \n",
       "4        3.0643  3.6144     5.0  3.2295  \n",
       "\n",
       "[1 rows x 3794 columns]"
      ]
     },
     "execution_count": 16,
     "metadata": {},
     "output_type": "execute_result"
    }
   ],
   "source": [
    "mat"
   ]
  },
  {
   "cell_type": "code",
   "execution_count": 17,
   "metadata": {},
   "outputs": [
    {
     "data": {
      "text/html": [
       "<div>\n",
       "<style scoped>\n",
       "    .dataframe tbody tr th:only-of-type {\n",
       "        vertical-align: middle;\n",
       "    }\n",
       "\n",
       "    .dataframe tbody tr th {\n",
       "        vertical-align: top;\n",
       "    }\n",
       "\n",
       "    .dataframe thead th {\n",
       "        text-align: right;\n",
       "    }\n",
       "</style>\n",
       "<table border=\"1\" class=\"dataframe\">\n",
       "  <thead>\n",
       "    <tr style=\"text-align: right;\">\n",
       "      <th></th>\n",
       "      <th>UserID</th>\n",
       "      <th>MovieID</th>\n",
       "      <th>prep_Rating</th>\n",
       "    </tr>\n",
       "  </thead>\n",
       "  <tbody>\n",
       "    <tr>\n",
       "      <th>1517</th>\n",
       "      <td>4</td>\n",
       "      <td>2959</td>\n",
       "      <td>4.4960</td>\n",
       "    </tr>\n",
       "    <tr>\n",
       "      <th>1532</th>\n",
       "      <td>4</td>\n",
       "      <td>3000</td>\n",
       "      <td>4.4712</td>\n",
       "    </tr>\n",
       "    <tr>\n",
       "      <th>2255</th>\n",
       "      <td>4</td>\n",
       "      <td>5690</td>\n",
       "      <td>4.4496</td>\n",
       "    </tr>\n",
       "    <tr>\n",
       "      <th>2625</th>\n",
       "      <td>4</td>\n",
       "      <td>27773</td>\n",
       "      <td>4.4155</td>\n",
       "    </tr>\n",
       "    <tr>\n",
       "      <th>3533</th>\n",
       "      <td>4</td>\n",
       "      <td>170705</td>\n",
       "      <td>4.3958</td>\n",
       "    </tr>\n",
       "    <tr>\n",
       "      <th>650</th>\n",
       "      <td>4</td>\n",
       "      <td>1203</td>\n",
       "      <td>4.3836</td>\n",
       "    </tr>\n",
       "    <tr>\n",
       "      <th>3518</th>\n",
       "      <td>4</td>\n",
       "      <td>166024</td>\n",
       "      <td>4.3786</td>\n",
       "    </tr>\n",
       "    <tr>\n",
       "      <th>41</th>\n",
       "      <td>4</td>\n",
       "      <td>47</td>\n",
       "      <td>4.3652</td>\n",
       "    </tr>\n",
       "    <tr>\n",
       "      <th>2491</th>\n",
       "      <td>4</td>\n",
       "      <td>7361</td>\n",
       "      <td>4.3481</td>\n",
       "    </tr>\n",
       "    <tr>\n",
       "      <th>1181</th>\n",
       "      <td>4</td>\n",
       "      <td>2288</td>\n",
       "      <td>4.3466</td>\n",
       "    </tr>\n",
       "  </tbody>\n",
       "</table>\n",
       "</div>"
      ],
      "text/plain": [
       "      UserID  MovieID  prep_Rating\n",
       "1517       4     2959       4.4960\n",
       "1532       4     3000       4.4712\n",
       "2255       4     5690       4.4496\n",
       "2625       4    27773       4.4155\n",
       "3533       4   170705       4.3958\n",
       "650        4     1203       4.3836\n",
       "3518       4   166024       4.3786\n",
       "41         4       47       4.3652\n",
       "2491       4     7361       4.3481\n",
       "1181       4     2288       4.3466"
      ]
     },
     "execution_count": 17,
     "metadata": {},
     "output_type": "execute_result"
    }
   ],
   "source": [
    "prep.head(10)"
   ]
  },
  {
   "cell_type": "markdown",
   "metadata": {},
   "source": [
    "Save Model"
   ]
  },
  {
   "cell_type": "code",
   "execution_count": 18,
   "metadata": {},
   "outputs": [
    {
     "data": {
      "text/plain": [
       "['models/model_KNNWithZScore.pkl']"
      ]
     },
     "execution_count": 18,
     "metadata": {},
     "output_type": "execute_result"
    }
   ],
   "source": [
    "import joblib\n",
    "\n",
    "joblib.dump(model_KNNWithZScore, 'models/model_KNNWithZScore.pkl')"
   ]
  },
  {
   "cell_type": "markdown",
   "metadata": {},
   "source": [
    "Save Parameter"
   ]
  },
  {
   "cell_type": "code",
   "execution_count": 19,
   "metadata": {},
   "outputs": [],
   "source": [
    "def human_format(num):\n",
    "    num = float('{:.3g}'.format(num))\n",
    "    magnitude = 0\n",
    "    while abs(num) >= 1000:\n",
    "        magnitude += 1\n",
    "        num /= 1000.0\n",
    "    return '{}{}'.format('{:f}'.format(num).rstrip('0').rstrip('.'), ['', 'K', 'M', 'B', 'T'][magnitude])"
   ]
  },
  {
   "cell_type": "code",
   "execution_count": 20,
   "metadata": {},
   "outputs": [],
   "source": [
    "import json\n",
    "import os\n",
    "\n",
    "folder = human_format(df_ratings.shape[0])\n",
    "\n",
    "# Create directory if directory exists.\n",
    "os.makedirs(f'./Parameter/{folder}/', exist_ok=True) \n",
    "\n",
    "with open(f'./Parameter/option_KNNWithZScore.json', 'w') as f:\n",
    "    json.dump(option_KNNWithZScore, f, indent = 6)\n",
    "\n",
    "with open(f'./Parameter/{folder}/option_KNNWithZScore.json', 'w') as f:\n",
    "    json.dump(option_KNNWithZScore, f, indent = 6)"
   ]
  }
 ],
 "metadata": {
  "kernelspec": {
   "display_name": "Python 3",
   "language": "python",
   "name": "python3"
  },
  "language_info": {
   "codemirror_mode": {
    "name": "ipython",
    "version": 3
   },
   "file_extension": ".py",
   "mimetype": "text/x-python",
   "name": "python",
   "nbconvert_exporter": "python",
   "pygments_lexer": "ipython3",
   "version": "3.10.4"
  },
  "orig_nbformat": 4
 },
 "nbformat": 4,
 "nbformat_minor": 2
}
